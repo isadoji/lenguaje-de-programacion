{
 "cells": [
  {
   "cell_type": "markdown",
   "metadata": {},
   "source": [
    "Estructuras Condicionales\n",
    "Ejercicio 1: Clasificar un número como positivo, negativo o cero.\n",
    "python\n",
    "Copy\n",
    "Edit\n"
   ]
  },
  {
   "cell_type": "code",
   "execution_count": null,
   "metadata": {},
   "outputs": [],
   "source": [
    "# Solución\n",
    "numero = float(input(\"Introduce un número: \"))\n",
    "if numero > 0:\n",
    "    print(\"El número es positivo.\")\n",
    "elif numero < 0:\n",
    "    print(\"El número es negativo.\")\n",
    "else:\n",
    "    print(\"El número es cero.\")\n"
   ]
  },
  {
   "cell_type": "markdown",
   "metadata": {},
   "source": [
    "Ejercicio 2: Clasificar un número como par o impar."
   ]
  },
  {
   "cell_type": "code",
   "execution_count": null,
   "metadata": {},
   "outputs": [],
   "source": [
    "# Solución\n",
    "if numero % 2 == 0:\n",
    "    print(\"El número es par.\")\n",
    "else:\n",
    "    print(\"El número es impar.\")\n"
   ]
  },
  {
   "cell_type": "markdown",
   "metadata": {},
   "source": [
    "Bucles\n",
    "Ejercicio 1: Calcular la suma de los cuadrados de los primeros N números."
   ]
  },
  {
   "cell_type": "code",
   "execution_count": null,
   "metadata": {},
   "outputs": [],
   "source": [
    "# Solución\n",
    "N = int(input(\"Introduce un número: \"))\n",
    "suma_cuadrados = sum([x**2 for x in range(1, N+1)])\n",
    "print(\"La suma de los cuadrados es:\", suma_cuadrados)\n"
   ]
  },
  {
   "cell_type": "markdown",
   "metadata": {},
   "source": [
    "Ejercicio 2: Calcular la serie de Fibonacci hasta un número dado."
   ]
  },
  {
   "cell_type": "code",
   "execution_count": null,
   "metadata": {},
   "outputs": [],
   "source": [
    "# Solución\n",
    "N = int(input(\"Introduce el límite para la serie de Fibonacci: \"))\n",
    "a, b = 0, 1\n",
    "print(\"Serie de Fibonacci:\", end=\" \")\n",
    "while a <= N:\n",
    "    print(a, end=\" \")\n",
    "    a, b = b, a + b\n"
   ]
  },
  {
   "cell_type": "markdown",
   "metadata": {},
   "source": [
    "Listas y Comprensión de Listas\n",
    "Ejercicio 1: Crear una lista con números pares de una lista dada."
   ]
  },
  {
   "cell_type": "code",
   "execution_count": null,
   "metadata": {},
   "outputs": [],
   "source": [
    "# Solución\n",
    "lista_original = [1, 2, 3, 4, 5, 6, 7, 8, 9, 10]\n",
    "pares = [x for x in lista_original if x % 2 == 0]\n",
    "print(\"Números pares:\", pares)\n"
   ]
  },
  {
   "cell_type": "markdown",
   "metadata": {},
   "source": [
    "Ejercicio 2: Generar una lista con las longitudes de palabras en una frase."
   ]
  },
  {
   "cell_type": "code",
   "execution_count": null,
   "metadata": {},
   "outputs": [],
   "source": [
    "# Solución\n",
    "frase = input(\"Introduce una frase: \")\n",
    "longitudes = [len(palabra) for palabra in frase.split()]\n",
    "print(\"Longitudes de palabras:\", longitudes)\n"
   ]
  },
  {
   "cell_type": "markdown",
   "metadata": {},
   "source": [
    "Tuplas, Conjuntos y Diccionarios\n",
    "Ejercicio 1: Almacenar las notas de un estudiante y calcular su promedio."
   ]
  },
  {
   "cell_type": "code",
   "execution_count": null,
   "metadata": {},
   "outputs": [],
   "source": [
    "# Solución\n",
    "notas = [float(input(f\"Introduce la nota {i+1}: \")) for i in range(5)]\n",
    "promedio = sum(notas) / len(notas)\n",
    "print(\"Las notas son:\", notas)\n",
    "print(\"El promedio es:\", promedio)\n"
   ]
  },
  {
   "cell_type": "markdown",
   "metadata": {},
   "source": [
    "Ejercicio 2: Diccionario con constantes físicas más importantes."
   ]
  },
  {
   "cell_type": "code",
   "execution_count": null,
   "metadata": {},
   "outputs": [],
   "source": [
    "# Solución\n",
    "constantes = {\n",
    "    \"Velocidad de la luz (c)\": \"299,792,458 m/s\",\n",
    "    \"Constante de Planck (h)\": \"6.62607015 × 10^-34 J·s\",\n",
    "    \"Carga del electrón (e)\": \"1.602176634 × 10^-19 C\",\n",
    "    \"Masa del electrón (me)\": \"9.10938356 × 10^-31 kg\",\n",
    "    \"Constante de gravitación (G)\": \"6.67430 × 10^-11 m^3·kg^-1·s^-2\"\n",
    "}\n",
    "for constante, valor in constantes.items():\n",
    "    print(f\"{constante}: {valor}\")\n"
   ]
  }
 ],
 "metadata": {
  "language_info": {
   "name": "python"
  }
 },
 "nbformat": 4,
 "nbformat_minor": 2
}
