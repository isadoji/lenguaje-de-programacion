{
 "cells": [
  {
   "cell_type": "markdown",
   "metadata": {},
   "source": [
    "# 7. Introducción a la Programación Orientada a Objetos (OOP)\n",
    "\n",
    "\n",
    "## Objetivos:\n",
    "\n",
    "1. Comprender los conceptos básicos de la OOP: clases, objetos, atributos y métodos.\n",
    "2. Aprender a implementar técnicas de encapsulamiento, herencia, polimorfismo y abstracción.\n",
    "3. Organizar y estructurar el código en módulos y paquetes.\n",
    "4. Aplicar la OOP en la resolución de problemas y en la modelación de sistemas físicos.\n",
    "5. Desarrollar habilidades para crear programas modulares y reutilizables.\n"
   ]
  },
  {
   "cell_type": "markdown",
   "metadata": {},
   "source": [
    "## 1. Conceptos básicos: \n",
    "\n",
    "* **Clase:** Es una plantilla o un modelo que define los atributos y métodos comúnes a todos los objetos de ese tipo. Es una definición abstracta.\n",
    "\n",
    "* **Objeto:** Es una instancia concreta de una clase. Cada objeto tiene su propio estado (valores de atributos) y puede ejecutar los métodos definidos en la clas\n",
    "\n",
    "Las clases permiten crear múltiples objetos con las mismas **propiedades** y **métodos**, pero con diferentes valores para sus atributos.\n",
    "\n",
    "* **Objeto:**  Un objeto se crea cuando se inicializa una instancia de una clase con sus atributos.\n",
    "\n",
    "* **Atributos (o propiedades)**: Son las variables que pertenecen a la clase y describen las características del objeto. Cada objeto creado a partir de la clase tendrá sus propios valores para estos atributos.\n",
    "\n",
    "* **Métodos:** Los métodos son funciones (`def nombre:`) definidas dentro de una clase que describen los comportamientos que los objetos de esa clase pueden realizar. \n"
   ]
  },
  {
   "cell_type": "markdown",
   "metadata": {},
   "source": [
    "## Estructura General de una Clase\n",
    "\n",
    "1. Definición de la Clase:\n",
    "* La clase se define utilizando la palabra clave `class` seguida del `nombre` de la clase y dos puntos.\n",
    "* Por convención, los nombres de las clases en Python se escriben en CamelCase.\n",
    "* **CamelCase** es una convención de nomenclatura en la que las palabras se *concatenan sin espacios*, y cada palabra comienza con una letra *mayúscula*. Esta convención se utiliza comúnmente para nombrar clases en muchos lenguajes de programación, incluyendo Python.\n",
    "\n",
    "2. Docstring de la Clase:\n",
    "* Inmediatamente después de la definición de la clase, se puede incluir un docstring (cadena de documentación) que describe la clase, sus atributos y métodos.\n",
    "\n",
    "3. Método __init__:\n",
    "* El método __init__ es el constructor de la clase y se llama automáticamente cuando se crea una nueva instancia de la clase.\n",
    "* Este método se utiliza para inicializar los atributos de la clase.\n",
    "* Los argumentos del método __init__ son los valores que se pasan al crear una instancia de la clase.\n",
    "\n",
    "4. Atributos:\n",
    "* Los atributos de la clase se definen dentro del método __init__ utilizando self.\n",
    "* `self` es una referencia a la instancia actual de la clase y se utiliza para acceder a los atributos y métodos de la clase.\n",
    "\n",
    "5. Métodos:\n",
    "* Los métodos son funciones definidas dentro de la clase que describen los comportamientos que los objetos de la clase pueden realizar.\n",
    "* Los métodos siempre toman self como su primer argumento, que se utiliza para acceder a los atributos y otros métodos de la clase.\n",
    "\n",
    "**Ejemplo 1:** Operación entre 2 vectores\n"
   ]
  },
  {
   "cell_type": "code",
   "execution_count": null,
   "metadata": {},
   "outputs": [],
   "source": [
    "#definir un vector y sumarlo sin usar la clase Vector\n",
    "v1 = [1, 2, 3]\n",
    "v2 = [2, 3, 4]\n",
    "\n",
    "v3 = [v1[i] + v2[i] for i in range(len(v1))]\n",
    "print(v3)"
   ]
  },
  {
   "cell_type": "code",
   "execution_count": 4,
   "metadata": {},
   "outputs": [],
   "source": [
    "class Vector: # 1. Definir la clase Vector\n",
    "              # 2. Docstring de la clase Vector\n",
    "    \"\"\" \n",
    "    Clase Vector para representar vectores en 2D/3D.\n",
    "\n",
    "    Atributos:\n",
    "    x (float): Componente x del vector.\n",
    "    y (float): Componente y del vector.\n",
    "    z (float): Componente z del vector (opcional, por defecto es 0).\n",
    "\n",
    "    Métodos:\n",
    "    add(self, other): Suma dos vectores.\n",
    "    sub(self, other): Resta dos vectores.\n",
    "    \"\"\"\n",
    "    # 3. Definir el método 'especial' __init__ \n",
    "    \n",
    "    def __init__(self, x, y, z=0): \n",
    "        \"\"\" \n",
    "        4. Constructor __init__\n",
    "        \n",
    "        _init__ es un método especial que se llama cuando \n",
    "        se crea un nuevo objeto para inicializarlo con los \n",
    "        valores dados.\n",
    "\n",
    "        self es una referencia al objeto actual\n",
    "        que se está creando inicializando los atributos del objeto\n",
    "        con los valores de x, y y z con:\n",
    "\n",
    "        self.x, self.y y self.z respectivamente.  \n",
    "        \"\"\"\n",
    "     # 4. Atributos de la clase Vector  \n",
    "        self.x = x\n",
    "        self.y = y\n",
    "        self.z = z\n",
    "\n",
    "    # 5. Todo lo anterios es el metodo __init__ de la clase Vector\n",
    "    \n",
    "    #Defini método 'normal' sumar dos vectores\n",
    "    def sumar(self, other):\n",
    "    \n",
    "        \"\"\"\n",
    "        Suma dos vectores.\n",
    "\n",
    "        Args:\n",
    "        other (Vector): El vector a sumar.\n",
    "        El argumento other hereda la estructura \n",
    "        definida en el método __init__ de la clase. \n",
    "        Esto significa que other es una instancia \n",
    "        de la misma clase y tiene los mismos atributos \n",
    "        que se definen en el método __init__.\n",
    "\n",
    "        Returns:\n",
    "        Vector: Un nuevo vector que es la suma de este \n",
    "        vector y el otro vector.\n",
    "        \"\"\"\n",
    "\n",
    "        return Vector(self.x + other.x, self.y + other.y, self.z + other.z)\n",
    "    \n",
    "    def __str__(self):\n",
    "        \"\"\"\n",
    "        Devuelve una representación en cadena del vector.\n",
    "\n",
    "        Returns:\n",
    "        str: Una cadena que representa el vector.\n",
    "\n",
    "        Por defecto, Python imprime la representación \n",
    "        del objeto que incluye el nombre de la clase y \n",
    "        la dirección de memoria del objeto, a menos que se \n",
    "        defina el método __str__ o __repr__ en la clase.\n",
    "        \"\"\"\n",
    "        return f\"Vector({self.x}, {self.y}, {self.z})\"\n",
    "    \n",
    "   "
   ]
  },
  {
   "cell_type": "code",
   "execution_count": 9,
   "metadata": {},
   "outputs": [
    {
     "name": "stdout",
     "output_type": "stream",
     "text": [
      "\n",
      "        Devuelve una representación en cadena del vector.\n",
      "\n",
      "        Returns:\n",
      "        str: Una cadena que representa el vector.\n",
      "\n",
      "        Por defecto, Python imprime la representación \n",
      "        del objeto que incluye el nombre de la clase y \n",
      "        la dirección de memoria del objeto, a menos que se \n",
      "        defina el método __str__ o __repr__ en la clase.\n",
      "        \n"
     ]
    }
   ],
   "source": [
    "# Acceder a la documentación de la clase y los métodos\n",
    "#print(Vector.__doc__)  # clase\n",
    "#print(Vector.__init__.__doc__)  # método\n",
    "#print(Vector.sumar.__doc__)  # método suma\n",
    "print(Vector.__str__.__doc__)  # método cadena\n"
   ]
  },
  {
   "cell_type": "code",
   "execution_count": 17,
   "metadata": {},
   "outputs": [
    {
     "name": "stdout",
     "output_type": "stream",
     "text": [
      "1 2 0\n",
      "2 3 2\n"
     ]
    }
   ],
   "source": [
    "v1 = Vector(1,2) # objeto v1 de la clase Vector\n",
    "v2 = Vector(2, 3,2) # objeto v2 de la clase Vector\n",
    "# acceder el método __init__ de la clase Vector\n",
    "print(v1.x, v1.y, v1.z) \n",
    "print(v2.x, v2.y, v2.z)"
   ]
  },
  {
   "cell_type": "code",
   "execution_count": 18,
   "metadata": {},
   "outputs": [
    {
     "name": "stdout",
     "output_type": "stream",
     "text": [
      "Vector(3, 5, 2)\n"
     ]
    }
   ],
   "source": [
    "# Sumar los vectores usando el método sumar\n",
    "suma = v1.sumar(v2)\n",
    "print(suma)  \n"
   ]
  },
  {
   "cell_type": "markdown",
   "metadata": {},
   "source": [
    "**En Python**\n",
    "\n",
    "La sobrecarga de operadores permite definir cómo los operadores estándar (como +, -, *, etc.) se comportan cuando se aplican a instancias de una clase. \n",
    "\n",
    "Esto se hace mediante métodos especiales (también llamados métodos mágicos o dunder methods) que tienen nombres específicos y comienzan y terminan con dobles guiones bajos (__).\n",
    "\n",
    "Para el operador de suma (+), el método especial es __add__. Cuando utilizas el operador + entre dos instancias de una clase, Python llama automáticamente al método __add__ de esa clase. De manera similar, para el operador de resta (-), el método especial es __sub__."
   ]
  },
  {
   "cell_type": "code",
   "execution_count": 19,
   "metadata": {},
   "outputs": [
    {
     "data": {
      "text/plain": [
       "['__abs__',\n",
       " '__add__',\n",
       " '__and__',\n",
       " '__bool__',\n",
       " '__ceil__',\n",
       " '__class__',\n",
       " '__delattr__',\n",
       " '__dir__',\n",
       " '__divmod__',\n",
       " '__doc__',\n",
       " '__eq__',\n",
       " '__float__',\n",
       " '__floor__',\n",
       " '__floordiv__',\n",
       " '__format__',\n",
       " '__ge__',\n",
       " '__getattribute__',\n",
       " '__getnewargs__',\n",
       " '__getstate__',\n",
       " '__gt__',\n",
       " '__hash__',\n",
       " '__index__',\n",
       " '__init__',\n",
       " '__init_subclass__',\n",
       " '__int__',\n",
       " '__invert__',\n",
       " '__le__',\n",
       " '__lshift__',\n",
       " '__lt__',\n",
       " '__mod__',\n",
       " '__mul__',\n",
       " '__ne__',\n",
       " '__neg__',\n",
       " '__new__',\n",
       " '__or__',\n",
       " '__pos__',\n",
       " '__pow__',\n",
       " '__radd__',\n",
       " '__rand__',\n",
       " '__rdivmod__',\n",
       " '__reduce__',\n",
       " '__reduce_ex__',\n",
       " '__repr__',\n",
       " '__rfloordiv__',\n",
       " '__rlshift__',\n",
       " '__rmod__',\n",
       " '__rmul__',\n",
       " '__ror__',\n",
       " '__round__',\n",
       " '__rpow__',\n",
       " '__rrshift__',\n",
       " '__rshift__',\n",
       " '__rsub__',\n",
       " '__rtruediv__',\n",
       " '__rxor__',\n",
       " '__setattr__',\n",
       " '__sizeof__',\n",
       " '__str__',\n",
       " '__sub__',\n",
       " '__subclasshook__',\n",
       " '__truediv__',\n",
       " '__trunc__',\n",
       " '__xor__',\n",
       " 'as_integer_ratio',\n",
       " 'bit_count',\n",
       " 'bit_length',\n",
       " 'conjugate',\n",
       " 'denominator',\n",
       " 'from_bytes',\n",
       " 'imag',\n",
       " 'is_integer',\n",
       " 'numerator',\n",
       " 'real',\n",
       " 'to_bytes']"
      ]
     },
     "execution_count": 19,
     "metadata": {},
     "output_type": "execute_result"
    }
   ],
   "source": [
    "\n",
    "dir(int) #dir muestra los metodos de la clase int"
   ]
  },
  {
   "cell_type": "code",
   "execution_count": 20,
   "metadata": {},
   "outputs": [
    {
     "data": {
      "text/plain": [
       "['__class__',\n",
       " '__delattr__',\n",
       " '__dict__',\n",
       " '__dir__',\n",
       " '__doc__',\n",
       " '__eq__',\n",
       " '__format__',\n",
       " '__ge__',\n",
       " '__getattribute__',\n",
       " '__getstate__',\n",
       " '__gt__',\n",
       " '__hash__',\n",
       " '__init__',\n",
       " '__init_subclass__',\n",
       " '__le__',\n",
       " '__lt__',\n",
       " '__module__',\n",
       " '__ne__',\n",
       " '__new__',\n",
       " '__reduce__',\n",
       " '__reduce_ex__',\n",
       " '__repr__',\n",
       " '__setattr__',\n",
       " '__sizeof__',\n",
       " '__str__',\n",
       " '__subclasshook__',\n",
       " '__weakref__',\n",
       " 'sumar']"
      ]
     },
     "execution_count": 20,
     "metadata": {},
     "output_type": "execute_result"
    }
   ],
   "source": [
    "dir(Vector) #dir muestra los metodos de la clase Vector"
   ]
  },
  {
   "cell_type": "code",
   "execution_count": 22,
   "metadata": {},
   "outputs": [],
   "source": [
    "class VectorMagic:\n",
    "    \n",
    "    \"\"\" \n",
    "    Clase Vector para representar vectores en 2D/3D.\n",
    "\n",
    "    Atributos:\n",
    "    x (float): Componente x del vector.\n",
    "    y (float): Componente y del vector.\n",
    "    z (float): Componente z del vector (opcional, por defecto es 0).\n",
    "\n",
    "    Métodos:\n",
    "    __add__(self, other): Suma dos vectores.\n",
    "    __sub__(self, other): Resta dos vectores.\n",
    "    \"\"\"\n",
    "    def __init__(self, x, y, z=0): \n",
    "        \"\"\" \n",
    "        Constructor __init__\n",
    "\n",
    "        Args:\n",
    "        x (float): La componente x del vector.\n",
    "        y (float): La componente y del vector.\n",
    "        z (float, opcional): La componente z del vector.\n",
    "        Por defecto es 0.\n",
    " \n",
    "        \"\"\"\n",
    "        self.x = x\n",
    "        self.y = y\n",
    "        self.z = z\n",
    "\n",
    "    def __add__(self, other):\n",
    "    \n",
    "        \"\"\"\n",
    "        Suma dos vectores.\n",
    "\n",
    "        Args:\n",
    "        other (Vector): El vector a sumar.\n",
    "\n",
    "        Returns:\n",
    "        Vector: Un nuevo vector que es la suma de este vector y el otro vector.\n",
    "        \"\"\"\n",
    "\n",
    "        return Vector(self.x + other.x, self.y + other.y, self.z + other.z)\n",
    "    \n",
    "    def __sub__(self, other):\n",
    "        \"\"\"\n",
    "        Resta dos vectores.\n",
    "\n",
    "        Args:\n",
    "        other (Vector): El vector a restar.\n",
    "\n",
    "        Returns:\n",
    "        Vector: Un nuevo vector que es la resta de este vector y el otro vector.\n",
    "        \"\"\"\n",
    "        return Vector(self.x - other.x, self.y - other.y, self.z - other.z)\n",
    "\n",
    "    "
   ]
  },
  {
   "cell_type": "code",
   "execution_count": 23,
   "metadata": {},
   "outputs": [
    {
     "name": "stdout",
     "output_type": "stream",
     "text": [
      "1 2 0\n"
     ]
    }
   ],
   "source": [
    "v1m = VectorMagic(1, 2) # objeto v1 de la clase Vector\n",
    "# acceder el método __init__ de la clase Vector\n",
    "print(v1m.x, v1m.y, v1m.z) "
   ]
  },
  {
   "cell_type": "code",
   "execution_count": 26,
   "metadata": {},
   "outputs": [
    {
     "name": "stdout",
     "output_type": "stream",
     "text": [
      "3 5 0\n"
     ]
    }
   ],
   "source": [
    "#acceder al método __add__ de la clase Vector\n",
    "v2m = VectorMagic(2, 3)\n",
    "v3m = v1m + v2m\n",
    "print(v3m.x, v3m.y, v3m.z)"
   ]
  },
  {
   "cell_type": "code",
   "execution_count": null,
   "metadata": {},
   "outputs": [
    {
     "name": "stdout",
     "output_type": "stream",
     "text": [
      "-1 -1 0\n"
     ]
    }
   ],
   "source": [
    "v4m = v1m -v2m\n",
    "print(v4m.x, v4m.y, v4m.z)"
   ]
  },
  {
   "cell_type": "markdown",
   "metadata": {},
   "source": [
    "\n",
    "\n",
    "## En resumen:\n",
    "\n",
    "- Una clase en Python se define utilizando la palabra clave class, seguida de un docstring opcional, el método __init__ para inicializar los atributos, y otros métodos que describen los comportamientos de los objetos de la clase. \n",
    "- Los objetos se crean instanciando la clase y se puede interactuar con ellos accediendo a sus atributos y llamando a sus métodos.\n",
    "Cada atributo tiene un valor específico que define el estado del objeto en un momento dado.\n",
    "\n",
    "**Ventajas**\n",
    "\n",
    "- **Modularidad:** Los objetos permiten dividir un programa en partes más pequeñas y manejables.\n",
    "- **Reutilización de Código:** Las clases pueden ser reutilizadas para crear múltiples objetos, lo que reduce la duplicación de código.\n",
    "- **Mantenimiento:** Los cambios en el comportamiento de una clase se reflejan automáticamente en todos los objetos creados a partir de esa clase, lo que facilita el mantenimiento del código.\n",
    "- **Encapsulamiento:** Los objetos pueden ocultar su estado interno y exponer solo lo necesario a través de métodos, lo que mejora la seguridad y la integridad de los datos.\n"
   ]
  },
  {
   "cell_type": "markdown",
   "metadata": {},
   "source": [
    "## 2. Métodos Especiales y Encapsulamiento\n",
    "\n",
    "### **Métodos especiales** \n",
    "- Comienzan y terminan con dos guiones bajos (__). \n",
    "- Estos métodos permiten definir comportamientos específicos para las instancias de las clases. \n",
    "\n",
    "Algunos de los métodos especiales más comunes son:\n",
    "\n",
    "1. __init__(self, ...): conocido como el constructor de la clase. Se llama automáticamente cuando se crea una nueva instancia de la clase. Su propósito principal es inicializar los atributos del objeto recién creado.\n",
    "2. __del__(self): Destructor de la clase. Se llama cuando una instancia de la clase está a punto de ser destruida.\n",
    "3. __str__(self): define el comportamiento de la función `str()` y de la función `print()` cuando se aplican a una instancia de una clase. Su propósito es devolver una representación en forma de cadena del objeto que sea legible y útil para los usuarios.\n",
    "4. __len__(self): Define el comportamiento de la función len() para las instancias de la clase. Devuelve la longitud del objeto.\n",
    "\n",
    "Lista de métodos especiales: https://www.pythonmorsels.com/every-dunder-method/"
   ]
  },
  {
   "cell_type": "code",
   "execution_count": 10,
   "metadata": {},
   "outputs": [
    {
     "name": "stdout",
     "output_type": "stream",
     "text": [
      "5\n",
      "3\n",
      "[1, 2, 4, 5]\n",
      "MiLista([1, 2, 4, 5])\n"
     ]
    }
   ],
   "source": [
    "class MiLista:\n",
    "    def __init__(self, elementos):\n",
    "        self.elementos = elementos\n",
    "\n",
    "    def __len__(self):\n",
    "        return len(self.elementos)\n",
    "\n",
    "    def __getitem__(self, index):\n",
    "        return self.elementos[index]\n",
    "\n",
    "    def __setitem__(self, index, value):\n",
    "        self.elementos[index] = value\n",
    "\n",
    "    def __delitem__(self, index):\n",
    "        del self.elementos[index]\n",
    "\n",
    "    def __str__(self):\n",
    "        return str(self.elementos)\n",
    "\n",
    "    def __repr__(self):\n",
    "        return f\"MiLista({self.elementos})\"\n",
    "\n",
    "# Crear una instancia y probar los métodos\n",
    "mi_lista = MiLista([1, 2, 3, 4, 5])\n",
    "print(len(mi_lista))  # Llama a __len__\n",
    "print(mi_lista[2])  # Llama a __getitem__\n",
    "mi_lista[2] = 10  # Llama a __setitem__\n",
    "del mi_lista[2]  # Llama a __delitem__\n",
    "print(mi_lista)  # Llama a __str__\n",
    "print(repr(mi_lista))  # Llama a __repr__"
   ]
  },
  {
   "cell_type": "markdown",
   "metadata": {},
   "source": [
    "### **Encapsulamiento** \n",
    "\n",
    "- Se refiere a la práctica de restringir el acceso directo a algunos de los componentes de un objeto y solo permitir su modificación a través de métodos específicos. \n",
    "- Esto ayuda a proteger los datos internos del objeto y a mantener la integridad del estado del objeto.\n",
    "\n",
    "**Beneficios del Encapsulamiento**\n",
    "\n",
    "1. **Protección de Datos:** Evita que los datos internos del objeto sean modificados directamente desde fuera de la clase, lo que puede prevenir errores y mantener la consistencia de los datos.\n",
    "2. **Ocultación de la Implementación:** Oculta los detalles de implementación del objeto, permitiendo que los usuarios del objeto interactúen con él a través de una interfaz pública bien definida.\n",
    "3. **Facilidad de Mantenimiento:** Facilita el mantenimiento y la evolución del código, ya que los cambios en la implementación interna no afectan a los usuarios del objeto siempre que la interfaz pública se mantenga constante.\n",
    "4. **Control de Acceso:** Permite controlar cómo se accede y se modifica el estado del objeto, proporcionando métodos específicos para validar y gestionar los cambios.\n",
    "\n",
    "**Implementación**\n",
    "\n",
    "El encapsulamiento se puede lograr utilizando atributos privados y métodos públicos. \n",
    "\n",
    "- Atributos Públicos: Son accesibles desde fuera de la clase. En Python, todos los atributos son públicos por defecto.\n",
    "- Atributos Protegidos: Se indican con un solo guion bajo (_). Es una convención para indicar que no deberían ser accedidos directamente desde fuera de la clase.\n",
    "- Atributos Privados: Se indican con un doble guion bajo (__). Python aplica name mangling para evitar el acceso directo a estos atributos desde fuera de la clase.\n",
    "\n"
   ]
  },
  {
   "cell_type": "code",
   "execution_count": 22,
   "metadata": {},
   "outputs": [],
   "source": [
    "class CuentaBancaria:\n",
    "    \"\"\"\n",
    "    1. nombre_titular es un atributo protegido\n",
    "_   2. saldo es un atributo privado.\n",
    "    3. públicos: depositar, retirar, obtener_saldo, get_nombre_titular y set_nombre_titular \n",
    "        -permiten interactuar con los atributos protegidos y privados.\n",
    "    4, Control de Acceso: Los métodos depositar y retirar controlan cómo se modifica el \n",
    "    saldo de la cuenta, asegurando que las operaciones sean válidas.\n",
    "    5 Getters y Setters: Los métodos get_nombre_titular y set_nombre_titular permiten \n",
    "    acceder y modificar el nombre del titular de manera controlada.\n",
    "    \"\"\"\n",
    "    def __init__(self, numero_cuenta, nombre_titular, saldo_inicial=0.0):\n",
    "        self.numero_cuenta = numero_cuenta # Atributo público\n",
    "        self._nombre_titular = nombre_titular  # Atributo protegido\n",
    "        self.__saldo = saldo_inicial  # Atributo privado\n",
    "\n",
    "    def depositar(self, cantidad):\n",
    "        if cantidad > 0:\n",
    "            self.__saldo += cantidad\n",
    "        else:\n",
    "            print(\"La cantidad a depositar debe ser positiva.\")\n",
    "\n",
    "    def retirar(self, cantidad):\n",
    "        if cantidad > self.__saldo:\n",
    "            print(\"Error: Fondos insuficientes\")\n",
    "        elif cantidad > 0:\n",
    "            self.__saldo -= cantidad\n",
    "        else:\n",
    "            print(\"La cantidad a retirar debe ser positiva.\")\n",
    "\n",
    "    def obtener_saldo(self):\n",
    "        return self.__saldo # Atributo privado\n",
    "\n",
    "    def get_nombre_titular(self):\n",
    "        return self._nombre_titular\n",
    "\n",
    "    def set_nombre_titular(self, nuevo_nombre):\n",
    "        if nuevo_nombre:\n",
    "            self._nombre_titular = nuevo_nombre\n",
    "        else:\n",
    "            print(\"El nombre del titular no puede estar vacío.\")\n",
    "\n",
    "    def __str__(self):\n",
    "        return f\"CuentaBancaria({self.numero_cuenta}, {self._nombre_titular}, {self.__saldo})\"\n",
    "\n"
   ]
  },
  {
   "cell_type": "code",
   "execution_count": 23,
   "metadata": {},
   "outputs": [
    {
     "name": "stdout",
     "output_type": "stream",
     "text": [
      "CuentaBancaria(123456789, Juan Pérez, 1000.0)\n"
     ]
    }
   ],
   "source": [
    "#Crear una instancia y probar los métodos\n",
    "cuenta1 = CuentaBancaria(\"123456789\", \"Juan Pérez\", 1000.0)\n",
    "print(cuenta1)\n"
   ]
  },
  {
   "cell_type": "code",
   "execution_count": 24,
   "metadata": {},
   "outputs": [
    {
     "name": "stdout",
     "output_type": "stream",
     "text": [
      "Saldo actual: 1000.0\n"
     ]
    }
   ],
   "source": [
    "\n",
    "# Intentar acceder a un atributo privado (esto fallará)\n",
    "#print(cuenta1.__saldo)\n",
    "print(f\"Saldo actual: {cuenta1.obtener_saldo()}\")"
   ]
  },
  {
   "cell_type": "code",
   "execution_count": 25,
   "metadata": {},
   "outputs": [
    {
     "name": "stdout",
     "output_type": "stream",
     "text": [
      "Saldo actual: 1300.0\n"
     ]
    }
   ],
   "source": [
    "\n",
    "# Usar métodos públicos para interactuar con los atributos privados\n",
    "cuenta1.depositar(500)\n",
    "cuenta1.retirar(200)\n",
    "print(f\"Saldo actual: {cuenta1.obtener_saldo()}\")\n"
   ]
  },
  {
   "cell_type": "code",
   "execution_count": 26,
   "metadata": {},
   "outputs": [
    {
     "name": "stdout",
     "output_type": "stream",
     "text": [
      "Nuevo titular: isadoji\n"
     ]
    }
   ],
   "source": [
    "\n",
    "# Modificar y obtener el nombre del titular usando getters y setters\n",
    "cuenta1.set_nombre_titular(\"isadoji\")\n",
    "print(f\"Nuevo titular: {cuenta1.get_nombre_titular()}\")"
   ]
  },
  {
   "cell_type": "markdown",
   "metadata": {},
   "source": [
    "## 3. Herencia, Polimorfismo y Abstracción\n",
    "\n",
    "1.  Herencia: reutilización de código y subclases.\n",
    "2.  Polimorfismo: sobreescritura de métodos.\n",
    "3.  Clases abstractas y métodos abstractos (módulo `abc`).\n",
    "\n",
    "# **Ejemplo:** Creación de una jerarquía de clases de instrumentos de medición. Implementar una clase abstracta `Sensor` y subclases para distintos tipos de sensores."
   ]
  },
  {
   "cell_type": "code",
   "execution_count": null,
   "metadata": {},
   "outputs": [],
   "source": [
    "from abc import ABC, abstractmethod\n",
    "\n",
    "class Instrumento(ABC):\n",
    "    def __init__(self, nombre):\n",
    "        self.nombre = nombre\n",
    "\n",
    "    @abstractmethod\n",
    "    def medir(self):\n",
    "        pass\n",
    "\n",
    "class Termometro(Instrumento):\n",
    "    def medir(self):\n",
    "        # Simulación de medición de temperatura\n",
    "        return 25.0\n",
    "\n",
    "class Barometro(Instrumento):\n",
    "    def medir(self):\n",
    "        # Simulación de medición de presión\n",
    "        return 1013.25"
   ]
  },
  {
   "cell_type": "code",
   "execution_count": null,
   "metadata": {},
   "outputs": [],
   "source": [
    "termometro = Termometro(\"Termómetro digital\")\n",
    "barometro = Barometro(\"Barómetro analógico\")\n",
    "print(f\"{termometro.nombre} mide {termometro.medir()} °C\")\n",
    "print(f\"{barometro.nombre} mide {barometro.medir()} hPa\")"
   ]
  },
  {
   "cell_type": "markdown",
   "metadata": {},
   "source": [
    "## 4. Integración de Módulos y Proyecto Final\n",
    "\n",
    "1. Organización del código en módulos y paquetes.\n",
    "2. Importación de módulos estándar y de terceros.\n",
    "3. Buenas prácticas en diseño orientado a objetos.\n",
    "4. Patrones de diseño simples.\n",
    "\n",
    "**Ejemplo:** Simulación de un sistema físico, por ejemplo, el movimiento de un péndulo simple."
   ]
  },
  {
   "cell_type": "code",
   "execution_count": null,
   "metadata": {},
   "outputs": [],
   "source": [
    "import math\n",
    "\n",
    "class Pendulo:\n",
    "    def __init__(self, longitud, gravedad=9.81):\n",
    "        self.longitud = longitud\n",
    "        self.gravedad = gravedad\n",
    "\n",
    "    def periodo(self):\n",
    "        # Fórmula del período para un péndulo simple\n",
    "        return 2 * math.pi * math.sqrt(self.longitud / self.gravedad)\n"
   ]
  },
  {
   "cell_type": "code",
   "execution_count": null,
   "metadata": {},
   "outputs": [],
   "source": [
    "\n",
    "# Prueba de la clase Pendulo\n",
    "pendulo = Pendulo(2)\n",
    "print(f\"El período del péndulo es: {pendulo.periodo():.2f} segundos\")"
   ]
  },
  {
   "cell_type": "markdown",
   "metadata": {},
   "source": [
    "\n",
    "# Referencias\n",
    "\n",
    "1. [NanoEngineer-1](https://github.com/ematvey/NanoEngineer-1/tree/b2822882a6a8a726ee2dfadd7d6796035dabffd3/sim/src/experimental/units.py)\n",
    "2. [Nuxleus](https://github.com/3rdandUrban-dev/Nuxleus/tree/25632fabaa7ff7fc4da33c85dc093a987b092e28/linux-distro/package/nuxleus/Source/Vendor/Microsoft/IronPython-2.0.1/Lib/Kamaelia/UI/OpenGL/Vector.py)\n",
    "3. [SpinDynamicsSimulator](https://github.com/Eunsong/SpinDynamicsSimulator/tree/d848c5f2aab37252263eeb58b7a93560e5986dd3/src/misc/genbonds.py)\n",
    "4. [net2voxel](https://github.com/emblaisdell/net2voxel/tree/5857ae9b4f4f80eb347ce98f77e581eccfc00d6c/net2voxel.py)\n",
    "5. [khromov](https://github.com/python-practice-b02-006/khromov/tree/6b9852a271e27599ed53abedb7552418eb79819e/OOP/3dvectors.py)"
   ]
  }
 ],
 "metadata": {
  "kernelspec": {
   "display_name": "base",
   "language": "python",
   "name": "python3"
  },
  "language_info": {
   "codemirror_mode": {
    "name": "ipython",
    "version": 3
   },
   "file_extension": ".py",
   "mimetype": "text/x-python",
   "name": "python",
   "nbconvert_exporter": "python",
   "pygments_lexer": "ipython3",
   "version": "3.12.8"
  }
 },
 "nbformat": 4,
 "nbformat_minor": 2
}
