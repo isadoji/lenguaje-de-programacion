{
 "cells": [
  {
   "cell_type": "code",
   "execution_count": 6,
   "metadata": {},
   "outputs": [
    {
     "name": "stdout",
     "output_type": "stream",
     "text": [
      "Hola, isadoji!\n"
     ]
    }
   ],
   "source": [
    "# 1: Saludo Personalizado\n",
    "\n",
    "nombre = input(\"Introduce tu nombre: \")\n",
    "print(f\"Hola, {nombre}!\")"
   ]
  },
  {
   "cell_type": "code",
   "execution_count": 7,
   "metadata": {},
   "outputs": [
    {
     "name": "stdout",
     "output_type": "stream",
     "text": [
      "La suma de 4.0 y 5676889.0 es 5676893.0\n"
     ]
    }
   ],
   "source": [
    "# 2: Suma de Dos Números\n",
    "\n",
    "num1 = float(input(\"Introduce el primer número: \"))\n",
    "num2 = float(input(\"Introduce el segundo número: \"))\n",
    "suma = num1 + num2\n",
    "print(f\"La suma de {num1} y {num2} es {suma}\")"
   ]
  },
  {
   "cell_type": "code",
   "execution_count": 8,
   "metadata": {},
   "outputs": [
    {
     "name": "stdout",
     "output_type": "stream",
     "text": [
      "La temperatura en grados Fahrenheit es 158.0\n"
     ]
    }
   ],
   "source": [
    "# 3: Conversión de Temperatura\n",
    "\n",
    "celsius = float(input(\"Introduce la temperatura en grados Celsius: \"))\n",
    "fahrenheit = (9/5) * celsius + 32\n",
    "print(f\"La temperatura en grados Fahrenheit es {fahrenheit}\")"
   ]
  },
  {
   "cell_type": "code",
   "execution_count": 9,
   "metadata": {},
   "outputs": [
    {
     "name": "stdout",
     "output_type": "stream",
     "text": [
      "El área del círculo es 78.53981633974483\n"
     ]
    }
   ],
   "source": [
    "# 4: Cálculo del Área de un Círculo\n",
    "import math\n",
    "radio = float(input(\"Introduce el radio del círculo: \"))\n",
    "area = math.pi * (radio ** 2)\n",
    "print(f\"El área del círculo es {area}\")\n"
   ]
  },
  {
   "cell_type": "code",
   "execution_count": 10,
   "metadata": {},
   "outputs": [
    {
     "name": "stdout",
     "output_type": "stream",
     "text": [
      "Las notas son: [5.0, 78.0, 3.0, 8.0, 9.0]\n",
      "El promedio es: 20.6\n"
     ]
    }
   ],
   "source": [
    "# 5: Promedio de Notas\n",
    "\n",
    "notas = [float(input(f\"Introduce la nota {i+1}: \")) for i in range(5)]\n",
    "promedio = sum(notas) / len(notas)\n",
    "print(\"Las notas son:\", notas)\n",
    "print(\"El promedio es:\", promedio)"
   ]
  },
  {
   "cell_type": "code",
   "execution_count": 11,
   "metadata": {},
   "outputs": [
    {
     "name": "stdout",
     "output_type": "stream",
     "text": [
      "La distancia en millas es 0.0\n"
     ]
    }
   ],
   "source": [
    "# 6: Conversión de Unidades\n",
    "\n",
    "km = float(input(\"Introduce la distancia en kilómetros: \"))\n",
    "millas = km * 0.621371\n",
    "print(f\"La distancia en millas es {millas}\")"
   ]
  },
  {
   "cell_type": "code",
   "execution_count": 13,
   "metadata": {},
   "outputs": [
    {
     "name": "stdout",
     "output_type": "stream",
     "text": [
      "El perímetro del rectángulo es 12.0\n"
     ]
    }
   ],
   "source": [
    "# 7: Cálculo del Perímetro de un Rectángulo\n",
    "\n",
    "longitud = float(input(\"Introduce la longitud del rectángulo: \"))\n",
    "ancho = float(input(\"Introduce el ancho del rectángulo: \"))\n",
    "perimetro = 2 * (longitud + ancho)\n",
    "print(f\"El perímetro del rectángulo es {perimetro}\")\n"
   ]
  },
  {
   "cell_type": "code",
   "execution_count": 14,
   "metadata": {},
   "outputs": [
    {
     "name": "stdout",
     "output_type": "stream",
     "text": [
      "El volumen de la esfera es 523.5987755982989\n"
     ]
    }
   ],
   "source": [
    "# 8: Cálculo del Volumen de una Esfera\n",
    "\n",
    "import math\n",
    "radio = float(input(\"Introduce el radio de la esfera: \"))\n",
    "volumen = (4/3) * math.pi * (radio ** 3)\n",
    "print(f\"El volumen de la esfera es {volumen}\")"
   ]
  },
  {
   "cell_type": "code",
   "execution_count": 15,
   "metadata": {},
   "outputs": [
    {
     "name": "stdout",
     "output_type": "stream",
     "text": [
      "Tu IMC es 9.0\n"
     ]
    }
   ],
   "source": [
    "# 9: Cálculo del Índice de Masa Corporal (IMC)\n",
    "\n",
    "peso = float(input(\"Introduce tu peso en kg: \"))\n",
    "altura = float(input(\"Introduce tu altura en metros: \"))\n",
    "imc = peso / (altura ** 2)\n",
    "print(f\"Tu IMC es {imc}\")"
   ]
  },
  {
   "cell_type": "code",
   "execution_count": 16,
   "metadata": {},
   "outputs": [
    {
     "name": "stdout",
     "output_type": "stream",
     "text": [
      "89 minutos son 1 horas y 29 minutos\n"
     ]
    }
   ],
   "source": [
    "#  10: Conversión de Tiempo\n",
    "\n",
    "minutos = int(input(\"Introduce el tiempo en minutos: \"))\n",
    "horas = minutos // 60\n",
    "minutos_restantes = minutos % 60\n",
    "print(f\"{minutos} minutos son {horas} horas y {minutos_restantes} minutos\")"
   ]
  }
 ],
 "metadata": {
  "kernelspec": {
   "display_name": "base",
   "language": "python",
   "name": "python3"
  },
  "language_info": {
   "codemirror_mode": {
    "name": "ipython",
    "version": 3
   },
   "file_extension": ".py",
   "mimetype": "text/x-python",
   "name": "python",
   "nbconvert_exporter": "python",
   "pygments_lexer": "ipython3",
   "version": "3.12.8"
  }
 },
 "nbformat": 4,
 "nbformat_minor": 2
}
