{
 "cells": [
  {
   "cell_type": "code",
   "execution_count": 19,
   "metadata": {},
   "outputs": [
    {
     "name": "stdout",
     "output_type": "stream",
     "text": [
      "The jupyter_black extension is already loaded. To reload it, use:\n",
      "  %reload_ext jupyter_black\n"
     ]
    }
   ],
   "source": [
    "%load_ext jupyter_black"
   ]
  },
  {
   "cell_type": "markdown",
   "metadata": {},
   "source": [
    "# PYTHON\n",
    "\n",
    "Lenguaje de programación no compilado. Se usa:\n",
    "\n",
    "- Cuando es importante poder hacer cosas de manera interactiva\n",
    "- Cuando no importa la velocidad del código\n",
    "\n",
    "- Mucho mas sencillo que lenguajes tradicionales. \n",
    "- Es un lenguaje de muy alto nivel, muy poderoso\n",
    "- Filosofı́a ”baterı́as incluidas”: viene con muchas librerı́as para facilitar tareas de diversos\n",
    "tipos\n",
    "\n",
    "1. Información: http://www.python.org\n",
    "2. Tutorial básico: http://docs.python.org/tut/\n",
    "\n",
    "Interprete se llama python3 (versión mas avanzada) o ipython3 (i = interactivo)"
   ]
  },
  {
   "cell_type": "markdown",
   "metadata": {},
   "source": [
    "## Instalación de python\n",
    "\n",
    "$ sudo apt-get install python3 python3-pip\n",
    "\n",
    "$ python3 -m pip install numpy scipy matplotlib jupyter timetable pandas"
   ]
  },
  {
   "cell_type": "markdown",
   "metadata": {},
   "source": [
    "## Jupyter\n",
    "\n",
    "__Jupyter__ es un interprete de __python__ (entre otros lenguajes de programación) que ofrece una \n",
    "shell interactiva vía web, a la que podemos acceder desde un navegador\n",
    "\n",
    "$ jupyter notebook\n",
    "\n",
    "o pueden utilizar __Jupyter__ sin instalar nada en [Binder](http://jupyter.org/try) o en \n",
    "[Colaboratory](https://colab.research.google.com/)"
   ]
  },
  {
   "cell_type": "code",
   "execution_count": 20,
   "metadata": {},
   "outputs": [
    {
     "name": "stdout",
     "output_type": "stream",
     "text": [
      "Python 3.12.8\n"
     ]
    }
   ],
   "source": [
    "# Verifica la versión de Python instalada\n",
    "!python --version"
   ]
  },
  {
   "cell_type": "markdown",
   "metadata": {},
   "source": [
    "## PEP8\n",
    "\n",
    "`jupyter-black` es una extensión para Jupyter Notebook que permite formateo de código que sigue una serie de convenciones de estilo para hacer que el código sea más legible y consistente.\n",
    "\n",
    "* Características de jupyter-black\n",
    "\n",
    "1. *Formateo Automático:* Permite formatear el código en las celdas de Jupyter Notebook automáticamente.\n",
    "2. *Consistencia:* Asegura que el código sigue un estilo consistente, lo que facilita la lectura y el mantenimiento.\n",
    "3. *Integración con Jupyter:* Se integra directamente en Jupyter Notebook, lo que permite formatear el código sin salir del entorno de Jupyter.\n",
    "\n",
    "### Instalación de jupyter-black\n",
    "    conda install jupyter-black\n",
    "\n",
    "### Uso \n",
    "    %load_ext jupyter_black\n",
    "    %black #en la celda\n"
   ]
  },
  {
   "cell_type": "markdown",
   "metadata": {},
   "source": [
    "## Primer programa en Python:"
   ]
  },
  {
   "cell_type": "code",
   "execution_count": 21,
   "metadata": {},
   "outputs": [
    {
     "name": "stdout",
     "output_type": "stream",
     "text": [
      "Hola, Mundo\n"
     ]
    }
   ],
   "source": [
    "## Primer programa en Python: \"Hola, Mundo\"\n",
    "print(\"Hola, Mundo\")"
   ]
  },
  {
   "cell_type": "markdown",
   "metadata": {},
   "source": [
    "\n",
    "### Función `print`\n",
    "\n",
    "* La función print es una función incorporada en Python que se utiliza para mostrar \n",
    "información en la consola. \n",
    "* La sintaxis básica es:\n",
    "\n",
    "`print(objeto1, objeto2, ..., sep=' ', end='\\n', file=sys.stdout, flush=False)`\n",
    "\n",
    "Cadena de Texto\n",
    "\n",
    "* \"Hola, Mundo\" es una cadena de texto (string) que se pasa como argumento a la función print. \n",
    "* Las cadenas de texto en Python se delimitan con comillas simples (') o dobles (\").\n",
    "\n",
    "\n",
    "### Llamada a la Función print:\n",
    "\n",
    "La función print es llamada con el argumento \"Hola, Mundo\".\n",
    "\n",
    "### Impresión en la Consola:\n",
    "\n",
    "* La función print toma el argumento y lo muestra en la consola.\n",
    "* Por defecto, print añade un salto de línea  al final de la salida, por lo que \n",
    "cualquier salida posterior aparecerá en una nueva línea."
   ]
  },
  {
   "cell_type": "markdown",
   "metadata": {},
   "source": [
    "### Parámetros de una función:\n",
    "\n",
    "**¿Qué es una función?**\n",
    "\n",
    "* Una función en programación es un bloque de código reutilizable que realiza una tarea específica. \n",
    "* Las funciones permiten organizar el código en módulos más pequeños y manejables, facilitando \n",
    "la lectura, el mantenimiento y la reutilización del código.\n",
    "\n",
    "Características de una Función\n",
    "\n",
    "1. **Nombre**: Cada función tiene un nombre único que se utiliza para llamarla.\n",
    "2. **Parámetros**: Las funciones pueden aceptar uno o más parámetros (también llamados argumentos) \n",
    "que proporcionan información adicional necesaria para realizar su tarea.\n",
    "3. **Cuerpo**: El cuerpo de la función contiene las instrucciones que definen lo que hace la función.\n",
    "4. **Valor de Retorno**: Las funciones pueden devolver un valor como resultado de su ejecución."
   ]
  },
  {
   "cell_type": "code",
   "execution_count": 22,
   "metadata": {},
   "outputs": [],
   "source": [
    "# Definición de una función llamada 'saludar'\n",
    "def saludar(nombre):\n",
    "    \"\"\"\n",
    "    Esta función toma un nombre como parámetro y\n",
    "    imprime un saludo personalizado.\n",
    "    \"\"\"\n",
    "    print(f\"Hola, {nombre}!\")"
   ]
  },
  {
   "cell_type": "code",
   "execution_count": 23,
   "metadata": {},
   "outputs": [
    {
     "name": "stdout",
     "output_type": "stream",
     "text": [
      "Hola, Mundo!\n"
     ]
    }
   ],
   "source": [
    "# Llamada a la función 'saludar' con el argumento 'Mundo'\n",
    "saludar(\"Mundo\")"
   ]
  },
  {
   "cell_type": "markdown",
   "metadata": {},
   "source": [
    "## Parámetros de la Función print\n",
    "\n",
    "La función `print` tiene varios parámetros opcionales que permiten personalizar su comportamiento:\n",
    "\n",
    "* `sep`: Especifica el separador entre los objetos a imprimir. Por defecto es un espacio (' ').\n"
   ]
  },
  {
   "cell_type": "code",
   "execution_count": 24,
   "metadata": {},
   "outputs": [
    {
     "name": "stdout",
     "output_type": "stream",
     "text": [
      "Hola, Mundo\n"
     ]
    }
   ],
   "source": [
    "print(\"Hola\", \"Mundo\", sep=\", \")"
   ]
  },
  {
   "cell_type": "markdown",
   "metadata": {},
   "source": [
    "* `end`: Especifica lo que se añade al final de la salida. Por defecto es un salto de línea.\n"
   ]
  },
  {
   "cell_type": "code",
   "execution_count": 25,
   "metadata": {},
   "outputs": [
    {
     "name": "stdout",
     "output_type": "stream",
     "text": [
      "Hola, Mundo!!!"
     ]
    }
   ],
   "source": [
    "print(\"Hola, Mundo\", end=\"!!!\")\n",
    "# Salida: Hola, Mundo!!!"
   ]
  },
  {
   "cell_type": "markdown",
   "metadata": {},
   "source": [
    "* `file`: Especifica el archivo o flujo donde se enviará la salida. Por defecto es sys.stdout (la consola)."
   ]
  },
  {
   "cell_type": "code",
   "execution_count": 26,
   "metadata": {},
   "outputs": [],
   "source": [
    "# Guardar la salida en un archivo\n",
    "with open(\"hola_mundo.txt\", \"w\") as archivo:\n",
    "    print(\"Hola, Mundo\", file=archivo)"
   ]
  },
  {
   "cell_type": "markdown",
   "metadata": {},
   "source": [
    "* `flush`: Especifica si se debe forzar el vaciado del búfer de salida. Por defecto es False."
   ]
  },
  {
   "cell_type": "code",
   "execution_count": 27,
   "metadata": {},
   "outputs": [
    {
     "name": "stdout",
     "output_type": "stream",
     "text": [
      "Hola, Mundo\n"
     ]
    }
   ],
   "source": [
    "print(\"Hola, Mundo\", flush=True)"
   ]
  }
 ],
 "metadata": {
  "kernelspec": {
   "display_name": "Python 3 (ipykernel)",
   "language": "python",
   "name": "python3"
  },
  "language_info": {
   "codemirror_mode": {
    "name": "ipython",
    "version": 3
   },
   "file_extension": ".py",
   "mimetype": "text/x-python",
   "name": "python",
   "nbconvert_exporter": "python",
   "pygments_lexer": "ipython3",
   "version": "3.12.3"
  }
 },
 "nbformat": 4,
 "nbformat_minor": 2
}
