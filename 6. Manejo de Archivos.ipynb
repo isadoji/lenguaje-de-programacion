{
 "cells": [
  {
   "cell_type": "code",
   "execution_count": 1,
   "metadata": {},
   "outputs": [],
   "source": [
    "%load_ext jupyter_black"
   ]
  },
  {
   "cell_type": "markdown",
   "metadata": {},
   "source": [
    "# Manejo de Archivos\n",
    "\n",
    "## 6.1 Lectura y escritura de archivos\n",
    "\n",
    "En Python, la lectura y escritura de archivos se puede realizar utilizando las funciones integradas `open()`, `read()`, `write()`,`close()` entre otras. \n"
   ]
  },
  {
   "cell_type": "code",
   "execution_count": 2,
   "metadata": {},
   "outputs": [
    {
     "name": "stdout",
     "output_type": "stream",
     "text": [
      "Lorem ipsum dolor sit amet, consectetur adipiscing elit. Nulla est purus, ultrices in porttitor\n",
      "in, accumsan non quam. Nam consectetur porttitor rhoncus. Curabitur eu est et leo feugiat\n",
      "auctor vel quis lorem. Ut et ligula dolor, sit amet consequat lorem. Aliquam porta eros sed\n",
      "velit imperdiet egestas. Maecenas tempus eros ut diam ullamcorper id dictum libero\n",
      "tempor. Donec quis augue quis magna condimentum lobortis. Quisque imperdiet ipsum vel\n",
      "magna viverra rutrum. Cras viverra molestie urna, vitae vestibulum turpis varius id.\n",
      "Vestibulum mollis, arcu iaculis bibendum varius, velit sapien blandit metus, ac posuere lorem\n",
      "nulla ac dolor. Maecenas urna elit, tincidunt in dapibus nec, vehicula eu dui. Duis lacinia\n",
      "fringilla massa. Cum sociis natoque penatibus et magnis dis parturient montes, nascetur\n",
      "ridiculus mus. Ut consequat ultricies est, non rhoncus mauris congue porta. Vivamus viverra\n",
      "suscipit felis eget condimentum. Cum sociis natoque penatibus et magnis dis parturient\n",
      "montes, nascetur ridiculus mus. Integer bibendum sagittis ligula, non faucibus nulla volutpat\n",
      "vitae. Cum sociis natoque penatibus et magnis dis parturient montes, nascetur ridiculus mus.  \n",
      "In aliquet quam et velit bibendum accumsan. Cum sociis natoque penatibus et magnis dis\n",
      "parturient montes, nascetur ridiculus mus. Vestibulum vitae ipsum nec arcu semper\n",
      "adipiscing at ac lacus. Praesent id pellentesque orci. Morbi congue viverra nisl nec rhoncus.\n",
      "Integer mattis, ipsum a tincidunt commodo, lacus arcu elementum elit, at mollis eros ante ac\n",
      "risus. In volutpat, ante at pretium ultricies, velit magna suscipit enim, aliquet blandit massa\n",
      "orci nec lorem. Nulla facilisi. Duis eu vehicula arcu. Nulla facilisi. Maecenas pellentesque\n",
      "volutpat felis, quis tristique ligula luctus vel. Sed nec mi eros. Integer augue enim, sollicitudin\n",
      "ullamcorper mattis eget, aliquam in est. Morbi sollicitudin libero nec augue dignissim ut\n",
      "consectetur dui volutpat. Nulla facilisi. Mauris egestas vestibulum neque cursus tincidunt.\n",
      "Donec sit amet pulvinar orci.  \n",
      "Quisque volutpat pharetra tincidunt. Fusce sapien arcu, molestie eget varius egestas,\n",
      "faucibus ac urna. Sed at nisi in velit egestas aliquam ut a felis. Aenean malesuada iaculis nisl,\n",
      "ut tempor lacus egestas consequat. Nam nibh lectus, gravida sed egestas ut, feugiat quis\n",
      "dolor. Donec eu leo enim, non laoreet ante. Morbi dictum tempor vulputate. Phasellus\n",
      "ultricies risus vel augue sagittis euismod. Vivamus tincidunt placerat nisi in aliquam. Cras\n",
      "quis mi ac nunc pretium aliquam. Aenean elementum erat ac metus commodo rhoncus.\n",
      "Aliquam nulla augue, porta non sagittis quis, accumsan vitae sem. Phasellus id lectus tortor,\n",
      "eget pulvinar augue. Etiam eget velit ac purus fringilla blandit. Donec odio odio, sagittis sed\n",
      "iaculis sed, consectetur eget sem. Lorem ipsum dolor sit amet, consectetur adipiscing elit.\n",
      "Maecenas accumsan velit vel turpis rutrum in sodales diam placerat.  \n",
      "Quisque luctus ullamcorper velit sit amet lobortis. Etiam ligula felis, vulputate quis rhoncus\n",
      "nec, fermentum eget odio. Vivamus vel ipsum ac augue sodales mollis euismod nec tellus.\n",
      "Fusce et augue rutrum nunc semper vehicula vel semper nisl. Nam laoreet euismod quam at\n",
      "varius. Sed aliquet auctor nibh. Curabitur malesuada fermentum lacus vel accumsan. Duis\n",
      "ornare scelerisque nulla, ac pulvinar ligula tempus sit amet. In placerat nulla ac ante\n",
      "scelerisque posuere. Phasellus at ante felis. Sed hendrerit risus a metus posuere rutrum.\n",
      "Phasellus eu augue dui. Proin in vestibulum ipsum. Aenean accumsan mollis sapien, ut\n",
      "eleifend sem blandit at. Vivamus luctus mi eget lorem lobortis pharetra. Phasellus at tortor\n",
      "quam, a volutpat purus. Etiam sollicitudin arcu vel elit bibendum et imperdiet risus tincidunt.\n",
      "Etiam elit velit, posuere ut pulvinar ac, condimentum eget justo. Fusce a erat velit. Vivamus\n",
      "imperdiet ultrices orci in hendrerit.  \n"
     ]
    }
   ],
   "source": [
    "# Abrir un archivo en modo de lectura\n",
    "archivo = open(\"lorem_ipsum.txt\", \"r\")\n",
    "\n",
    "# Leer el contenido del archivo\n",
    "contenido = archivo.read()\n",
    "print(contenido)\n",
    "\n",
    "# Cerrar el archivo\n",
    "archivo.close()"
   ]
  },
  {
   "cell_type": "markdown",
   "metadata": {},
   "source": [
    "<div class=\"alert alert-block alert-success\"> \n",
    "\n",
    "### `open()`\n",
    "\n",
    "- Se utiliza para abrir un archivo. \n",
    "- Es una función integrada que permite interactuar con archivos en el sistema de archivos. \n",
    "- Generalmente se proporciona al menos un argumento: el nombre del archivo que se desea abrir. Este puede ser una ruta relativa o absoluta al archivo.\n",
    "\n",
    "**Argumentos de la Función `open`**\n",
    "\n",
    "1. **Nombre del archivo:** El primer argumento es una cadena que especifica el nombre del archivo que se desea abrir.\n",
    "2. **Modo de apertura:** El segundo argumento (opcional) especifica el modo en el que se desea abrir el archivo. Los modos son:\n",
    "\n",
    "- `r`: Modo de lectura (por defecto). Abre el archivo para leerlo.\n",
    "- `w`: Modo de escritura. Crea un nuevo archivo o trunca uno existente.\n",
    "- `a`: Modo de anexado. Escribe datos al final del archivo.\n",
    "- `b`: Modo binario. Se usa para archivos no textuales.\n",
    "- `t`: Modo de texto (por defecto). Se usa para archivos textuales.\n",
    "\n",
    "Ejemplo:\n",
    "</div>"
   ]
  },
  {
   "cell_type": "code",
   "execution_count": 3,
   "metadata": {},
   "outputs": [
    {
     "name": "stdout",
     "output_type": "stream",
     "text": [
      "<_io.TextIOWrapper name='lorem_ipsum.txt' mode='r' encoding='UTF-8'>\n"
     ]
    }
   ],
   "source": [
    "file = open(\"lorem_ipsum.txt\", \"r\")\n",
    "print(file)  # Leer los primeros 10 caracteres"
   ]
  },
  {
   "cell_type": "markdown",
   "metadata": {},
   "source": [
    "<div class=\"alert alert-block alert-success\"> \n",
    "\n",
    "### `read()`\n",
    "\n",
    "- Se utiliza para leer el contenido de un archivo abierto. \n",
    "- Es un método del objeto archivo que se obtiene al abrir un archivo usando la función open. \n",
    "- La función read lee todo el contenido del archivo y lo devuelve como una cadena de texto.\n",
    "\n",
    "**Uso de la Función `read`**\n",
    "\n",
    "1. **Abrir el archivo:** Primero, se debe abrir el archivo usando la función open.\n",
    "2. **Leer el contenido:** Luego, se llama al método read del objeto archivo para leer su contenido.\n",
    "3. **Cerrar el archivo:** Finalmente, se debe cerrar el archivo para liberar los recursos del sistema.\n",
    "</div>"
   ]
  },
  {
   "cell_type": "code",
   "execution_count": 4,
   "metadata": {},
   "outputs": [
    {
     "name": "stdout",
     "output_type": "stream",
     "text": [
      "Lorem ipsum dolor sit amet, consectetur adipiscing elit. Nulla est purus, ultrices in porttitor\n",
      "in, accumsan non quam. Nam consectetur porttitor rhoncus. Curabitur eu est et leo feugiat\n",
      "auctor vel quis lorem. Ut et ligula dolor, sit amet consequat lorem. Aliquam porta eros sed\n",
      "velit imperdiet egestas. Maecenas tempus eros ut diam ullamcorper id dictum libero\n",
      "tempor. Donec quis augue quis magna condimentum lobortis. Quisque imperdiet ipsum vel\n",
      "magna viverra rutrum. Cras viverra molestie urna, vitae vestibulum turpis varius id.\n",
      "Vestibulum mollis, arcu iaculis bibendum varius, velit sapien blandit metus, ac posuere lorem\n",
      "nulla ac dolor. Maecenas urna elit, tincidunt in dapibus nec, vehicula eu dui. Duis lacinia\n",
      "fringilla massa. Cum sociis natoque penatibus et magnis dis parturient montes, nascetur\n",
      "ridiculus mus. Ut consequat ultricies est, non rhoncus mauris congue porta. Vivamus viverra\n",
      "suscipit felis eget condimentum. Cum sociis natoque penatibus et magnis dis parturient\n",
      "montes, nascetur ridiculus mus. Integer bibendum sagittis ligula, non faucibus nulla volutpat\n",
      "vitae. Cum sociis natoque penatibus et magnis dis parturient montes, nascetur ridiculus mus.  \n",
      "In aliquet quam et velit bibendum accumsan. Cum sociis natoque penatibus et magnis dis\n",
      "parturient montes, nascetur ridiculus mus. Vestibulum vitae ipsum nec arcu semper\n",
      "adipiscing at ac lacus. Praesent id pellentesque orci. Morbi congue viverra nisl nec rhoncus.\n",
      "Integer mattis, ipsum a tincidunt commodo, lacus arcu elementum elit, at mollis eros ante ac\n",
      "risus. In volutpat, ante at pretium ultricies, velit magna suscipit enim, aliquet blandit massa\n",
      "orci nec lorem. Nulla facilisi. Duis eu vehicula arcu. Nulla facilisi. Maecenas pellentesque\n",
      "volutpat felis, quis tristique ligula luctus vel. Sed nec mi eros. Integer augue enim, sollicitudin\n",
      "ullamcorper mattis eget, aliquam in est. Morbi sollicitudin libero nec augue dignissim ut\n",
      "consectetur dui volutpat. Nulla facilisi. Mauris egestas vestibulum neque cursus tincidunt.\n",
      "Donec sit amet pulvinar orci.  \n",
      "Quisque volutpat pharetra tincidunt. Fusce sapien arcu, molestie eget varius egestas,\n",
      "faucibus ac urna. Sed at nisi in velit egestas aliquam ut a felis. Aenean malesuada iaculis nisl,\n",
      "ut tempor lacus egestas consequat. Nam nibh lectus, gravida sed egestas ut, feugiat quis\n",
      "dolor. Donec eu leo enim, non laoreet ante. Morbi dictum tempor vulputate. Phasellus\n",
      "ultricies risus vel augue sagittis euismod. Vivamus tincidunt placerat nisi in aliquam. Cras\n",
      "quis mi ac nunc pretium aliquam. Aenean elementum erat ac metus commodo rhoncus.\n",
      "Aliquam nulla augue, porta non sagittis quis, accumsan vitae sem. Phasellus id lectus tortor,\n",
      "eget pulvinar augue. Etiam eget velit ac purus fringilla blandit. Donec odio odio, sagittis sed\n",
      "iaculis sed, consectetur eget sem. Lorem ipsum dolor sit amet, consectetur adipiscing elit.\n",
      "Maecenas accumsan velit vel turpis rutrum in sodales diam placerat.  \n",
      "Quisque luctus ullamcorper velit sit amet lobortis. Etiam ligula felis, vulputate quis rhoncus\n",
      "nec, fermentum eget odio. Vivamus vel ipsum ac augue sodales mollis euismod nec tellus.\n",
      "Fusce et augue rutrum nunc semper vehicula vel semper nisl. Nam laoreet euismod quam at\n",
      "varius. Sed aliquet auctor nibh. Curabitur malesuada fermentum lacus vel accumsan. Duis\n",
      "ornare scelerisque nulla, ac pulvinar ligula tempus sit amet. In placerat nulla ac ante\n",
      "scelerisque posuere. Phasellus at ante felis. Sed hendrerit risus a metus posuere rutrum.\n",
      "Phasellus eu augue dui. Proin in vestibulum ipsum. Aenean accumsan mollis sapien, ut\n",
      "eleifend sem blandit at. Vivamus luctus mi eget lorem lobortis pharetra. Phasellus at tortor\n",
      "quam, a volutpat purus. Etiam sollicitudin arcu vel elit bibendum et imperdiet risus tincidunt.\n",
      "Etiam elit velit, posuere ut pulvinar ac, condimentum eget justo. Fusce a erat velit. Vivamus\n",
      "imperdiet ultrices orci in hendrerit.  \n"
     ]
    }
   ],
   "source": [
    "print(file.read())"
   ]
  },
  {
   "cell_type": "markdown",
   "metadata": {},
   "source": [
    "<div class=\"alert alert-block alert-success\"> \n",
    "\n",
    "### write()\n",
    "\n",
    "- Se utiliza para escribir datos en un archivo. \n",
    "- Es un método del objeto archivo que se obtiene al abrir un archivo usando la función open en modo de escritura ('w'), modo de anexado ('a'), o modos de lectura y escritura:\n",
    "\n",
    "1. **'r+'** (Lectura y Escritura): El archivo debe existir; de lo contrario, se genera un error. Modificar el contenido de un archivo existente sin truncarlo.\n",
    "2. **'w+'** (Escritura y Lectura): Si el archivo existe, se trunca (se borra su contenido). Si no existe, se crea uno nuevo.\n",
    "3. **'a+'** (Anexado y Lectura): Si el archivo no existe, se crea uno nuevo. Si existe, el puntero se coloca al final del archivo.\n",
    "\n",
    "**Uso de la Función `write`**\n",
    "\n",
    "1. **Abrir el archivo:** Primero, se debe abrir el archivo en un modo que permita la escritura.\n",
    "2. **Escribir datos:** Luego, se llama al método write del objeto archivo para escribir datos en el archivo.\n",
    "3. **Cerrar el archivo:** Finalmente, se debe cerrar el archivo para asegurar que los datos se guarden correctamente y liberar los recursos del sistema.\n",
    "\n",
    "</div>\n"
   ]
  },
  {
   "cell_type": "code",
   "execution_count": 5,
   "metadata": {},
   "outputs": [],
   "source": [
    "### Ejemplo de escritura en un archivo\n",
    "\n",
    "# Abrir el archivo en modo escritura\n",
    "with open(\"archivo.txt\", \"w\") as archivo:\n",
    "    archivo.write(\"Hola, este es un ejemplo de escritura en un archivo.\")"
   ]
  },
  {
   "cell_type": "code",
   "execution_count": 6,
   "metadata": {},
   "outputs": [],
   "source": [
    "with open(\"archivo.txt\", \"r+\") as file:\n",
    "    contenido = file.read()  # Leer el contenido existente\n",
    "    file.write(\"\\nNueva línea añadida.\")  # Añadir una nueva línea al final"
   ]
  },
  {
   "cell_type": "code",
   "execution_count": 7,
   "metadata": {},
   "outputs": [
    {
     "name": "stdout",
     "output_type": "stream",
     "text": [
      "Este es un nuevo contenido.\n"
     ]
    }
   ],
   "source": [
    "with open(\"archivo.txt\", \"w+\") as file:\n",
    "    file.write(\"Este es un nuevo contenido.\")  # Escribir nuevo contenido\n",
    "    file.seek(0)  # Mover el puntero al principio del archivo\n",
    "    contenido = file.read()  # Leer el contenido recién escrito\n",
    "    print(contenido)"
   ]
  },
  {
   "cell_type": "code",
   "execution_count": 8,
   "metadata": {},
   "outputs": [
    {
     "name": "stdout",
     "output_type": "stream",
     "text": [
      "Este es un nuevo contenido.\n",
      "Añadiendo una nueva línea.\n"
     ]
    }
   ],
   "source": [
    "with open(\"archivo.txt\", \"a+\") as file:\n",
    "    file.write(\"\\nAñadiendo una nueva línea.\")  # Añadir una nueva línea al final\n",
    "    file.seek(0)  # Mover el puntero al principio del archivo\n",
    "    contenido = file.read()  # Leer todo el contenido del archivo\n",
    "    print(contenido)"
   ]
  },
  {
   "cell_type": "markdown",
   "metadata": {},
   "source": [
    "<div class=\"alert alert-block alert-success\"> \n",
    "\n",
    "### close() \n",
    "\n",
    "- Se utiliza para cerrar un archivo que ha sido abierto previamente con la función open(). \n",
    "- Cerrar un archivo es una buena práctica y es importante por varias razones:\n",
    "\n",
    "1. **Liberar Recursos del Sistema:** Cerrar un archivo libera los recursos del sistema asociados con el archivo, como los descriptores de archivo. Esto es especialmente importante cuando se trabaja con muchos archivos o archivos grandes.\n",
    "2. **Guardar Cambios:** Si el archivo se abrió en modo de escritura o anexado, cerrar el archivo asegura que todos los datos se escriban correctamente en el disco.\n",
    "2. **Evitar Errores:** Mantener archivos abiertos innecesariamente puede llevar a errores, como alcanzar el límite de archivos abiertos permitidos por el sistema operativo.\n",
    "</div>"
   ]
  },
  {
   "cell_type": "code",
   "execution_count": 9,
   "metadata": {},
   "outputs": [],
   "source": [
    "file.close()"
   ]
  },
  {
   "cell_type": "code",
   "execution_count": null,
   "metadata": {},
   "outputs": [],
   "source": [
    "# file.read()  # Error: ValueError: I/O operation on closed file."
   ]
  },
  {
   "cell_type": "markdown",
   "metadata": {},
   "source": [
    "## 6.2 Manejo de excepciones\n",
    "\n",
    "El manejo de excepciones es crucial para manejar errores que pueden ocurrir durante la lectura o escritura de archivos. En Python, se utiliza `try`, `except`, `else` y `finally` para manejar excepciones.\n"
   ]
  },
  {
   "cell_type": "markdown",
   "metadata": {},
   "source": [
    "<div class=\"alert alert-block alert-success\"> \n",
    "\n",
    "\n",
    "**Estructura Básica del Manejo de Excepciones**\n",
    "\n",
    "1. `try`: Contiene el bloque de código que puede generar una excepción.\n",
    "2. `except`: Define cómo manejar la excepción si ocurre.\n",
    "- Tipos de Excepciones: Puedes especificar diferentes tipos de excepciones para manejar diferentes errores de manera específica. Algunos ejemplos de tipos de excepciones comunes son:\n",
    "    - **ValueError:** Ocurre cuando una función recibe un argumento con el tipo correcto pero con un valor inapropiado.\n",
    "    - **TypeError:** Ocurre cuando una operación o función se aplica a un objeto de un tipo inapropiado.\n",
    "    - **IndexError:** Ocurre cuando se intenta acceder a un índice que está fuera del rango de una lista o secuencia.\n",
    "    - **KeyError:** Ocurre cuando se intenta acceder a una clave que no existe en un diccionario.\n",
    "- Módulo `builtins`: Explorar las excepciones predefinidas en Python.\n",
    "</div>"
   ]
  },
  {
   "cell_type": "code",
   "execution_count": null,
   "metadata": {},
   "outputs": [],
   "source": [
    "import builtins\n",
    "\n",
    "# Listar todas las excepciones predefinidas en Python\n",
    "excepciones = [exc for exc in dir(builtins) if \"Error\" in exc or \"Exception\" in exc]\n",
    "# Imprimir la lista de excepciones\n",
    "for exc in excepciones:\n",
    "    print(exc)"
   ]
  },
  {
   "cell_type": "markdown",
   "metadata": {},
   "source": [
    "<div class=\"alert alert-block alert-success\"> \n",
    "\n",
    "3. `finally` (opcional): Contiene el bloque de código que se ejecuta siempre, independientemente de si ocurrió una excepción o no.\n",
    "</div>"
   ]
  },
  {
   "cell_type": "code",
   "execution_count": 12,
   "metadata": {},
   "outputs": [
    {
     "name": "stdout",
     "output_type": "stream",
     "text": [
      "El archivo no existe.\n",
      "Operación de lectura finalizada.\n"
     ]
    }
   ],
   "source": [
    "### Ejemplo de manejo de excepciones\n",
    "\n",
    "try:\n",
    "    with open(\"archivo_inexistente.txt\", \"r\") as archivo:\n",
    "        contenido = archivo.read()\n",
    "except FileNotFoundError:\n",
    "    print(\"El archivo no existe.\")\n",
    "except IOError:\n",
    "    print(\"Ocurrió un error al leer el archivo.\")\n",
    "else:\n",
    "    print(\"Archivo leído exitosamente.\")\n",
    "finally:\n",
    "    print(\"Operación de lectura finalizada.\")"
   ]
  },
  {
   "cell_type": "markdown",
   "metadata": {},
   "source": [
    "## 6.3 Uso de bibliotecas para manejo avanzado de archivos\n",
    "\n",
    "Python cuenta con varias bibliotecas que permiten el manejo avanzado de archivos, como `os`, `shutil`, `pathlib`, entre otras."
   ]
  },
  {
   "cell_type": "markdown",
   "metadata": {},
   "source": [
    "<div class=\"alert alert-block alert-success\"> \n",
    "\n",
    "### `os`\n",
    "\n",
    "Proporciona una forma de interactuar con el sistema operativo. Esta biblioteca incluye funciones para realizar operaciones como manipulación de archivos y directorios, obtención de información del sistema, ejecución de comandos del sistema, y manejo de variables de entorno, entre otras.\n",
    "</div>"
   ]
  },
  {
   "cell_type": "code",
   "execution_count": null,
   "metadata": {},
   "outputs": [],
   "source": [
    "import os\n",
    "\n",
    "help(os)"
   ]
  },
  {
   "cell_type": "code",
   "execution_count": null,
   "metadata": {},
   "outputs": [],
   "source": [
    "\"\"\"\n",
    "Ejemplo 1: Listar Archivos y Directorios\n",
    "    Listar archivos y directorios en el directorio actual\n",
    "\"\"\"\n",
    "\n",
    "archivos = os.listdir(\".\")\n",
    "print(\"Archivos y directorios en el directorio actual:\")\n",
    "for archivo in archivos:\n",
    "    print(archivo)"
   ]
  },
  {
   "cell_type": "code",
   "execution_count": 15,
   "metadata": {},
   "outputs": [],
   "source": [
    "\"\"\"\n",
    "Ejemplo 2: Crear y Eliminar Directorios\n",
    "    Crear un nuevo directorio y eliminarlo\n",
    "\"\"\"  # Crear un nuevo directorio\n",
    "\n",
    "os.mkdir(\"nuevo_directorio\")\n",
    "\n",
    "# Crear un nuevo directorio recursivamente\n",
    "os.makedirs(\"directorio/padre/hijo\")\n",
    "\n",
    "# Eliminar un directorio vacío\n",
    "os.rmdir(\"nuevo_directorio\")"
   ]
  },
  {
   "cell_type": "code",
   "execution_count": 16,
   "metadata": {},
   "outputs": [
    {
     "name": "stdout",
     "output_type": "stream",
     "text": [
      "Directorio actual: /home/isadoji/github/lenguaje-de-programacion\n",
      "Nombre de usuario: isadoji\n",
      "Sistema operativo: Linux\n"
     ]
    }
   ],
   "source": [
    "\"\"\"\n",
    "Ejemplo 3: Obtener Información del Sistema\n",
    "    Obtener información del sistema y del entorno\n",
    "\"\"\"\n",
    "\n",
    "# Obtener el directorio de trabajo actual\n",
    "directorio_actual = os.getcwd()\n",
    "print(\"Directorio actual:\", directorio_actual)\n",
    "\n",
    "# Obtener el nombre de usuario\n",
    "nombre_usuario = os.getlogin()\n",
    "print(\"Nombre de usuario:\", nombre_usuario)\n",
    "\n",
    "# Obtener el nombre del sistema operativo\n",
    "sistema_operativo = os.uname().sysname\n",
    "print(\"Sistema operativo:\", sistema_operativo)"
   ]
  },
  {
   "cell_type": "code",
   "execution_count": null,
   "metadata": {},
   "outputs": [],
   "source": [
    "\"\"\"\n",
    "Ejemplo 4: Manejar Variables de Entorno\n",
    "    Mostrar y modificar variables de entorno\n",
    "\"\"\"\n",
    "\n",
    "# Mostrar todas las variables de entorno\n",
    "variables_entorno = os.environ\n",
    "print(\"Variables de entorno:\")\n",
    "for variable, valor in variables_entorno.items():\n",
    "    print(f\"{variable}: {valor}\")\n",
    "\n",
    "# Obtener el valor de una variable de entorno específica\n",
    "valor_path = os.getenv(\"PATH\")\n",
    "print(\"Valor de la variable PATH:\", valor_path)\n",
    "\n",
    "# Establecer una nueva variable de entorno\n",
    "os.environ[\"NUEVA_VARIABLE\"] = \"Hola, Mundo!\"\n",
    "\n",
    "# Obtener el valor de la nueva variable de entorno\n",
    "\n",
    "valor_nueva_variable = os.getenv(\"NUEVA_VARIABLE\")\n",
    "print(\"Valor de la nueva variable de entorno:\", valor_nueva_variable)"
   ]
  },
  {
   "cell_type": "markdown",
   "metadata": {},
   "source": [
    "<div class=\"alert alert-block alert-success\"> \n",
    "\n",
    "### `shutil`\n",
    "\n",
    "- Proporciona una serie de funciones de alto nivel para la manipulación de archivos y directorios. \n",
    "- Estas funciones permiten copiar, mover, eliminar y realizar otras operaciones con archivos y directorios de manera sencilla y eficiente.\n",
    "</div>"
   ]
  },
  {
   "cell_type": "code",
   "execution_count": null,
   "metadata": {},
   "outputs": [],
   "source": [
    "import shutil\n",
    "\n",
    "help(shutil)"
   ]
  },
  {
   "cell_type": "code",
   "execution_count": 19,
   "metadata": {},
   "outputs": [],
   "source": [
    "\"\"\"\n",
    "Ejemplo 1:  Eliminar un directorio recursivamente\n",
    "    Eliminar un directorio y su contenido de forma recursiva\n",
    "\"\"\"\n",
    "\n",
    "# Eliminar un directorio \"directorio/padre/hijo\"\n",
    "# de forma recursiva con os\n",
    "# os.rmdir(\"directorio\")\n",
    "\n",
    "# Eliminar un directorio \"directorio\" de forma recursiva con shutil\n",
    "shutil.rmtree(\"directorio\")"
   ]
  },
  {
   "cell_type": "code",
   "execution_count": 20,
   "metadata": {},
   "outputs": [
    {
     "data": {
      "text/plain": [
       "'directorio_shutil'"
      ]
     },
     "execution_count": 20,
     "metadata": {},
     "output_type": "execute_result"
    }
   ],
   "source": [
    "\"\"\" \n",
    "Ejemplo 2: Copiar un Directorio Recursivamente\n",
    "\"\"\"\n",
    "\n",
    "os.makedirs(\"directorio/padre/hijo\")\n",
    "\n",
    "shutil.copytree(\"directorio\", \"directorio_shutil\")"
   ]
  },
  {
   "cell_type": "code",
   "execution_count": 21,
   "metadata": {},
   "outputs": [
    {
     "name": "stdout",
     "output_type": "stream",
     "text": [
      "Total: 91 GB\n",
      "Usado: 19 GB\n",
      "Libre: 67 GB\n"
     ]
    }
   ],
   "source": [
    "\"\"\" \n",
    "Ejemplo3. Obtener el uso del disco\n",
    "\"\"\"\n",
    "\n",
    "uso_disco = shutil.disk_usage(\"/\")\n",
    "print(f\"Total: {uso_disco.total // (2**30)} GB\")\n",
    "print(f\"Usado: {uso_disco.used // (2**30)} GB\")\n",
    "print(f\"Libre: {uso_disco.free // (2**30)} GB\")"
   ]
  },
  {
   "cell_type": "markdown",
   "metadata": {},
   "source": [
    "<div class=\"alert alert-block alert-success\"> \n",
    "\n",
    "### `pathlib`\n",
    "\n",
    "- Facilita la manipulación de rutas de archivos y directorios de manera más intuitiva y eficiente en comparación con las funciones tradicionales de `os` y `os.path`.\n",
    "</div>"
   ]
  },
  {
   "cell_type": "code",
   "execution_count": null,
   "metadata": {},
   "outputs": [],
   "source": [
    "from pathlib import Path\n",
    "\n",
    "help(Path)"
   ]
  },
  {
   "cell_type": "code",
   "execution_count": 23,
   "metadata": {},
   "outputs": [
    {
     "name": "stdout",
     "output_type": "stream",
     "text": [
      "El archivo existe.\n"
     ]
    }
   ],
   "source": [
    "from pathlib import Path\n",
    "\n",
    "# Crear un archivo\n",
    "archivo = open(\"nuevo_archivo.txt\", \"w\")\n",
    "archivo.write(\"Este es un nuevo archivo.\")\n",
    "archivo.close()\n",
    "\n",
    "# os.remove(\"nuevo_archivo.txt\")\n",
    "\n",
    "# Crear un objeto Path\n",
    "ruta = Path(\"nuevo_archivo.txt\")\n",
    "\n",
    "# Verificar si el archivo existe\n",
    "if ruta.exists():\n",
    "    print(\"El archivo existe.\")\n",
    "else:\n",
    "    print(\"El archivo no existe.\")"
   ]
  },
  {
   "cell_type": "code",
   "execution_count": 24,
   "metadata": {},
   "outputs": [
    {
     "name": "stdout",
     "output_type": "stream",
     "text": [
      "Este es un nuevo archivo.\n"
     ]
    }
   ],
   "source": [
    "# Leer el contenido del archivo\n",
    "contenido = ruta.read_text()\n",
    "print(contenido)"
   ]
  },
  {
   "cell_type": "code",
   "execution_count": 25,
   "metadata": {},
   "outputs": [
    {
     "name": "stdout",
     "output_type": "stream",
     "text": [
      "Directorio de trabajo actual: /home/isadoji/github/lenguaje-de-programacion\n",
      "Directorio de inicio del usuario: /home/isadoji\n",
      "Nueva ruta: /home/isadoji/github/lenguaje-de-programacion/subdirectorio/archivo.txt\n",
      "Nombre del archivo: archivo.txt\n",
      "Nombre del archivo sin extensión: archivo\n",
      "Extensión del archivo: .txt\n"
     ]
    }
   ],
   "source": [
    "# Obtener el directorio de trabajo actual\n",
    "cwd = Path.cwd()\n",
    "print(\"Directorio de trabajo actual:\", cwd)\n",
    "\n",
    "# Obtener el directorio de inicio del usuario\n",
    "home = Path.home()\n",
    "print(\"Directorio de inicio del usuario:\", home)\n",
    "\n",
    "# Unir rutas\n",
    "nueva_ruta = cwd.joinpath(\"subdirectorio\", \"archivo.txt\")\n",
    "print(\"Nueva ruta:\", nueva_ruta)\n",
    "\n",
    "# Obtener el nombre del archivo y la extensión\n",
    "print(\"Nombre del archivo:\", nueva_ruta.name)\n",
    "print(\"Nombre del archivo sin extensión:\", nueva_ruta.stem)\n",
    "print(\"Extensión del archivo:\", nueva_ruta.suffix)"
   ]
  }
 ],
 "metadata": {
  "kernelspec": {
   "display_name": "base",
   "language": "python",
   "name": "python3"
  },
  "language_info": {
   "codemirror_mode": {
    "name": "ipython",
    "version": 3
   },
   "file_extension": ".py",
   "mimetype": "text/x-python",
   "name": "python",
   "nbconvert_exporter": "python",
   "pygments_lexer": "ipython3",
   "version": "3.12.8"
  }
 },
 "nbformat": 4,
 "nbformat_minor": 2
}
