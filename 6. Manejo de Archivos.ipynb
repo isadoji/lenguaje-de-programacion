{
 "cells": [
  {
   "cell_type": "markdown",
   "metadata": {},
   "source": [
    "# Manejo de Archivos\n",
    "\n",
    "## 6.1 Lectura y escritura de archivos\n",
    "\n",
    "En Python, la lectura y escritura de archivos se puede realizar utilizando las funciones integradas `open()`, `read()`, `write()`,`close()` entre otras. \n"
   ]
  },
  {
   "cell_type": "code",
   "execution_count": 22,
   "metadata": {},
   "outputs": [
    {
     "name": "stdout",
     "output_type": "stream",
     "text": [
      "Lorem ipsum dolor sit amet, consectetur adipiscing elit. Nulla est purus, ultrices in porttitor\n",
      "in, accumsan non quam. Nam consectetur porttitor rhoncus. Curabitur eu est et leo feugiat\n",
      "auctor vel quis lorem. Ut et ligula dolor, sit amet consequat lorem. Aliquam porta eros sed\n",
      "velit imperdiet egestas. Maecenas tempus eros ut diam ullamcorper id dictum libero\n",
      "tempor. Donec quis augue quis magna condimentum lobortis. Quisque imperdiet ipsum vel\n",
      "magna viverra rutrum. Cras viverra molestie urna, vitae vestibulum turpis varius id.\n",
      "Vestibulum mollis, arcu iaculis bibendum varius, velit sapien blandit metus, ac posuere lorem\n",
      "nulla ac dolor. Maecenas urna elit, tincidunt in dapibus nec, vehicula eu dui. Duis lacinia\n",
      "fringilla massa. Cum sociis natoque penatibus et magnis dis parturient montes, nascetur\n",
      "ridiculus mus. Ut consequat ultricies est, non rhoncus mauris congue porta. Vivamus viverra\n",
      "suscipit felis eget condimentum. Cum sociis natoque penatibus et magnis dis parturient\n",
      "montes, nascetur ridiculus mus. Integer bibendum sagittis ligula, non faucibus nulla volutpat\n",
      "vitae. Cum sociis natoque penatibus et magnis dis parturient montes, nascetur ridiculus mus.  \n",
      "In aliquet quam et velit bibendum accumsan. Cum sociis natoque penatibus et magnis dis\n",
      "parturient montes, nascetur ridiculus mus. Vestibulum vitae ipsum nec arcu semper\n",
      "adipiscing at ac lacus. Praesent id pellentesque orci. Morbi congue viverra nisl nec rhoncus.\n",
      "Integer mattis, ipsum a tincidunt commodo, lacus arcu elementum elit, at mollis eros ante ac\n",
      "risus. In volutpat, ante at pretium ultricies, velit magna suscipit enim, aliquet blandit massa\n",
      "orci nec lorem. Nulla facilisi. Duis eu vehicula arcu. Nulla facilisi. Maecenas pellentesque\n",
      "volutpat felis, quis tristique ligula luctus vel. Sed nec mi eros. Integer augue enim, sollicitudin\n",
      "ullamcorper mattis eget, aliquam in est. Morbi sollicitudin libero nec augue dignissim ut\n",
      "consectetur dui volutpat. Nulla facilisi. Mauris egestas vestibulum neque cursus tincidunt.\n",
      "Donec sit amet pulvinar orci.  \n",
      "Quisque volutpat pharetra tincidunt. Fusce sapien arcu, molestie eget varius egestas,\n",
      "faucibus ac urna. Sed at nisi in velit egestas aliquam ut a felis. Aenean malesuada iaculis nisl,\n",
      "ut tempor lacus egestas consequat. Nam nibh lectus, gravida sed egestas ut, feugiat quis\n",
      "dolor. Donec eu leo enim, non laoreet ante. Morbi dictum tempor vulputate. Phasellus\n",
      "ultricies risus vel augue sagittis euismod. Vivamus tincidunt placerat nisi in aliquam. Cras\n",
      "quis mi ac nunc pretium aliquam. Aenean elementum erat ac metus commodo rhoncus.\n",
      "Aliquam nulla augue, porta non sagittis quis, accumsan vitae sem. Phasellus id lectus tortor,\n",
      "eget pulvinar augue. Etiam eget velit ac purus fringilla blandit. Donec odio odio, sagittis sed\n",
      "iaculis sed, consectetur eget sem. Lorem ipsum dolor sit amet, consectetur adipiscing elit.\n",
      "Maecenas accumsan velit vel turpis rutrum in sodales diam placerat.  \n",
      "Quisque luctus ullamcorper velit sit amet lobortis. Etiam ligula felis, vulputate quis rhoncus\n",
      "nec, fermentum eget odio. Vivamus vel ipsum ac augue sodales mollis euismod nec tellus.\n",
      "Fusce et augue rutrum nunc semper vehicula vel semper nisl. Nam laoreet euismod quam at\n",
      "varius. Sed aliquet auctor nibh. Curabitur malesuada fermentum lacus vel accumsan. Duis\n",
      "ornare scelerisque nulla, ac pulvinar ligula tempus sit amet. In placerat nulla ac ante\n",
      "scelerisque posuere. Phasellus at ante felis. Sed hendrerit risus a metus posuere rutrum.\n",
      "Phasellus eu augue dui. Proin in vestibulum ipsum. Aenean accumsan mollis sapien, ut\n",
      "eleifend sem blandit at. Vivamus luctus mi eget lorem lobortis pharetra. Phasellus at tortor\n",
      "quam, a volutpat purus. Etiam sollicitudin arcu vel elit bibendum et imperdiet risus tincidunt.\n",
      "Etiam elit velit, posuere ut pulvinar ac, condimentum eget justo. Fusce a erat velit. Vivamus\n",
      "imperdiet ultrices orci in hendrerit.  \n"
     ]
    }
   ],
   "source": [
    "# Abrir un archivo en modo de lectura\n",
    "archivo = open('lorem_ipsum.txt', 'r')\n",
    "\n",
    "# Leer el contenido del archivo\n",
    "contenido = archivo.read()\n",
    "print(contenido)\n",
    "\n",
    "# Cerrar el archivo\n",
    "archivo.close()"
   ]
  },
  {
   "cell_type": "markdown",
   "metadata": {},
   "source": [
    "<div class=\"alert alert-block alert-success\"> \n",
    "\n",
    "### `open()`\n",
    "\n",
    "- Se utiliza para abrir un archivo. \n",
    "- Es una función integrada que permite interactuar con archivos en el sistema de archivos. \n",
    "- Generalmente se proporciona al menos un argumento: el nombre del archivo que se desea abrir. Este puede ser una ruta relativa o absoluta al archivo.\n",
    "\n",
    "**Argumentos de la Función `open`**\n",
    "\n",
    "1. **Nombre del archivo:** El primer argumento es una cadena que especifica el nombre del archivo que se desea abrir.\n",
    "2. **Modo de apertura:** El segundo argumento (opcional) especifica el modo en el que se desea abrir el archivo. Los modos son:\n",
    "\n",
    "- `r`: Modo de lectura (por defecto). Abre el archivo para leerlo.\n",
    "- `w`: Modo de escritura. Crea un nuevo archivo o trunca uno existente.\n",
    "- `a`: Modo de anexado. Escribe datos al final del archivo.\n",
    "- `b`: Modo binario. Se usa para archivos no textuales.\n",
    "- `t`: Modo de texto (por defecto). Se usa para archivos textuales.\n",
    "\n",
    "Ejemplo:\n",
    "</div>"
   ]
  },
  {
   "cell_type": "code",
   "execution_count": 23,
   "metadata": {},
   "outputs": [
    {
     "name": "stdout",
     "output_type": "stream",
     "text": [
      "<_io.TextIOWrapper name='lorem_ipsum.txt' mode='r' encoding='UTF-8'>\n"
     ]
    }
   ],
   "source": [
    "file = open('lorem_ipsum.txt', 'r') \n",
    "print(file) # Leer los primeros 10 caracteres"
   ]
  },
  {
   "cell_type": "markdown",
   "metadata": {},
   "source": [
    "<div class=\"alert alert-block alert-success\"> \n",
    "\n",
    "### `read()`\n",
    "\n",
    "- Se utiliza para leer el contenido de un archivo abierto. \n",
    "- Es un método del objeto archivo que se obtiene al abrir un archivo usando la función open. \n",
    "- La función read lee todo el contenido del archivo y lo devuelve como una cadena de texto.\n",
    "\n",
    "**Uso de la Función `read`**\n",
    "\n",
    "1. **Abrir el archivo:** Primero, se debe abrir el archivo usando la función open.\n",
    "2. **Leer el contenido:** Luego, se llama al método read del objeto archivo para leer su contenido.\n",
    "3. **Cerrar el archivo:** Finalmente, se debe cerrar el archivo para liberar los recursos del sistema.\n",
    "</div>"
   ]
  },
  {
   "cell_type": "code",
   "execution_count": 24,
   "metadata": {},
   "outputs": [
    {
     "name": "stdout",
     "output_type": "stream",
     "text": [
      "Lorem ipsum dolor sit amet, consectetur adipiscing elit. Nulla est purus, ultrices in porttitor\n",
      "in, accumsan non quam. Nam consectetur porttitor rhoncus. Curabitur eu est et leo feugiat\n",
      "auctor vel quis lorem. Ut et ligula dolor, sit amet consequat lorem. Aliquam porta eros sed\n",
      "velit imperdiet egestas. Maecenas tempus eros ut diam ullamcorper id dictum libero\n",
      "tempor. Donec quis augue quis magna condimentum lobortis. Quisque imperdiet ipsum vel\n",
      "magna viverra rutrum. Cras viverra molestie urna, vitae vestibulum turpis varius id.\n",
      "Vestibulum mollis, arcu iaculis bibendum varius, velit sapien blandit metus, ac posuere lorem\n",
      "nulla ac dolor. Maecenas urna elit, tincidunt in dapibus nec, vehicula eu dui. Duis lacinia\n",
      "fringilla massa. Cum sociis natoque penatibus et magnis dis parturient montes, nascetur\n",
      "ridiculus mus. Ut consequat ultricies est, non rhoncus mauris congue porta. Vivamus viverra\n",
      "suscipit felis eget condimentum. Cum sociis natoque penatibus et magnis dis parturient\n",
      "montes, nascetur ridiculus mus. Integer bibendum sagittis ligula, non faucibus nulla volutpat\n",
      "vitae. Cum sociis natoque penatibus et magnis dis parturient montes, nascetur ridiculus mus.  \n",
      "In aliquet quam et velit bibendum accumsan. Cum sociis natoque penatibus et magnis dis\n",
      "parturient montes, nascetur ridiculus mus. Vestibulum vitae ipsum nec arcu semper\n",
      "adipiscing at ac lacus. Praesent id pellentesque orci. Morbi congue viverra nisl nec rhoncus.\n",
      "Integer mattis, ipsum a tincidunt commodo, lacus arcu elementum elit, at mollis eros ante ac\n",
      "risus. In volutpat, ante at pretium ultricies, velit magna suscipit enim, aliquet blandit massa\n",
      "orci nec lorem. Nulla facilisi. Duis eu vehicula arcu. Nulla facilisi. Maecenas pellentesque\n",
      "volutpat felis, quis tristique ligula luctus vel. Sed nec mi eros. Integer augue enim, sollicitudin\n",
      "ullamcorper mattis eget, aliquam in est. Morbi sollicitudin libero nec augue dignissim ut\n",
      "consectetur dui volutpat. Nulla facilisi. Mauris egestas vestibulum neque cursus tincidunt.\n",
      "Donec sit amet pulvinar orci.  \n",
      "Quisque volutpat pharetra tincidunt. Fusce sapien arcu, molestie eget varius egestas,\n",
      "faucibus ac urna. Sed at nisi in velit egestas aliquam ut a felis. Aenean malesuada iaculis nisl,\n",
      "ut tempor lacus egestas consequat. Nam nibh lectus, gravida sed egestas ut, feugiat quis\n",
      "dolor. Donec eu leo enim, non laoreet ante. Morbi dictum tempor vulputate. Phasellus\n",
      "ultricies risus vel augue sagittis euismod. Vivamus tincidunt placerat nisi in aliquam. Cras\n",
      "quis mi ac nunc pretium aliquam. Aenean elementum erat ac metus commodo rhoncus.\n",
      "Aliquam nulla augue, porta non sagittis quis, accumsan vitae sem. Phasellus id lectus tortor,\n",
      "eget pulvinar augue. Etiam eget velit ac purus fringilla blandit. Donec odio odio, sagittis sed\n",
      "iaculis sed, consectetur eget sem. Lorem ipsum dolor sit amet, consectetur adipiscing elit.\n",
      "Maecenas accumsan velit vel turpis rutrum in sodales diam placerat.  \n",
      "Quisque luctus ullamcorper velit sit amet lobortis. Etiam ligula felis, vulputate quis rhoncus\n",
      "nec, fermentum eget odio. Vivamus vel ipsum ac augue sodales mollis euismod nec tellus.\n",
      "Fusce et augue rutrum nunc semper vehicula vel semper nisl. Nam laoreet euismod quam at\n",
      "varius. Sed aliquet auctor nibh. Curabitur malesuada fermentum lacus vel accumsan. Duis\n",
      "ornare scelerisque nulla, ac pulvinar ligula tempus sit amet. In placerat nulla ac ante\n",
      "scelerisque posuere. Phasellus at ante felis. Sed hendrerit risus a metus posuere rutrum.\n",
      "Phasellus eu augue dui. Proin in vestibulum ipsum. Aenean accumsan mollis sapien, ut\n",
      "eleifend sem blandit at. Vivamus luctus mi eget lorem lobortis pharetra. Phasellus at tortor\n",
      "quam, a volutpat purus. Etiam sollicitudin arcu vel elit bibendum et imperdiet risus tincidunt.\n",
      "Etiam elit velit, posuere ut pulvinar ac, condimentum eget justo. Fusce a erat velit. Vivamus\n",
      "imperdiet ultrices orci in hendrerit.  \n"
     ]
    }
   ],
   "source": [
    "print(file.read())"
   ]
  },
  {
   "cell_type": "markdown",
   "metadata": {},
   "source": [
    "<div class=\"alert alert-block alert-success\"> \n",
    "\n",
    "### write()\n",
    "\n",
    "- Se utiliza para escribir datos en un archivo. \n",
    "- Es un método del objeto archivo que se obtiene al abrir un archivo usando la función open en modo de escritura ('w'), modo de anexado ('a'), o modos de lectura y escritura:\n",
    "\n",
    "1. **'r+'** (Lectura y Escritura): El archivo debe existir; de lo contrario, se genera un error. Modificar el contenido de un archivo existente sin truncarlo.\n",
    "2. **'w+'** (Escritura y Lectura): Si el archivo existe, se trunca (se borra su contenido). Si no existe, se crea uno nuevo.\n",
    "3. **'a+'** (Anexado y Lectura): Si el archivo no existe, se crea uno nuevo. Si existe, el puntero se coloca al final del archivo.\n",
    "\n",
    "**Uso de la Función `write`\n",
    "\n",
    "1. **Abrir el archivo:** Primero, se debe abrir el archivo en un modo que permita la escritura.\n",
    "2. **Escribir datos:** Luego, se llama al método write del objeto archivo para escribir datos en el archivo.\n",
    "3. **Cerrar el archivo:** Finalmente, se debe cerrar el archivo para asegurar que los datos se guarden correctamente y liberar los recursos del sistema.\n",
    "\n",
    "</div>\n"
   ]
  },
  {
   "cell_type": "code",
   "execution_count": 37,
   "metadata": {},
   "outputs": [],
   "source": [
    "### Ejemplo de escritura en un archivo\n",
    "\n",
    "# Abrir el archivo en modo escritura\n",
    "with open('archivo.txt', 'w') as archivo:\n",
    "    archivo.write('Hola, este es un ejemplo de escritura en un archivo.')"
   ]
  },
  {
   "cell_type": "code",
   "execution_count": 39,
   "metadata": {},
   "outputs": [],
   "source": [
    "with open('archivo.txt', 'r+') as file:\n",
    "    contenido = file.read()  # Leer el contenido existente\n",
    "    file.write(\"\\nNueva línea añadida.\")  # Añadir una nueva línea al final"
   ]
  },
  {
   "cell_type": "code",
   "execution_count": 40,
   "metadata": {},
   "outputs": [
    {
     "name": "stdout",
     "output_type": "stream",
     "text": [
      "Este es un nuevo contenido.\n"
     ]
    }
   ],
   "source": [
    "with open('archivo.txt', 'w+') as file:\n",
    "    file.write(\"Este es un nuevo contenido.\")  # Escribir nuevo contenido\n",
    "    file.seek(0)  # Mover el puntero al principio del archivo\n",
    "    contenido = file.read()  # Leer el contenido recién escrito\n",
    "    print(contenido)"
   ]
  },
  {
   "cell_type": "code",
   "execution_count": 41,
   "metadata": {},
   "outputs": [
    {
     "name": "stdout",
     "output_type": "stream",
     "text": [
      "Este es un nuevo contenido.\n",
      "Añadiendo una nueva línea.\n"
     ]
    }
   ],
   "source": [
    "with open('archivo.txt', 'a+') as file:\n",
    "    file.write(\"\\nAñadiendo una nueva línea.\")  # Añadir una nueva línea al final\n",
    "    file.seek(0)  # Mover el puntero al principio del archivo\n",
    "    contenido = file.read()  # Leer todo el contenido del archivo\n",
    "    print(contenido)"
   ]
  },
  {
   "cell_type": "markdown",
   "metadata": {},
   "source": [
    "<div class=\"alert alert-block alert-success\"> \n",
    "\n",
    "### close() \n",
    "\n",
    "- Se utiliza para cerrar un archivo que ha sido abierto previamente con la función open(). \n",
    "- Cerrar un archivo es una buena práctica y es importante por varias razones:\n",
    "\n",
    "1. **Liberar Recursos del Sistema:** Cerrar un archivo libera los recursos del sistema asociados con el archivo, como los descriptores de archivo. Esto es especialmente importante cuando se trabaja con muchos archivos o archivos grandes.\n",
    "2. **Guardar Cambios:** Si el archivo se abrió en modo de escritura o anexado, cerrar el archivo asegura que todos los datos se escriban correctamente en el disco.\n",
    "2. **Evitar Errores:** Mantener archivos abiertos innecesariamente puede llevar a errores, como alcanzar el límite de archivos abiertos permitidos por el sistema operativo.\n",
    "</div>"
   ]
  },
  {
   "cell_type": "code",
   "execution_count": 42,
   "metadata": {},
   "outputs": [],
   "source": [
    "file.close()"
   ]
  },
  {
   "cell_type": "code",
   "execution_count": 43,
   "metadata": {},
   "outputs": [
    {
     "ename": "ValueError",
     "evalue": "I/O operation on closed file.",
     "output_type": "error",
     "traceback": [
      "\u001b[0;31m---------------------------------------------------------------------------\u001b[0m",
      "\u001b[0;31mValueError\u001b[0m                                Traceback (most recent call last)",
      "Cell \u001b[0;32mIn[43], line 1\u001b[0m\n\u001b[0;32m----> 1\u001b[0m \u001b[43mfile\u001b[49m\u001b[38;5;241;43m.\u001b[39;49m\u001b[43mread\u001b[49m\u001b[43m(\u001b[49m\u001b[43m)\u001b[49m \u001b[38;5;66;03m# Error: ValueError: I/O operation on closed file.\u001b[39;00m\n",
      "\u001b[0;31mValueError\u001b[0m: I/O operation on closed file."
     ]
    }
   ],
   "source": [
    "file.read() # Error: ValueError: I/O operation on closed file."
   ]
  },
  {
   "cell_type": "markdown",
   "metadata": {},
   "source": [
    "## 6.2 Manejo de excepciones\n",
    "\n",
    "El manejo de excepciones es crucial para manejar errores que pueden ocurrir durante la lectura o escritura de archivos. En Python, se utiliza `try`, `except`, `else` y `finally` para manejar excepciones.\n",
    "\n",
    "**Estructura Básica del Manejo de Excepciones\n",
    "try: Contiene el bloque de código que puede generar una excepción.\n",
    "except: Define cómo manejar la excepción si ocurre.\n",
    "finally (opcional): Contiene el bloque de código que se ejecuta siempre, independientemente de si ocurrió una excepción o no.\n"
   ]
  },
  {
   "cell_type": "code",
   "execution_count": 45,
   "metadata": {},
   "outputs": [
    {
     "name": "stdout",
     "output_type": "stream",
     "text": [
      "El archivo no existe.\n",
      "Operación de lectura finalizada.\n"
     ]
    }
   ],
   "source": [
    "### Ejemplo de manejo de excepciones\n",
    "\n",
    "try:\n",
    "    with open('archivo_inexistente.txt', 'r') as archivo:\n",
    "        contenido = archivo.read()\n",
    "except FileNotFoundError:\n",
    "    print('El archivo no existe.')\n",
    "except IOError:\n",
    "    print('Ocurrió un error al leer el archivo.')\n",
    "else:\n",
    "    print('Archivo leído exitosamente.')\n",
    "finally:\n",
    "    print('Operación de lectura finalizada.')"
   ]
  },
  {
   "cell_type": "markdown",
   "metadata": {},
   "source": [
    "\n",
    "```\n",
    "\n",
    "## 6.3 Uso de bibliotecas para manejo avanzado de archivos\n",
    "\n",
    "Python cuenta con varias bibliotecas que permiten el manejo avanzado de archivos, como `os`, `shutil`, `pathlib`, entre otras.\n",
    "\n",
    "### Ejemplo de uso de la biblioteca `os`\n",
    "\n",
    "```python\n",
    "import os\n",
    "\n",
    "# Obtener la lista de archivos en el directorio actual\n",
    "archivos = os.listdir('.')\n",
    "print(archivos)\n",
    "\n",
    "# Renombrar un archivo\n",
    "os.rename('archivo.txt', 'nuevo_archivo.txt')\n",
    "```\n",
    "\n",
    "### Ejemplo de uso de la biblioteca `shutil`\n",
    "\n",
    "```python\n",
    "import shutil\n",
    "\n",
    "# Copiar un archivo\n",
    "shutil.copy('nuevo_archivo.txt', 'copia_archivo.txt')\n",
    "\n",
    "# Mover un archivo\n",
    "shutil.move('copia_archivo.txt', 'subdirectorio/copia_archivo.txt')\n",
    "```\n",
    "\n",
    "### Ejemplo de uso de la biblioteca `pathlib`\n",
    "\n",
    "```python\n",
    "from pathlib import Path\n",
    "\n",
    "# Crear un objeto Path\n",
    "ruta = Path('nuevo_archivo.txt')\n",
    "\n",
    "# Verificar si el archivo existe\n",
    "if ruta.exists():\n",
    "    print('El archivo existe.')\n",
    "else:\n",
    "    print('El archivo no existe.')\n",
    "\n",
    "# Leer el contenido del archivo\n",
    "contenido = ruta.read_text()\n",
    "print(contenido)\n",
    "```\n",
    "```"
   ]
  }
 ],
 "metadata": {
  "kernelspec": {
   "display_name": "base",
   "language": "python",
   "name": "python3"
  },
  "language_info": {
   "codemirror_mode": {
    "name": "ipython",
    "version": 3
   },
   "file_extension": ".py",
   "mimetype": "text/x-python",
   "name": "python",
   "nbconvert_exporter": "python",
   "pygments_lexer": "ipython3",
   "version": "3.12.8"
  }
 },
 "nbformat": 4,
 "nbformat_minor": 2
}
