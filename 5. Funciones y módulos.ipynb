{
 "cells": [
  {
   "cell_type": "markdown",
   "metadata": {},
   "source": [
    "## Función, clases, objetos y métodos\n",
    "\n",
    "**¿Qué es una Función?**\n",
    "\n",
    "* Es un bloque de código reutilizable que realiza una tarea específica. \n",
    "* Las funciones permiten organizar el código en módulos más pequeños y manejables, facilitando la lectura,\n",
    " el mantenimiento y la reutilización del código.\n",
    "\n",
    "* Características de una Función\n",
    "\n",
    "1. **Definición:** Una función se define utilizando una palabra clave específica del lenguaje de programación. \n",
    "En Python, se utiliza la palabra clave `def`.\n",
    "2. **Nombre:** Cada función tiene un nombre único que se utiliza para llamarla.\n",
    "3. **Parámetros:** Las funciones pueden aceptar uno o más parámetros (también llamados argumentos) que \n",
    "proporcionan información adicional necesaria para realizar su tarea.\n",
    "4. **Cuerpo:** El cuerpo de la función contiene el código que define lo que hace la función.\n",
    "5. **Retorno:** Las funciones pueden devolver un valor utilizando la palabra clave ``return`.\n",
    "\n",
    "def nombre(parametros)<span style=\"color:red\">:</span>\n",
    "\n",
    "<span style=\"color:red\">____</span> Aquí va el cuerpo de \n",
    "\n",
    "<span style=\"color:red\">____</span>la función      \n",
    "\n",
    "<span style=\"color:red\">____</span>return valores\n"
   ]
  },
  {
   "cell_type": "code",
   "execution_count": 1,
   "metadata": {},
   "outputs": [],
   "source": [
    "def saludar(nombre):\n",
    "    print(f\"Hola, {nombre}!\")"
   ]
  },
  {
   "cell_type": "code",
   "execution_count": 2,
   "metadata": {},
   "outputs": [
    {
     "name": "stdout",
     "output_type": "stream",
     "text": [
      "Hola, Isabel!\n"
     ]
    }
   ],
   "source": [
    "saludar(\"Isabel\") #argumento Isabel"
   ]
  },
  {
   "cell_type": "markdown",
   "metadata": {},
   "source": [
    "### Tipos de Parámetros\n",
    "\n",
    "1. **Parámetros Posicionales:** Los argumentos se pasan en el mismo orden en que se definen los parámetros."
   ]
  },
  {
   "cell_type": "code",
   "execution_count": 3,
   "metadata": {},
   "outputs": [
    {
     "name": "stdout",
     "output_type": "stream",
     "text": [
      "La suma de 4 y 5 es 9\n",
      "4\n",
      "5\n"
     ]
    }
   ],
   "source": [
    "def print_sumar(a, b):\n",
    "    print('La suma de', a, 'y', b, 'es', a + b)\n",
    "    print(a) #argumento a definido en la función\n",
    "    print(b) #argumento b definido en la función\n",
    "\n",
    "print_sumar(4, 5) #argumentos 3 y 5\n",
    "\n",
    "#print(b)#error porque a no está definido en el ámbito global\n"
   ]
  },
  {
   "cell_type": "markdown",
   "metadata": {},
   "source": [
    "Las funciones pueden regresar múltiples valores:"
   ]
  },
  {
   "cell_type": "code",
   "execution_count": 4,
   "metadata": {},
   "outputs": [],
   "source": [
    "def sumar(a, b):\n",
    "    suma = a + b\n",
    "    return a, b, suma #devuelve el valor de la suma\n"
   ]
  },
  {
   "cell_type": "code",
   "execution_count": 5,
   "metadata": {},
   "outputs": [
    {
     "name": "stdout",
     "output_type": "stream",
     "text": [
      "3\n",
      "5\n",
      "8\n"
     ]
    }
   ],
   "source": [
    "#asigna los valores de la función a, b y suma\n",
    "a_out, b_out, suma_out  = sumar(3, 5)\n",
    "print(a_out) #imprime a\n",
    "print(b_out) #imprime b\n",
    "print(suma_out) #imprime suma \n"
   ]
  },
  {
   "cell_type": "markdown",
   "metadata": {},
   "source": [
    "2. **Parámetros con Nombre (Keyword Arguments):** Los argumentos se pasan usando el nombre del parámetro, lo que permite cambiar el orden de los argumentos."
   ]
  },
  {
   "cell_type": "code",
   "execution_count": 6,
   "metadata": {},
   "outputs": [
    {
     "data": {
      "text/plain": [
       "2.0"
      ]
     },
     "execution_count": 6,
     "metadata": {},
     "output_type": "execute_result"
    }
   ],
   "source": [
    "def dividir(a, b):\n",
    "    return a / b\n",
    "\n",
    "dividir(b=10, a=20)"
   ]
  },
  {
   "cell_type": "markdown",
   "metadata": {},
   "source": [
    "3. **Parámetros con Valores Predeterminados:** Puedes asignar valores predeterminados a los parámetros. Si no se proporciona un argumento, se usa el valor predeterminado."
   ]
  },
  {
   "cell_type": "code",
   "execution_count": 7,
   "metadata": {},
   "outputs": [
    {
     "name": "stdout",
     "output_type": "stream",
     "text": [
      "Hola, Mundo!\n",
      "Hola, Juan!\n"
     ]
    }
   ],
   "source": [
    "def saludar(nombre=\"Mundo\"):\n",
    "    print(f\"Hola, {nombre}!\")\n",
    "\n",
    "saludar() \n",
    "saludar(\"Juan\")"
   ]
  },
  {
   "cell_type": "markdown",
   "metadata": {},
   "source": [
    "4. **Parámetros Arbitrarios:** Permiten pasar un número variable de argumentos a una función usando *args para tuplas y **kwargs para diccionarios."
   ]
  },
  {
   "cell_type": "code",
   "execution_count": 8,
   "metadata": {},
   "outputs": [
    {
     "name": "stdout",
     "output_type": "stream",
     "text": [
      "10\n"
     ]
    }
   ],
   "source": [
    "def sumar_todos(*args): #args es una tupla\n",
    "    return sum(args)\n",
    "\n",
    "print(sumar_todos(1, 2, 3, 4))"
   ]
  },
  {
   "cell_type": "markdown",
   "metadata": {},
   "source": [
    "5. **Listas como parámetro:**  "
   ]
  },
  {
   "cell_type": "code",
   "execution_count": 9,
   "metadata": {},
   "outputs": [
    {
     "name": "stdout",
     "output_type": "stream",
     "text": [
      "Hello, Hannah!\n",
      "Hello, Ty!\n",
      "Hello, Margot!\n"
     ]
    }
   ],
   "source": [
    "def greet_users(names): #names es una lista\n",
    "    for name in names:\n",
    "        msg = (f\"Hello, {name.title()}!\")\n",
    "        print(msg)\n",
    "\n",
    "usernames = ['hannah', 'ty', 'margot']\n",
    "greet_users(usernames)"
   ]
  },
  {
   "cell_type": "markdown",
   "metadata": {},
   "source": [
    "6. **Diccionarios como parámetros:**"
   ]
  },
  {
   "cell_type": "code",
   "execution_count": 10,
   "metadata": {},
   "outputs": [
    {
     "name": "stdout",
     "output_type": "stream",
     "text": [
      "nombre: Juan\n",
      "edad: 30\n"
     ]
    }
   ],
   "source": [
    "def imprimir_info(**kwargs): #kwargs es un diccionario\n",
    "    for key, value in kwargs.items():\n",
    "        print(f\"{key}: {value}\")\n",
    "\n",
    "imprimir_info(nombre=\"Juan\", edad=30) "
   ]
  },
  {
   "cell_type": "markdown",
   "metadata": {},
   "source": [
    "7. **Argumentos opcionales**"
   ]
  },
  {
   "cell_type": "code",
   "execution_count": 11,
   "metadata": {},
   "outputs": [
    {
     "name": "stdout",
     "output_type": "stream",
     "text": [
      "Jimi Hendrix\n",
      "John Lee Hooker\n"
     ]
    }
   ],
   "source": [
    "def get_formatted_name(first_name, last_name, middle_name=''):\n",
    "    if middle_name:\n",
    "        full_name = f\"{first_name} {middle_name} {last_name}\"\n",
    "    else:\n",
    "        full_name = f\"{first_name} {last_name}\"\n",
    "    return full_name.title()\n",
    "\n",
    "musician = get_formatted_name('jimi', 'hendrix')\n",
    "print(musician)\n",
    "musician = get_formatted_name('john', 'hooker', 'lee')\n",
    "print(musician)"
   ]
  },
  {
   "cell_type": "markdown",
   "metadata": {},
   "source": [
    "8. **Mezcla de argumentos:**"
   ]
  },
  {
   "cell_type": "code",
   "execution_count": 12,
   "metadata": {},
   "outputs": [
    {
     "name": "stdout",
     "output_type": "stream",
     "text": [
      "1 2 4 {'arg4': 5, 'arg5': 6}\n"
     ]
    }
   ],
   "source": [
    "def somefunc(arg1, arg2, arg3=0, **kwargs):\n",
    "    print(arg1, arg2, arg3, kwargs)\n",
    "\n",
    "somefunc(1, 2, arg3=4, arg4=5, arg5=6)"
   ]
  },
  {
   "cell_type": "markdown",
   "metadata": {},
   "source": [
    "##  Módulos\n",
    "\n",
    "- Son archivos que contienen definiciones y declaraciones de funciones, variables y clases. \n",
    "- Los módulos permiten organizar el código en diferentes archivos y reutilizarlo en otros programas. \n",
    "- Se puede importar un módulo en otro archivo usando la palabra clave `import`.\n",
    "\n",
    "Ejemplo:\n",
    "\n",
    "1. Crea un archivo llamado mimodulo.py\n",
    "\n",
    "        def saludar(nombre):\n",
    "            print(f\"Hola, {nombre}!\")\n",
    "\n",
    "        def despedirse(nombre):\n",
    "            print(f\"Adiós, {nombre}!\")\n",
    "\n",
    "2. importar mimodulo.py:"
   ]
  },
  {
   "cell_type": "code",
   "execution_count": 13,
   "metadata": {},
   "outputs": [
    {
     "name": "stdout",
     "output_type": "stream",
     "text": [
      "Hola, Isabel!\n",
      "Adiós, Isabel!\n"
     ]
    }
   ],
   "source": [
    "# mimodulo.py\n",
    "import mimodulo\n",
    "\n",
    "mimodulo.saludar(\"Isabel\")\n",
    "mimodulo.despedirse(\"Isabel\")"
   ]
  },
  {
   "cell_type": "code",
   "execution_count": 14,
   "metadata": {},
   "outputs": [
    {
     "name": "stdout",
     "output_type": "stream",
     "text": [
      "Hola, Isabel!\n"
     ]
    }
   ],
   "source": [
    "from mimodulo import saludar\n",
    "\n",
    "saludar(\"Isabel\")\n",
    "\n",
    " # Error: despedirse no está definido\n",
    "#despedirse(\"Isabel\") "
   ]
  },
  {
   "cell_type": "markdown",
   "metadata": {},
   "source": [
    "### Módulos estándar y módulos de terceros\n",
    "\n",
    "- Python viene con una biblioteca estándar que incluye muchos módulos útiles, como `math`, `datetime`, `os`, entre otros. \n",
    "\n",
    "- Además, puedes instalar módulos de terceros usando pip, el gestor de paquetes de Python."
   ]
  },
  {
   "cell_type": "code",
   "execution_count": 15,
   "metadata": {},
   "outputs": [
    {
     "name": "stdout",
     "output_type": "stream",
     "text": [
      "4.0\n"
     ]
    }
   ],
   "source": [
    "import math\n",
    "\n",
    "print(math.sqrt(16))  "
   ]
  },
  {
   "cell_type": "code",
   "execution_count": 16,
   "metadata": {},
   "outputs": [],
   "source": [
    "## pip install graphviz"
   ]
  },
  {
   "cell_type": "markdown",
   "metadata": {},
   "source": [
    "### Importación con Alias\n",
    "\n",
    "Se puede asignar un alias a un módulo o función importada usando la palabra clave `as`."
   ]
  },
  {
   "cell_type": "code",
   "execution_count": 17,
   "metadata": {},
   "outputs": [
    {
     "name": "stdout",
     "output_type": "stream",
     "text": [
      "2025-02-13 16:21:28.259294\n"
     ]
    }
   ],
   "source": [
    "import datetime as dt\n",
    "\n",
    "print(dt.datetime.now())"
   ]
  }
 ],
 "metadata": {
  "kernelspec": {
   "display_name": "base",
   "language": "python",
   "name": "python3"
  },
  "language_info": {
   "codemirror_mode": {
    "name": "ipython",
    "version": 3
   },
   "file_extension": ".py",
   "mimetype": "text/x-python",
   "name": "python",
   "nbconvert_exporter": "python",
   "pygments_lexer": "ipython3",
   "version": "3.12.8"
  }
 },
 "nbformat": 4,
 "nbformat_minor": 2
}
