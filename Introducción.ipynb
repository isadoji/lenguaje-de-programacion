{
 "cells": [
  {
   "cell_type": "markdown",
   "metadata": {},
   "source": [
    "# Temario del Curso de Introducción a la Programación en Python\n",
    "1. Introducción a la Programación y Python\n",
    "* Conceptos básicos de programación\n",
    "* Instalación y configuración de Python\n",
    "* Primeros pasos con Python\n",
    "\n",
    "2. Estructuras de Datos Básicas\n",
    "* Variables y tipos de datos\n",
    "* Listas, tuplas y diccionarios\n",
    "* Operaciones básicas con estructuras de datos\n",
    "\n",
    "3. Control de Flujo\n",
    "* Condicionales (if, else, elif)\n",
    "* Bucles (for, while)\n",
    "* Comprensión de listas\n",
    "\n",
    "\n",
    "4. Pseudocódigo\n",
    "* Introducción al pseudocódigo\n",
    "* Escribir algoritmos en pseudocódigo\n",
    "* Ejemplos y ejercicios de pseudocódigo\n",
    "\n",
    "5. Funciones y Módulos\n",
    "* Definición y uso de funciones\n",
    "* Parámetros y retorno de valores\n",
    "* Importación y uso de módulos\n",
    "\n",
    "6. Manejo de Archivos\n",
    "* Lectura y escritura de archivos\n",
    "* Manejo de excepciones\n",
    "* Uso de bibliotecas para manejo avanzado de archivos\n",
    "\n",
    "7. Introducción a la Programación Orientada a Objetos\n",
    "* Clases y objetos\n",
    "* Métodos y atributos\n",
    "* Herencia y polimorfismo\n",
    "\n",
    "8. Bibliotecas Científicas en Python\n",
    "* Introducción a NumPy\n",
    "* Introducción a Matplotlib\n",
    "\n",
    "9. Introducción a Pandas\n",
    "* Estructuras de datos en Pandas: Series y DataFrames\n",
    "* Operaciones básicas con Pandas\n",
    "* Ejercicios prácticos con Pandas\n",
    "* Resolución de Problemas Físicos con Python\n",
    "\n",
    "10. Simulación de problemas físicos\n",
    "* Análisis de datos experimentales\n",
    "* Visualización de resultados\n",
    "\n",
    "## Bibliografía:\n",
    "\n",
    "### Libros:\n",
    "\n",
    "\"Python Crash Course\" by Eric Matthes\n",
    "\"Automate the Boring Stuff with Python\" by Al Sweigart\n",
    "\n",
    "### Recursos en Línea:\n",
    "\n",
    "* Python Documentation: https://docs.python.org/3/\n",
    "* W3Schools Python Tutorial: https://www.w3schools.com/python/\n",
    "* Real Python: https://realpython.com/\n",
    "* Pandas Documentation: https://pandas.pydata.org/pandas-docs/stable/"
   ]
  },
  {
   "cell_type": "markdown",
   "metadata": {},
   "source": [
    "\n",
    "# Introducción a la Programación y Python\n",
    "\n",
    "## Conceptos Básicos de Programación\n",
    "\n",
    "1. Teoría:\n",
    "* ¿Qué es la programación?\n",
    "* Historia y evolución de los lenguajes de programación\n",
    "* Introducción a Python: características y aplicaciones\n",
    "\n",
    "2. Práctica:\n",
    "* Instalación de Python y Jupyter Notebook\n",
    "* Primer programa en Python: \"Hola, Mundo\"\n",
    "* Ejercicios básicos de entrada y salida de datos\n",
    "\n",
    "### ¿Qué es la programación?\n",
    "* La programación es el proceso de crear un conjunto de instrucciones que le dicen a una computadora cómo realizar una tarea.\n",
    "\n",
    "### Historia y evolución de los lenguajes de programación\n",
    "* Los lenguajes de programación han evolucionado desde el ensamblador hasta los lenguajes de alto nivel como Python.\n",
    "\n",
    "### Introducción a Python: características y aplicaciones\n",
    "* Python es un lenguaje de programación interpretado, de alto nivel y de propósito general. Es conocido por su sintaxis clara y legible.\n",
    "\n",
    "### Instalación de Python y Jupyter Notebook\n",
    "\n",
    "* Para instalar Python, visita https://www.python.org/downloads/ y sigue las instrucciones para tu sistema operativo.\n"
   ]
  },
  {
   "cell_type": "code",
   "execution_count": 1,
   "metadata": {},
   "outputs": [
    {
     "name": "stdout",
     "output_type": "stream",
     "text": [
      "Python 3.12.8\n"
     ]
    }
   ],
   "source": [
    "# Verifica la versión de Python instalada\n",
    "!python --version"
   ]
  },
  {
   "cell_type": "code",
   "execution_count": 2,
   "metadata": {},
   "outputs": [
    {
     "name": "stdout",
     "output_type": "stream",
     "text": [
      "Hola, Mundo\n"
     ]
    }
   ],
   "source": [
    "## Primer programa en Python: \"Hola, Mundo\"\n",
    "\n",
    "print(\"Hola, Mundo\")\n",
    "\n"
   ]
  },
  {
   "cell_type": "code",
   "execution_count": null,
   "metadata": {},
   "outputs": [],
   "source": [
    "# Para instalar Jupyter Notebook, abre una terminal y ejecuta:\n",
    "# !pip install notebook\n"
   ]
  },
  {
   "cell_type": "code",
   "execution_count": 16,
   "metadata": {},
   "outputs": [
    {
     "name": "stdout",
     "output_type": "stream",
     "text": [
      "Hola, isabel!\n",
      "La suma de 1.0 y 2.0 es 3.0\n"
     ]
    }
   ],
   "source": [
    "## Ejercicios básicos de entrada y salida de datos\n",
    "\n",
    "# Ejercicio 1: Escribe un programa que pida al usuario su nombre y lo salude.\n",
    "nombre = input(\"Introduce tu nombre: \")\n",
    "print(f\"Hola, {nombre}!\")\n",
    "\n",
    "# Ejercicio 2: Escribe un programa que pida dos números y calcule su suma.\n",
    "num1 = float(input(\"Introduce el primer número: \"))\n",
    "num2 = float(input(\"Introduce el segundo número: \"))\n",
    "suma = num1 + num2\n",
    "print(f\"La suma de {num1} y {num2} es {suma}\")"
   ]
  },
  {
   "cell_type": "markdown",
   "metadata": {},
   "source": [
    "2. Historia e Instalación de Python"
   ]
  },
  {
   "cell_type": "markdown",
   "metadata": {},
   "source": [
    "## Historia de Python\n",
    "- Creado por Guido van Rossum en 1991.\n",
    "- Lenguaje interpretado, de alto nivel y propósito general.\n",
    "- Popular en ciencia, ingeniería y análisis de datos.\n",
    "\n",
    "## Instalación de Python\n",
    "- Herramientas necesarias:\n",
    "  - Python 3.x (descargable desde [python.org](https://www.python.org/)).\n",
    "  - IDEs recomendados: Visual Studio Code, Jupyter Notebook.\n",
    "  - Instalación de paquetes con `pip`.\n",
    "\n",
    "### Ejercicio 1: Configura tu entorno de desarrollo\n"
   ]
  },
  {
   "cell_type": "code",
   "execution_count": 3,
   "metadata": {},
   "outputs": [
    {
     "name": "stdout",
     "output_type": "stream",
     "text": [
      "Python 3.12.8\n"
     ]
    }
   ],
   "source": [
    "!python --version"
   ]
  },
  {
   "cell_type": "markdown",
   "metadata": {},
   "source": [
    "3. Sintaxis Básica y Variables"
   ]
  },
  {
   "cell_type": "markdown",
   "metadata": {},
   "source": [
    "## Sintaxis Básica\n",
    "- Identación obligatoria para delimitar bloques de código.\n",
    "- Comentarios: `# Esto es un comentario`.\n",
    "\n",
    "### Ejemplo:\n"
   ]
  },
  {
   "cell_type": "code",
   "execution_count": 11,
   "metadata": {},
   "outputs": [
    {
     "name": "stdout",
     "output_type": "stream",
     "text": [
      "Hola, mundo\n"
     ]
    }
   ],
   "source": [
    "# Hola, mundo en Python\n",
    "print(\"Hola, mundo\")\n"
   ]
  },
  {
   "cell_type": "markdown",
   "metadata": {},
   "source": [
    "## Variables y Tipos de Datos\n",
    "- Variables: nombres que representan valores.\n",
    "- Tipos básicos:\n",
    "  - `int`: Enteros.\n",
    "  - `float`: Decimales.\n",
    "  - `str`: Cadenas de texto.\n",
    "  - `bool`: Booleanos.\n",
    "\n",
    "### Ejemplo:\n"
   ]
  },
  {
   "cell_type": "code",
   "execution_count": 12,
   "metadata": {},
   "outputs": [
    {
     "name": "stdout",
     "output_type": "stream",
     "text": [
      "Nombre: Ana Edad: 20\n"
     ]
    }
   ],
   "source": [
    "nombre = \"Ana\"\n",
    "edad = 20\n",
    "print(\"Nombre:\", nombre, \"Edad:\", edad)\n"
   ]
  },
  {
   "cell_type": "markdown",
   "metadata": {},
   "source": [
    "4. Operadores y Expresiones"
   ]
  },
  {
   "cell_type": "markdown",
   "metadata": {},
   "source": [
    "## Operadores en Python\n",
    "- Aritméticos: `+`, `-`, `*`, `/`, `//`, `%`.\n",
    "- Relacionales: `<`, `>`, `<=`, `>=`, `==`, `!=`.\n",
    "- Lógicos: `and`, `or`, `not`.\n",
    "\n",
    "### Ejemplo:\n"
   ]
  },
  {
   "cell_type": "code",
   "execution_count": 13,
   "metadata": {},
   "outputs": [
    {
     "name": "stdout",
     "output_type": "stream",
     "text": [
      "Suma: 13\n",
      "Comparación: True\n",
      "Módulo: 1\n"
     ]
    }
   ],
   "source": [
    "x, y = 10, 3\n",
    "print(\"Suma:\", x + y)\n",
    "print(\"Comparación:\", x > y)\n",
    "print(\"Módulo:\", x % y)\n"
   ]
  },
  {
   "cell_type": "markdown",
   "metadata": {},
   "source": [
    "5. Entradas y Salidas"
   ]
  },
  {
   "cell_type": "markdown",
   "metadata": {},
   "source": [
    "## Entrada de Datos\n",
    "- Uso de `input()` para recibir datos del usuario.\n",
    "- Conversión de tipos con `int()`, `float()`.\n",
    "\n",
    "### Ejemplo:\n"
   ]
  },
  {
   "cell_type": "markdown",
   "metadata": {},
   "source": [
    "## Salida de Datos\n",
    "- Uso de `print()` para mostrar resultados.\n",
    "- Formateo de cadenas con f-strings.\n",
    "\n",
    "### Ejemplo:\n"
   ]
  },
  {
   "cell_type": "code",
   "execution_count": 4,
   "metadata": {},
   "outputs": [
    {
     "name": "stdout",
     "output_type": "stream",
     "text": [
      "Tienes {edad} años\n"
     ]
    }
   ],
   "source": [
    "edad = 25\n",
    "print(f\"Tienes {edad} años\")\n"
   ]
  },
  {
   "cell_type": "markdown",
   "metadata": {},
   "source": [
    "Utiliza una característica de Python llamada \"f-strings\" (formatted string literals) para imprimir una cadena de texto que incluye el valor de una variable.\n",
    "\n",
    "1. f-string:\n",
    "\n",
    "* La *f* antes de las comillas indica que se está utilizando una f-string. Las f-strings permiten incluir expresiones dentro de una cadena de texto, que serán evaluadas y reemplazadas por sus valores correspondientes.\n",
    "* Sintaxis: f\"texto {expresion} texto\"\n",
    "\n",
    "2. Interpolación de Variables:\n",
    "\n",
    "* Dentro de las llaves {}, se puede colocar cualquier expresión válida de Python, incluyendo variables.\n",
    "* En este caso, {edad} es una variable que se interpolará en la cadena de texto.\n",
    "\n",
    "3. Variable edad:\n",
    "\n",
    "Se asume que edad es una variable previamente definida que contiene un valor numérico (la edad de una persona)."
   ]
  },
  {
   "cell_type": "markdown",
   "metadata": {},
   "source": [
    "* Concatenación de Cadenas:\n",
    "\n",
    "Ventaja: Simple y fácil de entender.\n",
    "Desventaja: Puede ser menos legible con muchas variables.\n",
    "\n",
    "* Formateo con el Operador %:\n",
    "\n",
    "Ventaja: Similar a la sintaxis de C.\n",
    "Desventaja: Menos flexible y más propenso a errores.\n",
    "\n",
    "* Método str.format():\n",
    "\n",
    "Ventaja: Más flexible y legible.\n",
    "Desventaja: Más verboso que las f-strings.\n",
    "\n",
    "*f-strings:\n",
    "\n",
    "Ventaja: Muy legible y eficiente.\n",
    "Desventaja: Solo disponible en Python 3.6 y versiones posteriores.\n",
    "\n",
    "*Template Strings:\n",
    "\n",
    "Ventaja: Útil para plantillas más complejas y reutilizables.\n",
    "Desventaja: Menos intuitivo y más verboso."
   ]
  },
  {
   "cell_type": "code",
   "execution_count": null,
   "metadata": {},
   "outputs": [],
   "source": [
    "edad = 25\n",
    "\n",
    "# Concatenación de Cadenas\n",
    "print(\"Tienes \" + str(edad) + \" años\")\n",
    "\n",
    "# Formateo con el Operador %\n",
    "print(\"Tienes %d años\" % edad)\n",
    "\n",
    "# Método str.format()\n",
    "print(\"Tienes {} años\".format(edad))\n",
    "\n",
    "# f-strings\n",
    "print(f\"Tienes {edad} años\")\n",
    "\n",
    "# Template Strings\n",
    "from string import Template\n",
    "template = Template(\"Tienes $edad años\")\n",
    "print(template.substitute(edad=edad))"
   ]
  }
 ],
 "metadata": {
  "kernelspec": {
   "display_name": "base",
   "language": "python",
   "name": "python3"
  },
  "language_info": {
   "codemirror_mode": {
    "name": "ipython",
    "version": 3
   },
   "file_extension": ".py",
   "mimetype": "text/x-python",
   "name": "python",
   "nbconvert_exporter": "python",
   "pygments_lexer": "ipython3",
   "version": "3.12.8"
  }
 },
 "nbformat": 4,
 "nbformat_minor": 2
}
