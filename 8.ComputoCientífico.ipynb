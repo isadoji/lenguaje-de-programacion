{
 "cells": [
  {
   "cell_type": "markdown",
   "metadata": {},
   "source": [
    "# 8. Sympy, Numpy, Scipy, Matplotlib"
   ]
  },
  {
   "cell_type": "markdown",
   "metadata": {},
   "source": [
    "## Qué es SymPy?\n",
    "\n",
    "`SymPy` es una biblioteca de Python para matemáticas simbólicas. Permite realizar cálculos matemáticos exactos, como álgebra, cálculo, teoría de números y más, de manera simbólica en lugar de numérica. Esto significa que puedes trabajar con expresiones matemáticas como variables, ecuaciones y funciones, en lugar de solo números.\n",
    "\n",
    "### Características:\n",
    "\n",
    "1. **Álgebra Simbólica:**\n",
    "* Simplificación de expresiones algebraicas.\n",
    "* Expansión y factorización de polinomios.\n",
    "* Operaciones con fracciones algebraicas.\n",
    "* Cálculo Diferencial e Integral:\n",
    "2. **Derivadas y diferenciales.**\n",
    "* Integrales definidas e indefinidas.\n",
    "* Series de Taylor.\n",
    "3. **Resolución de Ecuaciones:**\n",
    "* Resolver ecuaciones algebraicas y diferenciales.\n",
    "* Sistemas de ecuaciones lineales y no lineales.\n",
    "4. **Matrices y Álgebra Lineal:**\n",
    "* Operaciones con matrices simbólicas.\n",
    "* Determinantes, inversas y autovalores.\n",
    "5. **Cálculo Numérico:**\n",
    "* Evaluación numérica de expresiones simbólicas.\n",
    "* Conversión de expresiones simbólicas a funciones numéricas.\n",
    "6. **Gráficas:**\n",
    "* Representación gráfica de funciones y expresiones.\n",
    "7. **Soporte para Matemáticas Avanzadas:**\n",
    "* Teoría de números, combinatoria, geometría, etc.\n",
    "\n",
    "### Ventajas\n",
    "\n",
    "1. **Cálculos Exactos**: Trabaja con expresiones simbólicas en lugar de aproximaciones numéricas.\n",
    "2. **Fácil de Usar**: Tiene una sintaxis intuitiva y está bien documentado.\n",
    "3. **Independencia de Dependencias**: Es una biblioteca pura de Python, no requiere dependencias externas.\n",
    "4. **Versatilidad**: Soporta una amplia gama de operaciones matemáticas.\n",
    "\n",
    "### Instalación\n",
    "\n",
    "    ! pip install sympy\n",
    "\n",
    "### Documentación\n",
    "\n",
    "https://www.sympy.org/en/index.html\n"
   ]
  },
  {
   "cell_type": "markdown",
   "metadata": {},
   "source": [
    "### 1. Declarar Variables Simbólicas"
   ]
  },
  {
   "cell_type": "code",
   "execution_count": 18,
   "metadata": {},
   "outputs": [
    {
     "name": "stdout",
     "output_type": "stream",
     "text": [
      "x**2 + 2*x + 1\n"
     ]
    }
   ],
   "source": [
    "from sympy import symbols\n",
    "\n",
    "# Declarar variables simbólicas\n",
    "x, y = symbols('x y')\n",
    "# Crear una expresión simbólica\n",
    "expr = x**2 + 2*x + 1\n",
    "print(expr) "
   ]
  },
  {
   "cell_type": "markdown",
   "metadata": {},
   "source": [
    "### 2. Simplificación de Expresiones "
   ]
  },
  {
   "cell_type": "code",
   "execution_count": 19,
   "metadata": {},
   "outputs": [
    {
     "name": "stdout",
     "output_type": "stream",
     "text": [
      "(x**2 + 2*x + 1)/(x + 1)\n",
      "x + 1\n"
     ]
    }
   ],
   "source": [
    "from sympy import simplify\n",
    "\n",
    "# Simplificar una expresión\n",
    "expr = (x**2 + 2*x + 1) / (x + 1)\n",
    "print(expr)\n",
    "simplified_expr = simplify(expr)\n",
    "print(simplified_expr)  "
   ]
  },
  {
   "cell_type": "markdown",
   "metadata": {},
   "source": [
    "### 3. Derivadas"
   ]
  },
  {
   "cell_type": "code",
   "execution_count": 20,
   "metadata": {},
   "outputs": [
    {
     "name": "stdout",
     "output_type": "stream",
     "text": [
      "x**3 + 3*x**2 + 5\n",
      "3*x**2 + 6*x\n"
     ]
    }
   ],
   "source": [
    "from sympy import diff\n",
    "\n",
    "# Derivar una función\n",
    "f = x**3 + 3*x**2 + 5\n",
    "print(f)\n",
    "derivada = diff(f, x)\n",
    "print(derivada)"
   ]
  },
  {
   "cell_type": "markdown",
   "metadata": {},
   "source": [
    "### 4. Integrales\n"
   ]
  },
  {
   "cell_type": "code",
   "execution_count": 21,
   "metadata": {},
   "outputs": [
    {
     "name": "stdout",
     "output_type": "stream",
     "text": [
      "x**3/3\n",
      "8/3\n"
     ]
    }
   ],
   "source": [
    "from sympy import integrate\n",
    "\n",
    "# Integral indefinida\n",
    "integral_indef = integrate(x**2, x)\n",
    "print(integral_indef) \n",
    "\n",
    "# Integral definida en un intervalo\n",
    "integral_def = integrate(x**2, (x, 0, 2))\n",
    "print(integral_def) "
   ]
  },
  {
   "cell_type": "markdown",
   "metadata": {},
   "source": [
    "### 5. Resolver Ecuaciones"
   ]
  },
  {
   "cell_type": "code",
   "execution_count": 22,
   "metadata": {},
   "outputs": [
    {
     "name": "stdout",
     "output_type": "stream",
     "text": [
      "[-2, 2]\n"
     ]
    }
   ],
   "source": [
    "from sympy import Eq, solve\n",
    "\n",
    "# Resolver una ecuación algebraica\n",
    "ecuacion = Eq(x**2 - 4, 0) #equivalencia booleana\n",
    "soluciones = solve(ecuacion, x)\n",
    "print(soluciones) "
   ]
  },
  {
   "cell_type": "markdown",
   "metadata": {},
   "source": [
    "### 6. Operaciones con Matrices\n"
   ]
  },
  {
   "cell_type": "code",
   "execution_count": 23,
   "metadata": {},
   "outputs": [
    {
     "name": "stdout",
     "output_type": "stream",
     "text": [
      "Matrix([[1, 2], [3, 4]])\n",
      "-2\n",
      "Matrix([[-2, 1], [3/2, -1/2]])\n"
     ]
    }
   ],
   "source": [
    "from sympy import Matrix\n",
    "\n",
    "# Crear una matriz simbólica\n",
    "A = Matrix([[1, 2], [3, 4]])\n",
    "print(A)\n",
    "\n",
    "# Calcular el determinante\n",
    "determinante = A.det()\n",
    "print(determinante)  # Salida: -2\n",
    "\n",
    "# Calcular la inversa\n",
    "inversa = A.inv()\n",
    "print(inversa)"
   ]
  },
  {
   "cell_type": "markdown",
   "metadata": {},
   "source": [
    "### 7. Evaluación Numérica\n"
   ]
  },
  {
   "cell_type": "code",
   "execution_count": 24,
   "metadata": {},
   "outputs": [
    {
     "name": "stdout",
     "output_type": "stream",
     "text": [
      "0.707106781186548\n"
     ]
    }
   ],
   "source": [
    "from sympy import pi, sin\n",
    "\n",
    "# Evaluar una expresión simbólica numéricamente\n",
    "expr = sin(pi / 4)\n",
    "valor = expr.evalf()\n",
    "print(valor) "
   ]
  },
  {
   "cell_type": "markdown",
   "metadata": {},
   "source": [
    "## ¿Qué es NumPy y por qué usarlo en lugar de listas de Python?\n",
    "\n",
    "`NumPy` (Numerical Python) es una biblioteca para el cómputo científico. Proporciona:\n",
    "\n",
    "1. Arreglos multidimensionales (arrays) y matrices, que son estructuras de datos más eficientes que las listas de Python para operaciones numéricas.\n",
    "2. Funciones matemáticas optimizadas para realizar cálculos rápidos sobre estos arreglos.\n",
    "3. Herramientas avanzadas para álgebra lineal, transformadas de Fourier, generación de números aleatorios, entre otras.\n",
    "\n",
    "Aunque las listas de Python son versátiles, NumPy ofrece varias ventajas significativas para cálculos numéricos y científicos:\n",
    "\n",
    "1. Eficiencia: Los arreglos de NumPy son más rápidos y consumen menos memoria que las listas de Python.\n",
    "NumPy utiliza implementaciones en C y Fortran, lo que lo hace mucho más eficiente para operaciones matemáticas.\n",
    "2. Operaciones Vectorizadas: NumPy permite realizar operaciones matemáticas directamente sobre arreglos completos sin necesidad de bucles explícitos.\n",
    "\n",
    "## Instalación de NumPy.\n",
    "\n",
    "    ! pip install numpy"
   ]
  },
  {
   "cell_type": "markdown",
   "metadata": {},
   "source": [
    "## Lista\n",
    "\n",
    "Una lista en Python es una colección ordenada de elementos que puede contener diferentes tipos de datos (por ejemplo, enteros, cadenas, flotantes, etc.).\n",
    "\n",
    "1. Flexibilidad: Las listas son muy flexibles, ya que pueden contener elementos heterogéneos (por ejemplo, [1, \"texto\", 3.14]).\n",
    "2. Operaciones Matemáticas: **No soportan operaciones** matemáticas vectorizadas."
   ]
  },
  {
   "cell_type": "code",
   "execution_count": 25,
   "metadata": {},
   "outputs": [
    {
     "name": "stdout",
     "output_type": "stream",
     "text": [
      "[1, 2, 3, 4, 5]\n",
      "<class 'list'>\n",
      "[1, 2, 3, 4, 5, 1, 2, 3, 4, 5]\n"
     ]
    }
   ],
   "source": [
    "arr1 = [1, 2, 3, 4, 5] # Crear una lista\n",
    "print(arr1) # Imprimir la lista\n",
    "print(type(arr1)) # Imprimir el tipo de dato de la lista\n",
    "print(2*arr1) # Multiplicar la lista por 2"
   ]
  },
  {
   "cell_type": "code",
   "execution_count": 26,
   "metadata": {},
   "outputs": [
    {
     "name": "stdout",
     "output_type": "stream",
     "text": [
      "2\n",
      "4\n",
      "6\n",
      "8\n",
      "10\n"
     ]
    }
   ],
   "source": [
    "#bucle\n",
    "for i in arr1:\n",
    "    print(2*i)"
   ]
  },
  {
   "cell_type": "markdown",
   "metadata": {},
   "source": [
    "## Numpy\n",
    "\n",
    "Un arreglo de NumPy es una estructura de datos optimizada para cálculos numéricos. Todos los elementos del arreglo deben ser del mismo tipo (por ejemplo, enteros o flotantes).\n",
    "1. Eficiencia: Los arreglos de NumPy son más rápidos y consumen menos memoria que las listas de Python, ya que están implementados en C.\n",
    "2. Operaciones Matemáticas: Soportan operaciones matemáticas vectorizadas, lo que significa que puedes realizar operaciones directamente sobre todos los elementos del arreglo sin necesidad de bucles"
   ]
  },
  {
   "cell_type": "code",
   "execution_count": 27,
   "metadata": {},
   "outputs": [
    {
     "name": "stdout",
     "output_type": "stream",
     "text": [
      "[1 2 3 4 5]\n",
      "<class 'numpy.ndarray'>\n",
      "[ 2  4  6  8 10]\n"
     ]
    }
   ],
   "source": [
    "import numpy as np # Importar la librería numpy\n",
    "\n",
    "arr2 = np.array(arr1) # Convertir la lista en un array\n",
    "print(arr2) # Imprimir el array\n",
    "print(type(arr2)) # Imprimir el tipo de dato del array\n",
    "print(2*arr2) # Multiplicar el array por 2"
   ]
  },
  {
   "cell_type": "markdown",
   "metadata": {},
   "source": [
    "Diferencias Clave\n",
    "\n",
    "\n",
    "| Característica |\tLista de Python (`list`) |\tArreglo de NumPy (`numpy.ndarray`) |\n",
    "|---|---|---|\n",
    "| Tipo de datos |\tPuede contener elementos de diferentes tipos. |\tTodos los elementos deben ser del mismo tipo. |\n",
    "| Eficiencia |\tMenos eficiente en operaciones numéricas. |\tMás eficiente, ya que está optimizado para cálculos numéricos. |\n",
    "| Operaciones matemáticas |\tNo soporta operaciones vectorizadas. |\tSoporta operaciones vectorizadas directamente. |\n",
    "| Uso en cálculos científicos |\tNo es ideal para cálculos numéricos avanzados. |\tIdeal para cálculos científicos y numéricos. |\n",
    " Memoria |\tConsume más memoria. |\tConsume menos memoria."
   ]
  },
  {
   "cell_type": "markdown",
   "metadata": {},
   "source": [
    "## Tipos de datos en arrays (`dtype`).\n",
    "\n",
    "En NumPy, los arreglos (`numpy.ndarray`) pueden contener datos de diferentes tipos, y el tipo de dato de un arreglo se especifica mediante el atributo `dtype`. Este atributo define el tipo de los elementos almacenados en el arreglo, como enteros, flotantes, cadenas, etc.\n",
    "\n",
    "El atributo `dtype` en NumPy es crucial para definir y trabajar con el tipo de datos en un arreglo. Esto permite optimizar el uso de memoria y realizar cálculos numéricos de manera eficiente. Puedes especificar el tipo de dato al crear un arreglo o cambiarlo posteriormente según sea necesario.\n",
    "\n",
    "### Tipos de Datos Comunes en NumPy (dtype)\n",
    "\n",
    "| Tipo de Dato |\tDescripción |\n",
    "| --- | --- |\n",
    "| int8 | Enteros de 8 bits (rango: -128 a 127).     \n",
    "| int16\t| Enteros de 16 bits (rango: -32,768 a 32,767).     \n",
    "| int32 | Enteros de 32 bits (rango: -2,147,483,648 a 2,147,483,647). |\n",
    "| int64\t| Enteros de 64 bits (rango: -9,223,372,036,854,775,808 a 9,223,372,036,854,775,807). |\n",
    "| uint8\t| Enteros sin signo de 8 bits (rango: 0 a 255). |\n",
    "| uint16 |\tEnteros sin signo de 16 bits (rango: 0 a 65,535). |\n",
    "| uint32 |\tEnteros sin signo de 32 bits (rango: 0 a 4,294,967,295). |\n",
    "| uint64 |\tEnteros sin signo de 64 bits (rango: 0 a 18,446,744,073,709,551,615). |\n",
    "| float16 |\tFlotantes de 16 bits (precisión reducida). |\n",
    "| float32 |\tFlotantes de 32 bits (precisión simple). |\n",
    "| float64 |\tFlotantes de 64 bits (precisión doble, este es el tipo por defecto para flotantes). |\n",
    "| complex64 |\tNúmeros complejos de 64 bits (32 bits para la parte real y 32 bits para la parte imaginaria). |\n",
    "| complex128 |\tNúmeros complejos de 128 bits (64 bits para la parte real y 64 bits para la parte imaginaria). |\n",
    "| bool |\tValores booleanos (True o False). |\n",
    "| str o U |\tCadenas de texto Unicode. |\n",
    "| object |\tObjetos de Python (pueden contener cualquier tipo de dato). |"
   ]
  },
  {
   "cell_type": "code",
   "execution_count": 28,
   "metadata": {},
   "outputs": [
    {
     "name": "stdout",
     "output_type": "stream",
     "text": [
      "[1 2 3]\n",
      "int32\n",
      "[1.5 2.5 3.5]\n",
      "float64\n",
      "[False  True  True]\n",
      "bool\n",
      "['1' '2' '3']\n",
      "<U1\n"
     ]
    }
   ],
   "source": [
    "# Crear un arreglo de enteros\n",
    "arr_int = np.array([1, 2, 3], dtype='int32')\n",
    "print(arr_int) \n",
    "print(arr_int.dtype) \n",
    "\n",
    "# Crear un arreglo de flotantes\n",
    "arr_float = np.array([1.5, 2.5, 3.5], dtype='float64')\n",
    "print(arr_float)  \n",
    "print(arr_float.dtype) \n",
    "\n",
    "# Crear un arreglo de booleanos\n",
    "arr_bool = np.array([0, 1, 2], dtype='bool')\n",
    "print(arr_bool)  \n",
    "print(arr_bool.dtype) \n",
    "\n",
    "# Crear un arreglo de cadenas\n",
    "arr_str = np.array([1, 2, 3], dtype='str')\n",
    "print(arr_str)  \n",
    "print(arr_str.dtype)"
   ]
  },
  {
   "cell_type": "markdown",
   "metadata": {},
   "source": [
    "## Creación de arrays\n",
    "\n",
    "En NumPy, existen varias formas de crear arreglos (`arrays`) dependiendo de las necesidades. A continuación, se explican los métodos más comunes para crear arreglos\n",
    "\n",
    "1. `np.array()`\n",
    "\n",
    "Crea un arreglo a partir de una lista, tupla u otra estructura iterable de Python."
   ]
  },
  {
   "cell_type": "code",
   "execution_count": 29,
   "metadata": {},
   "outputs": [
    {
     "name": "stdout",
     "output_type": "stream",
     "text": [
      "[1 2 3 4 5]\n",
      "int64\n",
      "[1. 2. 3.]\n"
     ]
    }
   ],
   "source": [
    "\n",
    "# Crear un arreglo a partir de una lista\n",
    "arr = np.array([1, 2, 3, 4, 5])\n",
    "print(arr)  \n",
    "print(arr.dtype) \n",
    "\n",
    "# Crear un arreglo especificando el tipo de dato\n",
    "arr_float = np.array([1, 2, 3], dtype='float64')\n",
    "print(arr_float) "
   ]
  },
  {
   "cell_type": "markdown",
   "metadata": {},
   "source": [
    "2. `np.zeros()`\n",
    "\n",
    "Crea un arreglo lleno de ceros. Es útil para inicializar arreglos vacíos con valores predeterminados.\n",
    "\n",
    "    np.zeros(shape, dtype=float)\n",
    "\n",
    "* `shape`: Una tupla que define las dimensiones del arreglo.\n",
    "* `dtype`: Tipo de dato de los elementos (opcional, por defecto es float).\n",
    "\n"
   ]
  },
  {
   "cell_type": "code",
   "execution_count": 30,
   "metadata": {},
   "outputs": [
    {
     "name": "stdout",
     "output_type": "stream",
     "text": [
      "[[0. 0. 0.]\n",
      " [0. 0. 0.]\n",
      " [0. 0. 0.]]\n"
     ]
    }
   ],
   "source": [
    "# Crear un array de ceros de 3x3\n",
    "ceros = np.zeros((3,3))\n",
    "print(ceros)\n"
   ]
  },
  {
   "cell_type": "markdown",
   "metadata": {},
   "source": [
    "3. `np.ones()`\n",
    "\n",
    "Crea un arreglo lleno de unos. Es útil para inicializar arreglos con valores predeterminados de uno.\n",
    "\n",
    "    np.ones(shape, dtype=float)\n",
    "\n",
    "* `shape`: Una tupla que define las dimensiones del arreglo.\n",
    "* `dtype`: Tipo de dato de los elementos (opcional, por defecto es float).\n",
    "\n"
   ]
  },
  {
   "cell_type": "code",
   "execution_count": 31,
   "metadata": {},
   "outputs": [
    {
     "name": "stdout",
     "output_type": "stream",
     "text": [
      "[[1 1]\n",
      " [1 1]\n",
      " [1 1]]\n"
     ]
    }
   ],
   "source": [
    "# Crear un arreglo de unos de 2D\n",
    "arr_ones_2d = np.ones((3, 2), dtype='int32')\n",
    "print(arr_ones_2d)"
   ]
  },
  {
   "cell_type": "markdown",
   "metadata": {},
   "source": [
    "4. `np.linspace()`\n",
    "\n",
    "Crea un arreglo con valores igualmente espaciados entre un rango especificado.\n",
    "\n",
    "    np.linspace(start, stop, num=50, endpoint=True, dtype=None)\n",
    "\n",
    "\n",
    "* `start`: Valor inicial.\n",
    "* `stop`: Valor final.\n",
    "* `num`: Número de valores a generar (por defecto es 50).\n",
    "* `endpoint`: Si es True, incluye el valor final (stop).\n",
    "* `dtype`: Tipo de dato de los elementos (opcional).\n"
   ]
  },
  {
   "cell_type": "code",
   "execution_count": 32,
   "metadata": {},
   "outputs": [
    {
     "name": "stdout",
     "output_type": "stream",
     "text": [
      "[ 0.   2.5  5.   7.5 10. ]\n",
      "[1.   1.25 1.5  1.75]\n"
     ]
    }
   ],
   "source": [
    "# Crear un arreglo con 5 valores igualmente espaciados entre 0 y 10\n",
    "arr_linspace = np.linspace(0, 10, 5)\n",
    "print(arr_linspace)  \n",
    "\n",
    "# Crear un arreglo con 4 valores entre 1 y 2 (sin incluir el valor final)\n",
    "arr_linspace_no_endpoint = np.linspace(1, 2, 4, endpoint=False)\n",
    "print(arr_linspace_no_endpoint) "
   ]
  },
  {
   "cell_type": "markdown",
   "metadata": {},
   "source": [
    "5. `np.arange()`\n",
    "\n",
    "Crea un arreglo con valores en un rango especificado, similar a la función range() de Python, pero devuelve un arreglo de NumPy.\n",
    "\n",
    "    np.arange(start, stop, step, dtype=None)\n",
    "\n",
    "* `start`: Valor inicial (por defecto es 0).\n",
    "* `stop`: Valor final (no incluido).\n",
    "* `step`: Incremento entre valores (por defecto es 1).\n",
    "* `dtype`: Tipo de dato de los elementos (opcional)."
   ]
  },
  {
   "cell_type": "code",
   "execution_count": 33,
   "metadata": {},
   "outputs": [
    {
     "name": "stdout",
     "output_type": "stream",
     "text": [
      "[0 1 2 3 4 5 6 7 8 9]\n",
      "[1 3 5 7 9]\n",
      "[0.  0.2 0.4 0.6 0.8]\n"
     ]
    }
   ],
   "source": [
    "# Crear un arreglo de enteros del 0 al 9\n",
    "arr_arange = np.arange(10)\n",
    "print(arr_arange)  \n",
    "\n",
    "# Crear un arreglo con un rango específico\n",
    "arr_arange_step = np.arange(1, 10, 2)\n",
    "print(arr_arange_step)  \n",
    "\n",
    "# Crear un arreglo de flotantes\n",
    "arr_arange_float = np.arange(0, 1, 0.2)\n",
    "print(arr_arange_float) "
   ]
  },
  {
   "cell_type": "markdown",
   "metadata": {},
   "source": [
    "## Cambio de Forma (`reshape`)\n",
    "\n",
    "El método reshape en NumPy se utiliza para cambiar la forma (dimensiones) de un arreglo sin alterar sus datos. Esto es útil cuando necesitas reorganizar los datos en una estructura diferente, como convertir un arreglo unidimensional en una matriz bidimensional o en un tensor de mayor dimensión\n",
    "\n",
    "    numpy.reshape(a, newshape)\n",
    "\n",
    "* `a`: El arreglo original que deseas cambiar de forma.\n",
    "* `newshape`: Una tupla que especifica la nueva forma del arreglo. **El producto de las dimensiones en newshape debe ser igual al número total de elementos en el arreglo original.**\n",
    "\n",
    "### Reglas Importantes\n",
    "\n",
    "* **Compatibilidad de Tamaño**: El número total de elementos en el arreglo original debe coincidir con el número total de elementos en la nueva forma.\n",
    "\n",
    "*Ejemplo*: Un arreglo de 6 elementos puede ser convertido a una forma (2, 3) o (3, 2), pero no a (4, 2).\n",
    "\n",
    "* **Uso de -1**: Puedes usar -1 en una de las dimensiones de newshape para que NumPy calcule automáticamente el tamaño de esa dimensión.\n",
    "\n",
    "*Ejemplo*: Si tienes un arreglo de 12 elementos, puedes usar reshape(3, -1) para que NumPy determine que la segunda dimensión debe ser 4.\n"
   ]
  },
  {
   "cell_type": "code",
   "execution_count": 34,
   "metadata": {},
   "outputs": [
    {
     "name": "stdout",
     "output_type": "stream",
     "text": [
      "[1 2 3 4 5 6]\n",
      "[[1 2 3]\n",
      " [4 5 6]]\n"
     ]
    }
   ],
   "source": [
    "# Arreglo original\n",
    "arr = np.array([1, 2, 3, 4, 5, 6])\n",
    "print(arr)\n",
    "\n",
    "# Cambiar a una matriz 2x3\n",
    "arr_reshaped = arr.reshape(2, 3)\n",
    "print(arr_reshaped)"
   ]
  },
  {
   "cell_type": "code",
   "execution_count": 35,
   "metadata": {},
   "outputs": [
    {
     "name": "stdout",
     "output_type": "stream",
     "text": [
      "[[[1 2 3]]\n",
      "\n",
      " [[4 5 6]]]\n"
     ]
    }
   ],
   "source": [
    "# Cambiar a un tensor 3D de forma (2, 1, 3)\n",
    "arr_reshaped_3d = arr.reshape(2, 1, 3)\n",
    "print(arr_reshaped_3d)"
   ]
  },
  {
   "cell_type": "code",
   "execution_count": 36,
   "metadata": {},
   "outputs": [
    {
     "name": "stdout",
     "output_type": "stream",
     "text": [
      "[[1 2]\n",
      " [3 4]\n",
      " [5 6]]\n"
     ]
    }
   ],
   "source": [
    "# Cambiar a una matriz 3x2 usando -1\n",
    "arr_reshaped_auto = arr.reshape(3, -1)\n",
    "print(arr_reshaped_auto)"
   ]
  },
  {
   "cell_type": "code",
   "execution_count": 37,
   "metadata": {},
   "outputs": [
    {
     "name": "stdout",
     "output_type": "stream",
     "text": [
      "[1 2 3 4 5 6]\n"
     ]
    }
   ],
   "source": [
    "# Arreglo 2D\n",
    "arr_2d = np.array([[1, 2, 3], [4, 5, 6]])\n",
    "\n",
    "# Cambiar a un arreglo 1D\n",
    "arr_flattened = arr_2d.reshape(-1)\n",
    "print(arr_flattened)"
   ]
  },
  {
   "cell_type": "code",
   "execution_count": 38,
   "metadata": {},
   "outputs": [],
   "source": [
    "# Esto generará un error porque 6 elementos no pueden ser reorganizados en una forma (4, 2)\n",
    "# arr_invalid = arr.reshape(4, 2)"
   ]
  },
  {
   "cell_type": "markdown",
   "metadata": {},
   "source": [
    "### Comparación con resize\n",
    "\n",
    "* `reshape`: Devuelve un nuevo arreglo con la forma especificada, pero no modifica el arreglo original.\n",
    "* `resize`: Modifica el arreglo original en su lugar y puede rellenar con ceros si el tamaño no coincide."
   ]
  },
  {
   "cell_type": "code",
   "execution_count": 39,
   "metadata": {},
   "outputs": [
    {
     "name": "stdout",
     "output_type": "stream",
     "text": [
      "[[1 2 3]\n",
      " [4 5 6]]\n",
      "[1 2 3 4 5 6]\n",
      "[[1 2 3]\n",
      " [4 5 6]]\n"
     ]
    }
   ],
   "source": [
    "# Usando reshape\n",
    "arr = np.array([1, 2, 3, 4, 5, 6])\n",
    "reshaped = arr.reshape(2, 3)\n",
    "print(reshaped)  \n",
    "print(arr)       # El arreglo original no cambia\n",
    "\n",
    "# Usando resize\n",
    "arr.resize(2, 3)\n",
    "print(arr)       # El arreglo original cambia"
   ]
  },
  {
   "cell_type": "markdown",
   "metadata": {},
   "source": [
    "## Indexación y Segmentación \n",
    "\n",
    "La indexación y segmentación (slicing) son técnicas fundamentales para acceder y manipular elementos de arreglos en NumPy. Estas herramientas permiten seleccionar elementos individuales, subconjuntos de datos o realizar operaciones avanzadas como filtrado con máscaras booleanas.\n",
    "\n",
    "### 1. Indexación\n",
    "\n",
    "La indexación se utiliza para acceder a elementos específicos de un arreglo. Funciona de manera similar a las listas en Python, pero con soporte para múltiples dimensiones.\n",
    "\n",
    "**Indexación en Arreglos 1D**\n",
    "\n",
    "    * Los índices comienzan en 0.\n",
    "    * Puedes acceder a un elemento específico utilizando su posición.\n",
    "\n",
    "**Indexación en Arreglos 2D**\n",
    "\n",
    "    * Usa dos índices: [fila, columna].\n",
    "    * El primer índice selecciona la fila, y el segundo índice selecciona la columna.\n",
    "\n",
    "**Indexación en Arreglos 3D**\n",
    "\n",
    "    * Usa tres índices: [profundidad, fila, columna].\n",
    "\n"
   ]
  },
  {
   "cell_type": "code",
   "execution_count": 40,
   "metadata": {},
   "outputs": [
    {
     "name": "stdout",
     "output_type": "stream",
     "text": [
      "10\n",
      "50\n"
     ]
    }
   ],
   "source": [
    "# Arreglo 1D\n",
    "arr = np.array([10, 20, 30, 40, 50])\n",
    "\n",
    "# Acceder al primer elemento\n",
    "print(arr[0])\n",
    "\n",
    "# Acceder al último elemento\n",
    "print(arr[-1]) "
   ]
  },
  {
   "cell_type": "code",
   "execution_count": 41,
   "metadata": {},
   "outputs": [
    {
     "name": "stdout",
     "output_type": "stream",
     "text": [
      "6\n",
      "[1 2 3]\n",
      "[1 4 7]\n"
     ]
    }
   ],
   "source": [
    "# Arreglo 2D\n",
    "arr_2d = np.array([[1, 2, 3], [4, 5, 6], [7, 8, 9]])\n",
    "\n",
    "# Acceder al elemento en la fila 1, columna 2\n",
    "print(arr_2d[1, 2]) \n",
    "\n",
    "# Acceder a la primera fila completa\n",
    "print(arr_2d[0])  \n",
    "\n",
    "# Acceder a la primera columna completa\n",
    "print(arr_2d[:, 0]) "
   ]
  },
  {
   "cell_type": "code",
   "execution_count": 42,
   "metadata": {},
   "outputs": [
    {
     "name": "stdout",
     "output_type": "stream",
     "text": [
      "6\n",
      "[[1 2]\n",
      " [3 4]]\n"
     ]
    }
   ],
   "source": [
    "# Arreglo 3D\n",
    "arr_3d = np.array([[[1, 2], [3, 4]], [[5, 6], [7, 8]]])\n",
    "\n",
    "# Acceder al elemento en la profundidad 1, fila 0, columna 1\n",
    "print(arr_3d[1, 0, 1]) \n",
    "\n",
    "# Acceder a la primera \"capa\" completa\n",
    "print(arr_3d[0])"
   ]
  },
  {
   "cell_type": "markdown",
   "metadata": {},
   "source": [
    "###  2. Segmentación (Slicing)\n",
    "\n",
    "La segmentación permite seleccionar subconjuntos de elementos de un arreglo utilizando rangos de índices. La sintaxis es similar a las listas en Python: `[inicio:fin:paso]`."
   ]
  },
  {
   "cell_type": "code",
   "execution_count": 43,
   "metadata": {},
   "outputs": [
    {
     "name": "stdout",
     "output_type": "stream",
     "text": [
      "[10 20 30]\n",
      "[20 30]\n",
      "[10 30 50]\n"
     ]
    }
   ],
   "source": [
    "# Arreglo 1D\n",
    "arr = np.array([10, 20, 30, 40, 50])\n",
    "\n",
    "# Seleccionar los primeros 3 elementos\n",
    "print(arr[:3])  \n",
    "\n",
    "# Seleccionar del índice 1 al 3 (sin incluir el 3)\n",
    "print(arr[1:3]) \n",
    "\n",
    "# Seleccionar cada 2 elementos\n",
    "print(arr[::2]) "
   ]
  },
  {
   "cell_type": "code",
   "execution_count": 44,
   "metadata": {},
   "outputs": [
    {
     "name": "stdout",
     "output_type": "stream",
     "text": [
      "[[1 2 3]\n",
      " [4 5 6]]\n",
      "[[1 2]\n",
      " [4 5]\n",
      " [7 8]]\n",
      "[[5 6]\n",
      " [8 9]]\n"
     ]
    }
   ],
   "source": [
    "# Arreglo 2D\n",
    "arr_2d = np.array([[1, 2, 3], [4, 5, 6], [7, 8, 9]])\n",
    "\n",
    "# Seleccionar las dos primeras filas\n",
    "print(arr_2d[:2])\n",
    "\n",
    "\n",
    "# Seleccionar las dos primeras columnas\n",
    "print(arr_2d[:, :2])\n",
    "\n",
    "# Seleccionar un subconjunto (fila 1 y 2, columna 1 y 2)\n",
    "print(arr_2d[1:3, 1:3])"
   ]
  },
  {
   "cell_type": "code",
   "execution_count": 45,
   "metadata": {},
   "outputs": [
    {
     "name": "stdout",
     "output_type": "stream",
     "text": [
      "[[1 2]\n",
      " [3 4]]\n",
      "[[1 2]\n",
      " [5 6]]\n"
     ]
    }
   ],
   "source": [
    "# Arreglo 3D\n",
    "arr_3d = np.array([[[1, 2], [3, 4]], [[5, 6], [7, 8]]])\n",
    "\n",
    "# Seleccionar la primera \"capa\"\n",
    "print(arr_3d[0])\n",
    "\n",
    "# Seleccionar la primera fila de todas las capas\n",
    "print(arr_3d[:, 0, :])"
   ]
  },
  {
   "cell_type": "markdown",
   "metadata": {},
   "source": [
    "### 3. Boolean Masking\n",
    "\n",
    "La máscara booleana permite seleccionar elementos de un arreglo que cumplen una condición específica. Esto es útil para filtrar datos.\n",
    "\n"
   ]
  },
  {
   "cell_type": "code",
   "execution_count": 46,
   "metadata": {},
   "outputs": [
    {
     "name": "stdout",
     "output_type": "stream",
     "text": [
      "[False False  True  True  True]\n",
      "[30 40 50]\n"
     ]
    }
   ],
   "source": [
    "# Arreglo 1D\n",
    "arr = np.array([10, 20, 30, 40, 50])\n",
    "\n",
    "# Crear una máscara booleana para elementos mayores a 25\n",
    "mask = arr > 25\n",
    "print(mask)  \n",
    "\n",
    "# Usar la máscara para filtrar elementos\n",
    "print(arr[mask])  "
   ]
  },
  {
   "cell_type": "code",
   "execution_count": 47,
   "metadata": {},
   "outputs": [
    {
     "name": "stdout",
     "output_type": "stream",
     "text": [
      "[[False False False]\n",
      " [False False  True]\n",
      " [ True  True  True]]\n",
      "[6 7 8 9]\n"
     ]
    }
   ],
   "source": [
    "# Arreglo 2D\n",
    "arr_2d = np.array([[1, 2, 3], [4, 5, 6], [7, 8, 9]])\n",
    "\n",
    "# Crear una máscara para elementos mayores a 5\n",
    "mask = arr_2d > 5\n",
    "print(mask)\n",
    "\n",
    "\n",
    "# Filtrar elementos mayores a 5\n",
    "print(arr_2d[mask])  # Salida: [6 7 8 9]"
   ]
  },
  {
   "cell_type": "markdown",
   "metadata": {},
   "source": [
    "## Operaciones Matemáticas y Estadísticas\n",
    "* Operaciones básicas (+, -, *, /).\n",
    "* Funciones estadísticas (mean, sum, max, min).\n",
    "* Funciones matemáticas (sin, cos, log)."
   ]
  },
  {
   "cell_type": "code",
   "execution_count": 48,
   "metadata": {},
   "outputs": [
    {
     "name": "stdout",
     "output_type": "stream",
     "text": [
      "[2 4 6 8]\n",
      "2.5\n",
      "[ 0.84147098  0.90929743  0.14112001 -0.7568025 ]\n"
     ]
    }
   ],
   "source": [
    "# Operaciones básicas\n",
    "arr = np.array([1, 2, 3, 4])\n",
    "print(arr * 2)\n",
    "\n",
    "# Cálculo de la media\n",
    "print(np.mean(arr))\n",
    "\n",
    "# Aplicación de funciones matemáticas\n",
    "print(np.sin(arr))\n"
   ]
  },
  {
   "cell_type": "markdown",
   "metadata": {},
   "source": [
    "## Álgebra Lineal en NumPy\n",
    "* Producto punto (np.dot).\n",
    "* Matrices identidad y transpuestas.\n",
    "* Determinante y valores propios.\n"
   ]
  },
  {
   "cell_type": "code",
   "execution_count": 49,
   "metadata": {},
   "outputs": [
    {
     "name": "stdout",
     "output_type": "stream",
     "text": [
      "[[19 22]\n",
      " [43 50]]\n",
      "[[1. 0. 0.]\n",
      " [0. 1. 0.]\n",
      " [0. 0. 1.]]\n",
      "-2.0000000000000004\n"
     ]
    }
   ],
   "source": [
    "# Producto punto entre matrices\n",
    "A = np.array([[1, 2], [3, 4]])\n",
    "B = np.array([[5, 6], [7, 8]])\n",
    "print(np.dot(A, B))\n",
    "\n",
    "# Matriz identidad\n",
    "print(np.eye(3))\n",
    "\n",
    "# Determinante de una matriz\n",
    "print(np.linalg.det(A))\n"
   ]
  },
  {
   "cell_type": "markdown",
   "metadata": {},
   "source": [
    "## Manipulación Avanzada de Arrays\n",
    "* Concatenación de arrays.\n",
    "* Apilamiento de arrays (hstack, vstack).\n",
    "* Ordenamiento y búsqueda.\n"
   ]
  },
  {
   "cell_type": "code",
   "execution_count": 50,
   "metadata": {},
   "outputs": [
    {
     "name": "stdout",
     "output_type": "stream",
     "text": [
      "[1 2 3 4 5 6]\n",
      "[1 2 3 4 5]\n"
     ]
    }
   ],
   "source": [
    "# Concatenación de arrays\n",
    "arr1 = np.array([1, 2, 3])\n",
    "arr2 = np.array([4, 5, 6])\n",
    "print(np.concatenate([arr1, arr2]))\n",
    "\n",
    "# Ordenar un array\n",
    "arr = np.array([5, 3, 1, 4, 2])\n",
    "print(np.sort(arr))\n"
   ]
  },
  {
   "cell_type": "markdown",
   "metadata": {},
   "source": [
    "## Aplicaciones en Ciencia de Datos y Gráficos\n",
    "* Carga de datos desde archivos (np.loadtxt, np.genfromtxt).\n",
    "* Gráficos con Matplotlib."
   ]
  },
  {
   "cell_type": "code",
   "execution_count": 51,
   "metadata": {},
   "outputs": [
    {
     "data": {
      "image/png": "[encoded data removed]",
      "text/plain": [
       "<Figure size 640x480 with 1 Axes>"
      ]
     },
     "metadata": {},
     "output_type": "display_data"
    }
   ],
   "source": [
    "import matplotlib.pyplot as plt\n",
    "\n",
    "# Crear datos y graficar\n",
    "x = np.linspace(0, 10, 100)\n",
    "y = np.sin(x)\n",
    "\n",
    "plt.plot(x, y)\n",
    "plt.xlabel(\"Tiempo\")\n",
    "plt.ylabel(\"Amplitud\")\n",
    "plt.title(\"Onda Senoidal\")\n",
    "plt.show()\n"
   ]
  },
  {
   "cell_type": "markdown",
   "metadata": {},
   "source": [
    "Evaluación Final:\n",
    "\n",
    "✔ Crear un array de valores de temperatura y calcular su media.\n",
    "\n",
    "✔ Realizar el producto punto de dos matrices grandes.\n",
    "\n",
    "✔ Filtrar datos en un array según una condición.\n",
    "\n",
    "✔ Cargar datos desde un archivo CSV y graficarlos."
   ]
  }
 ],
 "metadata": {
  "kernelspec": {
   "display_name": "base",
   "language": "python",
   "name": "python3"
  },
  "language_info": {
   "codemirror_mode": {
    "name": "ipython",
    "version": 3
   },
   "file_extension": ".py",
   "mimetype": "text/x-python",
   "name": "python",
   "nbconvert_exporter": "python",
   "pygments_lexer": "ipython3",
   "version": "3.12.8"
  }
 },
 "nbformat": 4,
 "nbformat_minor": 2
}
