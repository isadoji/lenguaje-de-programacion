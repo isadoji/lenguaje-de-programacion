{
 "cells": [
  {
   "cell_type": "markdown",
   "metadata": {},
   "source": [
    "# 8. Sympy, Numpy, Scipy, Matplotlib"
   ]
  },
  {
   "cell_type": "markdown",
   "metadata": {},
   "source": [
    "## Qué es SymPy?\n",
    "\n",
    "- `SymPy` es una biblioteca de Python para matemáticas simbólicas. \n",
    "- Permite realizar cálculos matemáticos exactos, como: álgebra, cálculo, teoría de números y más, de manera simbólica en lugar de numérica.- - Puedes trabajar con expresiones matemáticas como variables, ecuaciones y funciones, en lugar de solo números.\n",
    "\n",
    "### Características:\n",
    "\n",
    "1. **Álgebra Simbólica:**\n",
    "* Simplificación de expresiones algebraicas.\n",
    "* Expansión y factorización de polinomios.\n",
    "* Operaciones con fracciones algebraicas.\n",
    "* Cálculo Diferencial e Integral.\n",
    "2. **Derivadas y diferenciales.**\n",
    "* Integrales definidas e indefinidas.\n",
    "* Series de Taylor.\n",
    "3. **Resolución de Ecuaciones:**\n",
    "* Resolver ecuaciones algebraicas y diferenciales.\n",
    "* Sistemas de ecuaciones lineales y no lineales.\n",
    "4. **Matrices y Álgebra Lineal:**\n",
    "* Operaciones con matrices simbólicas.\n",
    "* Determinantes, inversas y autovalores.\n",
    "5. **Cálculo Numérico:**\n",
    "* Evaluación numérica de expresiones simbólicas.\n",
    "* Conversión de expresiones simbólicas a funciones numéricas.\n",
    "6. **Gráficas:**\n",
    "* Representación gráfica de funciones y expresiones.\n",
    "7. **Soporte para Matemáticas Avanzadas:**\n",
    "* Teoría de números, combinatoria, geometría, etc.\n",
    "\n",
    "### Ventajas\n",
    "\n",
    "1. **Cálculos Exactos**: Trabaja con expresiones simbólicas en lugar de aproximaciones numéricas.\n",
    "2. **Fácil de Usar**: Tiene una sintaxis intuitiva y está bien documentado.\n",
    "3. **Independencia de Dependencias**: Es una biblioteca pura de Python, no requiere dependencias externas.\n",
    "4. **Versatilidad**: Soporta una amplia gama de operaciones matemáticas.\n",
    "\n",
    "### Instalación\n",
    "\n",
    "    ! pip install sympy\n",
    "    import sympy as sp\n",
    "\n",
    "### Documentación\n",
    "\n",
    "https://www.sympy.org/en/index.html\n"
   ]
  },
  {
   "cell_type": "markdown",
   "metadata": {},
   "source": [
    "### 1. Declarar Variables Simbólicas"
   ]
  },
  {
   "cell_type": "code",
   "execution_count": 1,
   "metadata": {},
   "outputs": [
    {
     "name": "stdout",
     "output_type": "stream",
     "text": [
      "x**2 + 2*x + 1\n"
     ]
    }
   ],
   "source": [
    "from sympy import symbols\n",
    "\n",
    "# Declarar variables simbólicas\n",
    "x, y = symbols('x y')\n",
    "# Crear una expresión simbólica\n",
    "expr = x**2 + 2*x + 1\n",
    "print(expr) "
   ]
  },
  {
   "cell_type": "markdown",
   "metadata": {},
   "source": [
    "### 2. Simplificación y expansión de Expresiones "
   ]
  },
  {
   "cell_type": "code",
   "execution_count": 2,
   "metadata": {},
   "outputs": [
    {
     "name": "stdout",
     "output_type": "stream",
     "text": [
      "(x**2 + 2*x + 1)/(x + 1)\n",
      "x + 1\n"
     ]
    }
   ],
   "source": [
    "from sympy import simplify\n",
    "\n",
    "# Simplificar una expresión\n",
    "expr = (x**2 + 2*x + 1) / (x + 1)\n",
    "\n",
    "print(expr)\n",
    "simplified_expr = simplify(expr)\n",
    "print(simplified_expr)  "
   ]
  },
  {
   "cell_type": "code",
   "execution_count": 3,
   "metadata": {},
   "outputs": [
    {
     "data": {
      "text/latex": [
       "$\\displaystyle \\sin{\\left(x \\right)} \\cos{\\left(y \\right)} + \\sin{\\left(y \\right)} \\cos{\\left(x \\right)}$"
      ],
      "text/plain": [
       "sin(x)*cos(y) + sin(y)*cos(x)"
      ]
     },
     "execution_count": 3,
     "metadata": {},
     "output_type": "execute_result"
    }
   ],
   "source": [
    "from sympy import expand, sin\n",
    "\n",
    "expand(sin(x+y), trig=True)"
   ]
  },
  {
   "cell_type": "markdown",
   "metadata": {},
   "source": [
    "### 3. Derivadas"
   ]
  },
  {
   "cell_type": "code",
   "execution_count": 4,
   "metadata": {},
   "outputs": [
    {
     "name": "stdout",
     "output_type": "stream",
     "text": [
      "x**3 + 3*x**2 + 5\n",
      "3*x**2 + 6*x\n"
     ]
    }
   ],
   "source": [
    "from sympy import diff\n",
    "\n",
    "# Derivar una función\n",
    "f = x**3 + 3*x**2 + 5\n",
    "print(f)\n",
    "derivada = diff(f, x)\n",
    "print(derivada)"
   ]
  },
  {
   "cell_type": "markdown",
   "metadata": {},
   "source": [
    "### 4. Integrales\n"
   ]
  },
  {
   "cell_type": "code",
   "execution_count": 5,
   "metadata": {},
   "outputs": [
    {
     "name": "stdout",
     "output_type": "stream",
     "text": [
      "x**3/3\n",
      "8/3\n"
     ]
    }
   ],
   "source": [
    "from sympy import integrate\n",
    "\n",
    "# Integral indefinida\n",
    "integral_indef = integrate(x**2, x)\n",
    "print(integral_indef) \n",
    "\n",
    "# Integral definida en un intervalo\n",
    "integral_def = integrate(x**2, (x, 0, 2))\n",
    "print(integral_def) "
   ]
  },
  {
   "cell_type": "code",
   "execution_count": 6,
   "metadata": {},
   "outputs": [
    {
     "name": "stdout",
     "output_type": "stream",
     "text": [
      "oo\n"
     ]
    }
   ],
   "source": [
    "#también se pueden hacer integrales definidas en infinito\n",
    "from sympy import oo\n",
    "\n",
    "integral_inf = integrate(x**2, (x, 0, oo))\n",
    "print(integral_inf)"
   ]
  },
  {
   "cell_type": "markdown",
   "metadata": {},
   "source": [
    "5. Series de Taylor"
   ]
  },
  {
   "cell_type": "code",
   "execution_count": 7,
   "metadata": {},
   "outputs": [
    {
     "data": {
      "text/latex": [
       "$\\displaystyle 1 + t + \\frac{t^{2}}{2} - \\frac{t^{4}}{8} - \\frac{t^{5}}{15} - \\frac{t^{6}}{240} + \\frac{t^{7}}{90} + O\\left(t^{8}\\right)$"
      ],
      "text/plain": [
       "1 + t + t**2/2 - t**4/8 - t**5/15 - t**6/240 + t**7/90 + O(t**8)"
      ]
     },
     "execution_count": 7,
     "metadata": {},
     "output_type": "execute_result"
    }
   ],
   "source": [
    "from sympy import symbols, exp, sin, cos\n",
    "t = symbols('t')\n",
    "f = exp(sin(t))\n",
    "f.series(t, 0, 8)"
   ]
  },
  {
   "cell_type": "markdown",
   "metadata": {},
   "source": [
    "y exportar la respuesta en formato **Latex**"
   ]
  },
  {
   "cell_type": "code",
   "execution_count": 8,
   "metadata": {},
   "outputs": [
    {
     "name": "stdout",
     "output_type": "stream",
     "text": [
      "1 + t + \\frac{t^{2}}{2} - \\frac{t^{4}}{8} - \\frac{t^{5}}{15} - \\frac{t^{6}}{240} + \\frac{t^{7}}{90} + O\\left(t^{8}\\right)\n"
     ]
    }
   ],
   "source": [
    "from sympy import latex\n",
    "print (latex(f.series(t, 0, 8)))"
   ]
  },
  {
   "cell_type": "markdown",
   "metadata": {},
   "source": [
    "$\n",
    "1 + t + \\frac{t^{2}}{2} - \\frac{t^{4}}{8} - \\frac{t^{5}}{15} - \\frac{t^{6}}{240} + \\frac{t^{7}}{90} + O\\left(t^{8}\\right)\n",
    "$"
   ]
  },
  {
   "cell_type": "markdown",
   "metadata": {},
   "source": [
    "### 6. Resolver Ecuaciones"
   ]
  },
  {
   "cell_type": "code",
   "execution_count": 9,
   "metadata": {},
   "outputs": [
    {
     "name": "stdout",
     "output_type": "stream",
     "text": [
      "[-2, 2]\n"
     ]
    }
   ],
   "source": [
    "from sympy import Eq, solve\n",
    "\n",
    "# Resolver una ecuación algebraica\n",
    "ecuacion = Eq(x**2 - 4, 0)\n",
    "soluciones = solve(ecuacion, x)\n",
    "print(soluciones) "
   ]
  },
  {
   "cell_type": "markdown",
   "metadata": {},
   "source": [
    "### 7. Operaciones con Matrices\n"
   ]
  },
  {
   "cell_type": "code",
   "execution_count": 10,
   "metadata": {},
   "outputs": [
    {
     "name": "stdout",
     "output_type": "stream",
     "text": [
      "Matrix([[1, 2], [3, 4]])\n",
      "-2\n",
      "Matrix([[-2, 1], [3/2, -1/2]])\n"
     ]
    }
   ],
   "source": [
    "from sympy import Matrix\n",
    "\n",
    "# Crear una matriz simbólica\n",
    "A = Matrix([[1, 2], \n",
    "            [3, 4]])\n",
    "print(A)\n",
    "\n",
    "# Calcular el determinante\n",
    "determinante = A.det()\n",
    "print(determinante)\n",
    "\n",
    "# Calcular la inversa\n",
    "inversa = A.inv()\n",
    "print(inversa)"
   ]
  },
  {
   "cell_type": "markdown",
   "metadata": {},
   "source": [
    "### 8. Evaluación Numérica\n"
   ]
  },
  {
   "cell_type": "code",
   "execution_count": 11,
   "metadata": {},
   "outputs": [
    {
     "name": "stdout",
     "output_type": "stream",
     "text": [
      "0.707106781186548\n"
     ]
    }
   ],
   "source": [
    "from sympy import pi, sin\n",
    "\n",
    "# Evaluar una expresión simbólica numéricamente\n",
    "expr = sin(pi / 4)\n",
    "valor = expr.evalf()\n",
    "print(valor) "
   ]
  },
  {
   "cell_type": "markdown",
   "metadata": {},
   "source": [
    "## ¿Qué es NumPy y por qué usarlo en lugar de listas de Python?\n",
    "\n",
    "`NumPy` (Numerical Python) es una biblioteca para el cómputo científico. Proporciona:\n",
    "\n",
    "1. Arreglos multidimensionales (arrays) y matrices, que son estructuras de datos más eficientes que las listas de Python para operaciones numéricas.\n",
    "2. Funciones matemáticas optimizadas para realizar cálculos rápidos sobre estos arreglos.\n",
    "3. Herramientas avanzadas para álgebra lineal, transformadas de Fourier, generación de números aleatorios, entre otras.\n",
    "\n",
    "Aunque las listas de Python son versátiles, NumPy ofrece varias ventajas significativas para cálculos numéricos y científicos:\n",
    "\n",
    "1. Eficiencia: Los arreglos de NumPy son más rápidos y consumen menos memoria que las listas de Python.\n",
    "NumPy utiliza implementaciones en C y Fortran, lo que lo hace mucho más eficiente para operaciones matemáticas.\n",
    "2. Operaciones Vectorizadas: NumPy permite realizar operaciones matemáticas directamente sobre arreglos completos sin necesidad de bucles explícitos.\n",
    "\n",
    "### Instalación de NumPy.\n",
    "\n",
    "    ! pip install numpy\n",
    "\n",
    "### Documentación\n",
    "\n",
    "https://numpy.org/"
   ]
  },
  {
   "cell_type": "markdown",
   "metadata": {},
   "source": [
    "## Lista\n",
    "\n",
    "Una lista en Python es una colección ordenada de elementos que puede contener diferentes tipos de datos (por ejemplo, enteros, cadenas, flotantes, etc.).\n",
    "\n",
    "1. Flexibilidad: Las listas son muy flexibles, ya que pueden contener elementos heterogéneos (por ejemplo, [1, \"texto\", 3.14]).\n",
    "2. Operaciones Matemáticas: **No soportan operaciones** matemáticas vectorizadas."
   ]
  },
  {
   "cell_type": "code",
   "execution_count": 12,
   "metadata": {},
   "outputs": [
    {
     "name": "stdout",
     "output_type": "stream",
     "text": [
      "[1, 2, 3, 4, 5]\n",
      "<class 'list'>\n",
      "[1, 2, 3, 4, 5, 1, 2, 3, 4, 5]\n"
     ]
    }
   ],
   "source": [
    "arr1 = [1, 2, 3, 4, 5] # Crear una lista\n",
    "print(arr1) # Imprimir la lista\n",
    "print(type(arr1)) # Imprimir el tipo de dato de la lista\n",
    "print(2*arr1) # Multiplicar la lista por 2"
   ]
  },
  {
   "cell_type": "code",
   "execution_count": 13,
   "metadata": {},
   "outputs": [
    {
     "name": "stdout",
     "output_type": "stream",
     "text": [
      "2\n",
      "4\n",
      "6\n",
      "8\n",
      "10\n"
     ]
    }
   ],
   "source": [
    "#bucle\n",
    "lista2 = []\n",
    "for i in arr1:\n",
    "    print(2*i)"
   ]
  },
  {
   "cell_type": "markdown",
   "metadata": {},
   "source": [
    "## Numpy\n",
    "\n",
    "Un arreglo de NumPy es una estructura de datos optimizada para cálculos numéricos. Todos los elementos del arreglo deben ser del mismo tipo (por ejemplo, enteros o flotantes).\n",
    "1. Eficiencia: Los arreglos de NumPy son más rápidos y consumen menos memoria que las listas de Python, ya que están implementados en C.\n",
    "2. Operaciones Matemáticas: Soportan operaciones matemáticas vectorizadas, lo que significa que puedes realizar operaciones directamente sobre todos los elementos del arreglo sin necesidad de bucles"
   ]
  },
  {
   "cell_type": "code",
   "execution_count": 14,
   "metadata": {},
   "outputs": [
    {
     "name": "stdout",
     "output_type": "stream",
     "text": [
      "[1 2 3 4 5]\n",
      "<class 'numpy.ndarray'>\n",
      "[ 2  4  6  8 10]\n"
     ]
    }
   ],
   "source": [
    "import numpy as np # Importar la librería numpy\n",
    "\n",
    "arr2 = np.array(arr1) # Convertir la lista en un array\n",
    "print(arr2) # Imprimir el array\n",
    "print(type(arr2)) # Imprimir el tipo de dato del array\n",
    "print(2*arr2) # Multiplicar el array por 2"
   ]
  },
  {
   "cell_type": "markdown",
   "metadata": {},
   "source": [
    "Diferencias Clave\n",
    "\n",
    "\n",
    "| Característica |\tLista de Python (`list`) |\tArreglo de NumPy (`numpy.ndarray`) |\n",
    "|---|---|---|\n",
    "| Tipo de datos |\tPuede contener elementos de diferentes tipos. |\tTodos los elementos deben ser del mismo tipo. |\n",
    "| Eficiencia |\tMenos eficiente en operaciones numéricas. |\tMás eficiente, ya que está optimizado para cálculos numéricos. |\n",
    "| Operaciones matemáticas |\tNo soporta operaciones vectorizadas. |\tSoporta operaciones vectorizadas directamente. |\n",
    "| Uso en cálculos científicos |\tNo es ideal para cálculos numéricos avanzados. |\tIdeal para cálculos científicos y numéricos. |\n",
    " Memoria |\tConsume más memoria. |\tConsume menos memoria."
   ]
  },
  {
   "cell_type": "markdown",
   "metadata": {},
   "source": [
    "## Tipos de datos en arrays (`dtype`).\n",
    "\n",
    "En NumPy, los arreglos (`numpy.ndarray`) pueden contener datos de diferentes tipos, y el tipo de dato de un arreglo se especifica mediante el atributo `dtype`. Este atributo define el tipo de los elementos almacenados en el arreglo, como enteros, flotantes, cadenas, etc.\n",
    "\n",
    "El atributo `dtype` en NumPy es crucial para definir y trabajar con el tipo de datos en un arreglo. Esto permite optimizar el uso de memoria y realizar cálculos numéricos de manera eficiente. Puedes especificar el tipo de dato al crear un arreglo o cambiarlo posteriormente según sea necesario.\n",
    "\n",
    "### Tipos de Datos Comunes en NumPy (dtype)\n",
    "\n",
    "| Tipo de Dato |\tDescripción |\n",
    "| --- | --- |\n",
    "| int8 | Enteros de 8 bits (rango: -128 a 127).     \n",
    "| int16\t| Enteros de 16 bits (rango: -32,768 a 32,767).     \n",
    "| int32 | Enteros de 32 bits (rango: -2,147,483,648 a 2,147,483,647). |\n",
    "| int64\t| Enteros de 64 bits (rango: -9,223,372,036,854,775,808 a 9,223,372,036,854,775,807). |\n",
    "| uint8\t| Enteros sin signo de 8 bits (rango: 0 a 255). |\n",
    "| uint16 |\tEnteros sin signo de 16 bits (rango: 0 a 65,535). |\n",
    "| uint32 |\tEnteros sin signo de 32 bits (rango: 0 a 4,294,967,295). |\n",
    "| uint64 |\tEnteros sin signo de 64 bits (rango: 0 a 18,446,744,073,709,551,615). |\n",
    "| float16 |\tFlotantes de 16 bits (precisión reducida). |\n",
    "| float32 |\tFlotantes de 32 bits (precisión simple). |\n",
    "| float64 |\tFlotantes de 64 bits (precisión doble, este es el tipo por defecto para flotantes). |\n",
    "| complex64 |\tNúmeros complejos de 64 bits (32 bits para la parte real y 32 bits para la parte imaginaria). |\n",
    "| complex128 |\tNúmeros complejos de 128 bits (64 bits para la parte real y 64 bits para la parte imaginaria). |\n",
    "| bool |\tValores booleanos (True o False). |\n",
    "| str o U |\tCadenas de texto Unicode. |\n",
    "| object |\tObjetos de Python (pueden contener cualquier tipo de dato). |"
   ]
  },
  {
   "cell_type": "code",
   "execution_count": 15,
   "metadata": {},
   "outputs": [
    {
     "name": "stdout",
     "output_type": "stream",
     "text": [
      "[1 2 3]\n",
      "int32\n",
      "[1.5 2.5 3.5]\n",
      "float64\n",
      "[False  True  True]\n",
      "bool\n",
      "['1' '2' '3']\n",
      "<U1\n"
     ]
    }
   ],
   "source": [
    "# Crear un arreglo de enteros\n",
    "arr_int = np.array([1, 2, 3], dtype='int32')\n",
    "print(arr_int) \n",
    "print(arr_int.dtype) \n",
    "\n",
    "# Crear un arreglo de flotantes\n",
    "arr_float = np.array([1.5, 2.5, 3.5], dtype='float64')\n",
    "print(arr_float)  \n",
    "print(arr_float.dtype) \n",
    "\n",
    "# Crear un arreglo de booleanos\n",
    "arr_bool = np.array([0, 1, 2], dtype='bool')\n",
    "print(arr_bool)  \n",
    "print(arr_bool.dtype) \n",
    "\n",
    "# Crear un arreglo de cadenas\n",
    "arr_str = np.array([1, 2, 3], dtype='str')\n",
    "print(arr_str)  \n",
    "print(arr_str.dtype)"
   ]
  },
  {
   "cell_type": "markdown",
   "metadata": {},
   "source": [
    "## Creación de arrays\n",
    "\n",
    "En NumPy, existen varias formas de crear arreglos (`arrays`):\n",
    "\n",
    "1. `np.array()`\n",
    "\n",
    "Crea un arreglo a partir de una lista, tupla u otra estructura iterable de Python."
   ]
  },
  {
   "cell_type": "code",
   "execution_count": 16,
   "metadata": {},
   "outputs": [
    {
     "name": "stdout",
     "output_type": "stream",
     "text": [
      "[1 2 3 4 5]\n",
      "int64\n",
      "[1. 2. 3.]\n"
     ]
    }
   ],
   "source": [
    "\n",
    "# Crear un arreglo a partir de una lista\n",
    "arr = np.array([1, 2, 3, 4, 5])\n",
    "print(arr)  \n",
    "print(arr.dtype) \n",
    "\n",
    "# Crear un arreglo especificando el tipo de dato\n",
    "arr_float = np.array([1, 2, 3], dtype='float64')\n",
    "print(arr_float) "
   ]
  },
  {
   "cell_type": "markdown",
   "metadata": {},
   "source": [
    "2. `np.zeros()`\n",
    "\n",
    "Crea un arreglo lleno de ceros. Es útil para inicializar arreglos vacíos con valores predeterminados.\n",
    "\n",
    "    np.zeros(shape, dtype=float)\n",
    "\n",
    "* `shape`: Una tupla que define las dimensiones del arreglo.\n",
    "* `dtype`: Tipo de dato de los elementos (opcional, por defecto es float).\n",
    "\n"
   ]
  },
  {
   "cell_type": "code",
   "execution_count": 17,
   "metadata": {},
   "outputs": [
    {
     "name": "stdout",
     "output_type": "stream",
     "text": [
      "[[0. 0. 0.]\n",
      " [0. 0. 0.]\n",
      " [0. 0. 0.]]\n"
     ]
    }
   ],
   "source": [
    "# Crear un array de ceros de 3x3\n",
    "ceros = np.zeros((3,3))\n",
    "print(ceros)\n"
   ]
  },
  {
   "cell_type": "markdown",
   "metadata": {},
   "source": [
    "3. `np.ones()`\n",
    "\n",
    "Crea un arreglo lleno de unos. Es útil para inicializar arreglos con valores predeterminados de uno.\n",
    "\n",
    "    np.ones(shape, dtype=float)\n",
    "\n",
    "* `shape`: Una tupla que define las dimensiones del arreglo.\n",
    "* `dtype`: Tipo de dato de los elementos (opcional, por defecto es float).\n",
    "\n"
   ]
  },
  {
   "cell_type": "code",
   "execution_count": 18,
   "metadata": {},
   "outputs": [
    {
     "name": "stdout",
     "output_type": "stream",
     "text": [
      "[[1 1]\n",
      " [1 1]\n",
      " [1 1]]\n"
     ]
    }
   ],
   "source": [
    "# Crear un arreglo de unos de 2D\n",
    "arr_ones_2d = np.ones((3, 2), dtype='int32')\n",
    "print(arr_ones_2d)"
   ]
  },
  {
   "cell_type": "markdown",
   "metadata": {},
   "source": [
    "4. `np.linspace()`\n",
    "\n",
    "Crea un arreglo con valores igualmente espaciados entre un rango especificado.\n",
    "\n",
    "    np.linspace(start, stop, num=50, endpoint=True, dtype=None)\n",
    "\n",
    "\n",
    "* `start`: Valor inicial.\n",
    "* `stop`: Valor final.\n",
    "* `num`: Número de valores a generar (por defecto es 50).\n",
    "* `endpoint`: Si es True, incluye el valor final (stop).\n",
    "* `dtype`: Tipo de dato de los elementos (opcional).\n"
   ]
  },
  {
   "cell_type": "code",
   "execution_count": 19,
   "metadata": {},
   "outputs": [
    {
     "name": "stdout",
     "output_type": "stream",
     "text": [
      "[ 0.   2.5  5.   7.5 10. ]\n",
      "\n",
      "[1.   1.25 1.5  1.75]\n"
     ]
    }
   ],
   "source": [
    "# Crear un arreglo con 5 valores igualmente espaciados entre 0 y 10\n",
    "arr_linspace = np.linspace(0, 10, 5)\n",
    "print(arr_linspace)  \n",
    "print('')\n",
    "# Crear un arreglo con 4 valores entre 1 y 2 (sin incluir el valor final)\n",
    "arr_linspace_no_endpoint = np.linspace(1, 2, 4, endpoint=False)\n",
    "print(arr_linspace_no_endpoint) "
   ]
  },
  {
   "cell_type": "markdown",
   "metadata": {},
   "source": [
    "5. `np.arange()`\n",
    "\n",
    "Crea un arreglo con valores en un rango especificado, similar a la función `range()` de Python, pero devuelve un arreglo de NumPy.\n",
    "\n",
    "    np.arange(start, stop, step, dtype=None)\n",
    "\n",
    "* `start`: Valor inicial (por defecto es 0).\n",
    "* `stop`: Valor final (no incluido).\n",
    "* `step`: Incremento entre valores (por defecto es 1).\n",
    "* `dtype`: Tipo de dato de los elementos (opcional)."
   ]
  },
  {
   "cell_type": "code",
   "execution_count": 20,
   "metadata": {},
   "outputs": [
    {
     "name": "stdout",
     "output_type": "stream",
     "text": [
      "[0 1 2 3 4 5 6 7 8 9]\n",
      "[1 3 5 7 9]\n",
      "[0.  0.2 0.4 0.6 0.8]\n"
     ]
    }
   ],
   "source": [
    "# Crear un arreglo de enteros del 0 al 9\n",
    "arr_arange = np.arange(10)\n",
    "print(arr_arange)  \n",
    "\n",
    "# Crear un arreglo con un rango específico\n",
    "arr_arange_step = np.arange(1, 10, 2)\n",
    "print(arr_arange_step)  \n",
    "\n",
    "# Crear un arreglo de flotantes\n",
    "arr_arange_float = np.arange(0, 1, 0.2)\n",
    "print(arr_arange_float) "
   ]
  },
  {
   "cell_type": "markdown",
   "metadata": {},
   "source": [
    "## Cambio de Forma (`reshape`)\n",
    "\n",
    "El método reshape en NumPy se utiliza para cambiar la forma (dimensiones) de un arreglo sin alterar sus datos. Esto es útil cuando necesitas reorganizar los datos en una estructura diferente, como convertir un arreglo unidimensional en una matriz bidimensional o en un tensor de mayor dimensión\n",
    "\n",
    "    numpy.reshape(a, newshape)\n",
    "\n",
    "* `a`: El arreglo original que deseas cambiar de forma.\n",
    "* `newshape`: Una tupla que especifica la nueva forma del arreglo. \n",
    "\n",
    "**El producto de las dimensiones en newshape debe ser igual al número total de elementos en el arreglo original.**\n",
    "\n",
    "### Reglas Importantes\n",
    "\n",
    "* **Compatibilidad de Tamaño**: El número total de elementos en el arreglo original debe coincidir con el número total de elementos en la nueva forma.\n",
    "\n",
    "*Ejemplo*: Un arreglo de 6 elementos puede ser convertido a una forma (2, 3) o (3, 2), pero no a (4, 2).\n",
    "\n",
    "* **Uso de -1**: Puedes usar -1 en una de las dimensiones de newshape para que NumPy calcule automáticamente el tamaño de esa dimensión.\n",
    "\n",
    "*Ejemplo*: Si tienes un arreglo de 12 elementos, puedes usar reshape(3, -1) para que NumPy determine que la segunda dimensión debe ser 4.\n"
   ]
  },
  {
   "cell_type": "code",
   "execution_count": 21,
   "metadata": {},
   "outputs": [
    {
     "name": "stdout",
     "output_type": "stream",
     "text": [
      "[1 2 3 4 5 6]\n",
      "[[1 2 3]\n",
      " [4 5 6]]\n"
     ]
    }
   ],
   "source": [
    "# Arreglo original\n",
    "arr = np.array([1, 2, 3, 4, 5, 6])\n",
    "print(arr)\n",
    "\n",
    "# Cambiar a una matriz 2x3\n",
    "arr_reshaped = arr.reshape(2, 3)\n",
    "print(arr_reshaped)"
   ]
  },
  {
   "cell_type": "code",
   "execution_count": 22,
   "metadata": {},
   "outputs": [
    {
     "name": "stdout",
     "output_type": "stream",
     "text": [
      "[[[1 2 3]]\n",
      "\n",
      " [[4 5 6]]]\n"
     ]
    }
   ],
   "source": [
    "# Cambiar a un tensor 3D de forma (2, 1, 3)\n",
    "arr_reshaped_3d = arr.reshape(2, 1, 3)\n",
    "print(arr_reshaped_3d)"
   ]
  },
  {
   "cell_type": "code",
   "execution_count": 23,
   "metadata": {},
   "outputs": [
    {
     "name": "stdout",
     "output_type": "stream",
     "text": [
      "[[1 2]\n",
      " [3 4]\n",
      " [5 6]]\n"
     ]
    }
   ],
   "source": [
    "# Cambiar a una matriz 3x2 usando -1\n",
    "arr_reshaped_auto = arr.reshape(3, -1)\n",
    "print(arr_reshaped_auto)"
   ]
  },
  {
   "cell_type": "code",
   "execution_count": 24,
   "metadata": {},
   "outputs": [
    {
     "name": "stdout",
     "output_type": "stream",
     "text": [
      "[1 2 3 4 5 6]\n"
     ]
    }
   ],
   "source": [
    "# Arreglo 2D\n",
    "arr_2d = np.array([[1, 2, 3], [4, 5, 6]])\n",
    "\n",
    "# Cambiar a un arreglo 1D\n",
    "arr_flattened = arr_2d.reshape(-1)\n",
    "print(arr_flattened)"
   ]
  },
  {
   "cell_type": "code",
   "execution_count": 25,
   "metadata": {},
   "outputs": [],
   "source": [
    "# Esto generará un error porque 6 elementos no pueden ser reorganizados en una forma (4, 2)\n",
    "# arr_invalid = arr.reshape(4, 2)"
   ]
  },
  {
   "cell_type": "markdown",
   "metadata": {},
   "source": [
    "### Comparación con resize\n",
    "\n",
    "* `reshape`: Devuelve un nuevo arreglo con la forma especificada, pero no modifica el arreglo original.\n",
    "* `resize`: Modifica el arreglo original en su lugar y puede rellenar con ceros si el tamaño no coincide."
   ]
  },
  {
   "cell_type": "code",
   "execution_count": 26,
   "metadata": {},
   "outputs": [
    {
     "name": "stdout",
     "output_type": "stream",
     "text": [
      "reshape:\n",
      "[[1 2 3]\n",
      " [4 5 6]]\n",
      "[1 2 3 4 5 6]\n",
      "\n",
      "resize:\n",
      "[[1 2 3]\n",
      " [4 5 6]]\n"
     ]
    }
   ],
   "source": [
    "# Usando reshape\n",
    "arr = np.array([1, 2, 3, 4, 5, 6])\n",
    "reshaped = arr.reshape(2, 3)\n",
    "print('reshape:')\n",
    "print(reshaped)  \n",
    "print(arr)       # El arreglo original no cambia\n",
    "print('')\n",
    "print('resize:')\n",
    "# Usando resize\n",
    "arr.resize(2, 3)\n",
    "print(arr)       # El arreglo original cambia"
   ]
  },
  {
   "cell_type": "markdown",
   "metadata": {},
   "source": [
    "## Indexación y Segmentación \n",
    "\n",
    "La indexación y segmentación (slicing) son técnicas fundamentales para acceder y manipular elementos de arreglos en NumPy. Estas herramientas permiten seleccionar elementos individuales, subconjuntos de datos o realizar operaciones avanzadas como filtrado con máscaras booleanas.\n",
    "\n",
    "### 1. Indexación\n",
    "\n",
    "La indexación se utiliza para acceder a elementos específicos de un arreglo. Funciona de manera similar a las listas en Python, pero con soporte para múltiples dimensiones.\n",
    "\n",
    "**Indexación en Arreglos 1D**\n",
    "\n",
    "    * Los índices comienzan en 0.\n",
    "    * Puedes acceder a un elemento específico utilizando su posición.\n",
    "\n",
    "**Indexación en Arreglos 2D**\n",
    "\n",
    "    * Usa dos índices: [renglon, columna].\n",
    "    * El primer índice selecciona el renglón y el segundo índice selecciona la columna.\n",
    "\n",
    "**Indexación en Arreglos 3D**\n",
    "\n",
    "    * Usa tres índices: [profundidad,renglon, columna].\n",
    "\n"
   ]
  },
  {
   "cell_type": "code",
   "execution_count": 27,
   "metadata": {},
   "outputs": [
    {
     "name": "stdout",
     "output_type": "stream",
     "text": [
      "10\n",
      "50\n"
     ]
    }
   ],
   "source": [
    "# Arreglo 1D\n",
    "arr = np.array([10, 20, 30, 40, 50])\n",
    "\n",
    "# Acceder al primer elemento\n",
    "print(arr[0])\n",
    "\n",
    "# Acceder al último elemento\n",
    "print(arr[-1]) "
   ]
  },
  {
   "cell_type": "markdown",
   "metadata": {},
   "source": [
    "\\begin{align*}\n",
    "arr\\_2d =\n",
    "\\begin{bmatrix}\n",
    "1 & 2 & 3 \\\\\n",
    "4 & 5 & 6 \\\\\n",
    "7 & 8 & 9 \\\\\n",
    "\\end{bmatrix} \n",
    "\\end{align*}\n",
    "\n",
    "\\begin{align*}\n",
    "arr\\_2d =\n",
    "\\begin{bmatrix}\n",
    "(0,0) & (0,1) & (0,2) \\\\\n",
    "(1,0) & (1,1) & (1,2) \\\\\n",
    "(2,0) & (2,1) & (2,2) \\\\\n",
    "\\end{bmatrix} \n",
    "\\end{align*}"
   ]
  },
  {
   "cell_type": "code",
   "execution_count": 28,
   "metadata": {},
   "outputs": [
    {
     "name": "stdout",
     "output_type": "stream",
     "text": [
      "6\n",
      "[1 2 3]\n",
      "[1 4 7]\n"
     ]
    }
   ],
   "source": [
    "# Arreglo 2D\n",
    "arr_2d = np.array([[1, 2, 3], \n",
    "                   [4, 5, 6], \n",
    "                   [7, 8, 9]])\n",
    "\n",
    "# Acceder al elemento delrenglon 1, columna 2\n",
    "print(arr_2d[1, 2]) \n",
    "\n",
    "# Acceder al primer renglon  completa\n",
    "print(arr_2d[0])  \n",
    "\n",
    "# Acceder a la primera columna completa\n",
    "print(arr_2d[:,0]) \n",
    "\n",
    "\n"
   ]
  },
  {
   "cell_type": "code",
   "execution_count": 29,
   "metadata": {},
   "outputs": [
    {
     "name": "stdout",
     "output_type": "stream",
     "text": [
      "Matrix([[1, 2], [3, 4]])\n",
      "-2\n",
      "Matrix([[-2, 1], [3/2, -1/2]])\n"
     ]
    }
   ],
   "source": [
    "from sympy import Matrix\n",
    "\n",
    "# Crear una matriz simbólica\n",
    "A = Matrix([[1, 2], [3, 4]])\n",
    "print(A)\n",
    "\n",
    "# Calcular el determinante\n",
    "determinante = A.det()\n",
    "print(determinante)\n",
    "\n",
    "# Calcular la inversa\n",
    "inversa = A.inv()\n",
    "print(inversa)"
   ]
  },
  {
   "cell_type": "markdown",
   "metadata": {},
   "source": [
    "\\begin{align*}\n",
    "T =\n",
    "\\begin{bmatrix}\n",
    "\\begin{bmatrix}\n",
    "1 & 2 & 3 \\\\\n",
    "4 & 5 & 6 \\\\\n",
    "7 & 8 & 9\n",
    "\\end{bmatrix}, \\quad\n",
    "\\begin{bmatrix}\n",
    "10 & 11 & 12 \\\\\n",
    "13 & 14 & 15 \\\\\n",
    "16 & 17 & 18\n",
    "\\end{bmatrix}\n",
    "\\end{bmatrix} \n",
    "\\end{align*}"
   ]
  },
  {
   "cell_type": "code",
   "execution_count": 30,
   "metadata": {},
   "outputs": [
    {
     "name": "stdout",
     "output_type": "stream",
     "text": [
      "[[1 2 3]\n",
      " [4 5 6]\n",
      " [7 8 9]]\n",
      "[[10 11 12]\n",
      " [13 14 15]\n",
      " [16 17 18]]\n"
     ]
    }
   ],
   "source": [
    "T = np.array([[[1, 2, 3], \n",
    "               [4, 5, 6],\n",
    "               [7, 8, 9]],\n",
    "              [[10, 11, 12], \n",
    "               [13, 14, 15],\n",
    "               [16, 17, 18]]])\n",
    "#print(T)\n",
    "print(T[0])# Primera capa (T(0,:,:)\n",
    "print(T[1])  # Segunda capa (T(1,:,:))\n"
   ]
  },
  {
   "cell_type": "code",
   "execution_count": 31,
   "metadata": {},
   "outputs": [
    {
     "name": "stdout",
     "output_type": "stream",
     "text": [
      "13\n"
     ]
    }
   ],
   "source": [
    "# Acceder al elemento en la segunda capa, segundo renglon, primera columna \n",
    "\n",
    "print(T[1, 1, 0])"
   ]
  },
  {
   "cell_type": "markdown",
   "metadata": {},
   "source": [
    "###  2. Segmentación (Slicing)\n",
    "\n",
    "La segmentación permite seleccionar subconjuntos de elementos de un arreglo utilizando rangos de índices. La sintaxis es similar a las listas en Python: `[inicio:fin:paso]`."
   ]
  },
  {
   "cell_type": "code",
   "execution_count": 32,
   "metadata": {},
   "outputs": [
    {
     "name": "stdout",
     "output_type": "stream",
     "text": [
      "[10 20 30]\n",
      "[20 30]\n",
      "[10 30 50]\n"
     ]
    }
   ],
   "source": [
    "# Arreglo 1D\n",
    "arr = np.array([10, 20, 30, 40, 50])\n",
    "\n",
    "# Seleccionar los primeros 3 elementos\n",
    "print(arr[:3])  \n",
    "\n",
    "# Seleccionar del índice 1 al 3 (sin incluir el 3)\n",
    "print(arr[1:3]) \n",
    "\n",
    "# Seleccionar cada 2 elementos\n",
    "print(arr[::2]) "
   ]
  },
  {
   "cell_type": "code",
   "execution_count": 33,
   "metadata": {},
   "outputs": [
    {
     "name": "stdout",
     "output_type": "stream",
     "text": [
      "[[4 5 6]]\n",
      "\n",
      "[[2]\n",
      " [5]\n",
      " [8]]\n",
      "\n",
      "[[5]]\n"
     ]
    }
   ],
   "source": [
    "# Arreglo 2D\n",
    "arr_2d = np.array([[1, 2, 3], \n",
    "                   [4, 5, 6], \n",
    "                   [7, 8, 9]])\n",
    "\n",
    "# Seleccionar el primer renglón\n",
    "print(arr_2d[1:2])\n",
    "print('')\n",
    "\n",
    "# Seleccionar la primera columna\n",
    "print(arr_2d[:,1:2])\n",
    "print('')\n",
    "\n",
    "# Seleccionar un subconjunto (fila 1 y 2, columna 1 y 2)\n",
    "print(arr_2d[1:2, 1:2])"
   ]
  },
  {
   "cell_type": "code",
   "execution_count": 34,
   "metadata": {},
   "outputs": [
    {
     "name": "stdout",
     "output_type": "stream",
     "text": [
      "[[1 2]\n",
      " [3 4]]\n",
      "\n",
      "[[1 2]\n",
      " [5 6]]\n"
     ]
    }
   ],
   "source": [
    "# Arreglo 3D\n",
    "arr_3d = np.array([[[1, 2], \n",
    "                    [3, 4]], \n",
    "                   [[5, 6], \n",
    "                    [7, 8]]])\n",
    "\n",
    "# Seleccionar la primera \"capa\"\n",
    "print(arr_3d[0])\n",
    "print('')\n",
    "# Seleccionar el primer renglon  de todas las capas\n",
    "print(arr_3d[:, 0, :])"
   ]
  },
  {
   "cell_type": "code",
   "execution_count": 35,
   "metadata": {},
   "outputs": [
    {
     "name": "stdout",
     "output_type": "stream",
     "text": [
      "[[1 3]\n",
      " [5 7]]\n"
     ]
    }
   ],
   "source": [
    "# Seleccionar la primera columna de todas las capas\n",
    "print(arr_3d[:, :, 0])\n"
   ]
  },
  {
   "cell_type": "markdown",
   "metadata": {},
   "source": [
    "### 3. Boolean Masking\n",
    "\n",
    "La máscara booleana permite seleccionar elementos de un arreglo que cumplen una condición específica. Esto es útil para filtrar datos.\n",
    "\n"
   ]
  },
  {
   "cell_type": "code",
   "execution_count": 36,
   "metadata": {},
   "outputs": [
    {
     "name": "stdout",
     "output_type": "stream",
     "text": [
      "[False False  True  True  True]\n",
      "[30 40 50]\n"
     ]
    }
   ],
   "source": [
    "# Arreglo 1D\n",
    "arr = np.array([10, 20, 30, 40, 50])\n",
    "\n",
    "# Crear una máscara booleana para elementos mayores a 25\n",
    "mask = arr > 25\n",
    "print(mask)  \n",
    "\n",
    "# Usar la máscara para filtrar elementos\n",
    "print(arr[mask])  "
   ]
  },
  {
   "cell_type": "code",
   "execution_count": 37,
   "metadata": {},
   "outputs": [
    {
     "name": "stdout",
     "output_type": "stream",
     "text": [
      "[[[False False False]\n",
      "  [False False  True]\n",
      "  [ True  True  True]]\n",
      "\n",
      " [[ True  True  True]\n",
      "  [ True  True  True]\n",
      "  [ True  True  True]]]\n",
      "[ 6  7  8  9 10 11 12 13 14 15 16 17 18]\n"
     ]
    }
   ],
   "source": [
    "# Arreglo 2D\n",
    "arr_2d = np.array([[[1, 2, 3], \n",
    "                   [4, 5, 6], \n",
    "                   [7, 8, 9]],\n",
    "                    [[10, 11, 12], \n",
    "                     [13, 14, 15], \n",
    "                     [16, 17, 18]]])\n",
    "                   \n",
    "# Crear una máscara para elementos mayores a 5\n",
    "mask = arr_2d > 5\n",
    "print(mask)\n",
    "\n",
    "\n",
    "# Filtrar elementos mayores a 5\n",
    "print(arr_2d[mask])  "
   ]
  },
  {
   "cell_type": "markdown",
   "metadata": {},
   "source": [
    "## Operaciones Matemáticas y Estadísticas\n",
    "* Operaciones básicas (+, -, *, /).\n",
    "* Funciones estadísticas (mean, sum, max, min).\n",
    "* Funciones matemáticas (sin, cos, log)."
   ]
  },
  {
   "cell_type": "code",
   "execution_count": 38,
   "metadata": {},
   "outputs": [
    {
     "name": "stdout",
     "output_type": "stream",
     "text": [
      "[2 4 6 8]\n",
      "2.5\n",
      "[ 0.84147098  0.90929743  0.14112001 -0.7568025 ]\n"
     ]
    }
   ],
   "source": [
    "# Operaciones básicas\n",
    "arr = np.array([1, 2, 3, 4])\n",
    "print(arr * 2)\n",
    "\n",
    "# Cálculo de la media\n",
    "print(np.mean(arr))\n",
    "\n",
    "# Aplicación de funciones matemáticas\n",
    "print(np.sin(arr))\n"
   ]
  },
  {
   "cell_type": "markdown",
   "metadata": {},
   "source": [
    "## Álgebra Lineal en NumPy\n",
    "\n",
    "* Producto punto (np.dot).\n",
    "* Matrices identidad y transpuestas.\n",
    "* Determinante y valores propios.\n",
    "\n",
    "https://numpy.org/doc/stable/reference/routines.linalg.html"
   ]
  },
  {
   "cell_type": "code",
   "execution_count": 39,
   "metadata": {},
   "outputs": [
    {
     "name": "stdout",
     "output_type": "stream",
     "text": [
      "[[19 22]\n",
      " [43 50]]\n",
      "[[1. 0. 0.]\n",
      " [0. 1. 0.]\n",
      " [0. 0. 1.]]\n",
      "-2.0000000000000004\n",
      "[[-2.   1. ]\n",
      " [ 1.5 -0.5]]\n"
     ]
    }
   ],
   "source": [
    "# Producto punto entre matrices\n",
    "A = np.array([[1, 2], \n",
    "              [3, 4]])\n",
    "B = np.array([[5, 6], \n",
    "              [7, 8]])\n",
    "print(np.dot(A, B))\n",
    "\n",
    "# Matriz identidad\n",
    "print(np.eye(3))\n",
    "\n",
    "# Determinante de una matriz\n",
    "print(np.linalg.det(A))\n",
    "\n",
    "# Inversa de una matriz\n",
    "print(np.linalg.inv(A))\n"
   ]
  },
  {
   "cell_type": "markdown",
   "metadata": {},
   "source": [
    "## Manipulación Avanzada de Arrays\n",
    "* Concatenación de arrays.\n",
    "* Apilamiento de arrays (hstack, vstack).\n",
    "* Ordenamiento y búsqueda.\n"
   ]
  },
  {
   "cell_type": "code",
   "execution_count": 40,
   "metadata": {},
   "outputs": [
    {
     "name": "stdout",
     "output_type": "stream",
     "text": [
      "[1 2 3 4 5 6]\n",
      "[1 2 3 4 5]\n"
     ]
    }
   ],
   "source": [
    "# Concatenación de arrays\n",
    "arr1 = np.array([1, 2, 3])\n",
    "arr2 = np.array([4, 5, 6])\n",
    "print(np.concatenate([arr1, arr2]))\n",
    "\n",
    "# Ordenar un array\n",
    "arr = np.array([5, 3, 1, 4, 2])\n",
    "print(np.sort(arr))\n"
   ]
  },
  {
   "cell_type": "markdown",
   "metadata": {},
   "source": [
    "## Scipy\n",
    "\n",
    "- SciPy es una biblioteca de Python que se utiliza para realizar cálculos científicos y técnicos. \n",
    "\n",
    "- Está construida sobre NumPy y proporciona una amplia gama de herramientas y funciones para resolver problemas matemáticos, científicos e ingenieriles.\n",
    "\n",
    "### Características Principales\n",
    "\n",
    "1. **Optimización**: Funciones para encontrar mínimos y máximos de funciones, resolver problemas de ajuste de curvas y optimización no lineal.\n",
    "2. **Álgebra Lineal**: Resolución de sistemas de ecuaciones lineales, descomposiciones matriciales (LU, QR, SVD), y cálculo de determinantes y valores propios.\n",
    "3. **Integración**: Métodos para integrar funciones (cuadratura) y resolver ecuaciones diferenciales.\n",
    "4. **Estadística**: Distribuciones estadísticas, pruebas de hipótesis, y generación de números aleatorios.\n",
    "5. **Procesamiento de Señales**: Transformadas de Fourier, filtrado de señales, y análisis de señales.\n",
    "6. **Interpolación**: Métodos para interpolar datos en una o más dimensiones.\n",
    "7. **Procesamiento de Imágenes**: Operaciones básicas de procesamiento de imágenes, como convolución y filtrado.\n",
    "Espaciado y Funciones Especiales:\n",
    "8. **Funciones matemáticas avanzadas** como gamma, beta, Bessel, etc.\n",
    "\n",
    "### Instalación\n",
    "\n",
    "    ! pip install scipy\n",
    "\n",
    "### Documentación\n",
    "\n",
    "https://scipy.org/\n"
   ]
  },
  {
   "cell_type": "markdown",
   "metadata": {},
   "source": [
    "### Módulos principales:\n",
    "\n",
    "1. `scipy.constants`: Constantes físicas y matemáticas\n",
    "2. `scipy.special`: Funciones matemáticas avanzadas\n",
    "3. `scipy.integrate`: Integración numérica\n",
    "4. `scipy.linalg`: Álgebra lineal\n",
    "5. `scipy.optimize`: Optimización\n",
    "6. `scipy.stats`: Estadística"
   ]
  },
  {
   "cell_type": "markdown",
   "metadata": {},
   "source": [
    "### 1. Constantes físicas"
   ]
  },
  {
   "cell_type": "code",
   "execution_count": 41,
   "metadata": {},
   "outputs": [
    {
     "name": "stdout",
     "output_type": "stream",
     "text": [
      "Velocidad de la luz: 299792458.0 m/s\n",
      "Carga del electrón: 1.602176634e-19 C\n",
      "Constante de Planck: 6.62607015e-34 J·s\n"
     ]
    }
   ],
   "source": [
    "from scipy import constants\n",
    "\n",
    "print(\"Velocidad de la luz:\", constants.c, \"m/s\")\n",
    "print(\"Carga del electrón:\", constants.e, \"C\")\n",
    "print(\"Constante de Planck:\", constants.h, \"J·s\")\n"
   ]
  },
  {
   "cell_type": "markdown",
   "metadata": {},
   "source": [
    "### 2. Evaluar una función especial"
   ]
  },
  {
   "cell_type": "code",
   "execution_count": 42,
   "metadata": {},
   "outputs": [
    {
     "name": "stdout",
     "output_type": "stream",
     "text": [
      "Gamma(5): 24.0\n",
      "Factorial(4): 24.0\n"
     ]
    }
   ],
   "source": [
    "from scipy.special import gamma, factorial\n",
    "\n",
    "x = 5\n",
    "print(\"Gamma(5):\", gamma(x))  #4!\n",
    "print(\"Factorial(4):\", factorial(x-1))  "
   ]
  },
  {
   "cell_type": "markdown",
   "metadata": {},
   "source": [
    "### 3. Integración y Derivación Numérica \n",
    "\n",
    "* Integración de funciones:`scipy.integrate.quad`\n",
    "* Integración de datos discretos por regla de Simpson y regla del trapecio:`scipy.integrate.simps` y `trapz`\n",
    "* Derivación numérica: `numdifftools`\n",
    "\n"
   ]
  },
  {
   "cell_type": "markdown",
   "metadata": {},
   "source": [
    "3.1 `quad`\n",
    "\n",
    "- Utiliza el método de cuadratura de Gauss-Kronrod adaptativa para calcular integrales definidas. \n",
    "- Este método combina la precisión de la cuadratura de Gauss con la capacidad de estimar el error mediante la cuadratura de Kronrod.\n",
    "\n",
    "**Cuadratura de Gauss**\n",
    "\n",
    "- Es un método numérico para aproximar integrales definidas.\n",
    "Utiliza puntos de evaluación (nodos) y pesos predefinidos para calcular la integral.\n",
    "- Es muy eficiente para funciones suaves, ya que minimiza el error con un número reducido de evaluaciones.\n",
    "\n",
    "**Cuadratura de Kronrod**\n",
    "\n",
    "- Extiende la cuadratura de Gauss añadiendo nodos adicionales para mejorar la precisión.\n",
    "- Permite estimar el error de la integración comparando los resultados de la cuadratura de Gauss y Kronrod.\n",
    "\n",
    "1. El método es adaptativo, lo que significa que subdivide el intervalo de integración en partes más pequeñas donde la función tiene mayor variación.\n",
    "2. Esto mejora la precisión en regiones donde la función cambia rápidamente.\n",
    "\n",
    "Ventajas del Método\n",
    "\n",
    "- Alta precisión para funciones suaves.\n",
    "- Capacidad de manejar funciones con singularidades suaves.\n",
    "- Estimación automática del error.\n",
    "- Adaptación a la complejidad de la función en diferentes regiones del intervalo.\n",
    "\n",
    "**Sintaxis**\n",
    "\n",
    "    scipy.integrate.quad(func, a, b, args=(), epsabs=1.49e-8, epsrel=1.49e-8, limit=50)\n",
    "\n",
    "* `func`: La función a integrar.\n",
    "* `a`: Límite inferior de integración.\n",
    "* `b`: Límite superior de integración.\n",
    "* `args`: Argumentos adicionales para la función.\n",
    "* `epsabs`: Tolerancia absoluta para el error (por defecto 1.49e-8).\n",
    "* `epsrel`: Tolerancia relativa para el error (por defecto 1.49e-8).\n",
    "* `limit`: Número máximo de subdivisiones para la integración (por defecto 50).\n",
    "\n",
    "**Retorno**\n",
    "* `resultado`: El valor de la integral calculada.\n",
    "* `error`: Una estimación del error absoluto en el cálculo de la integral."
   ]
  },
  {
   "cell_type": "code",
   "execution_count": 43,
   "metadata": {},
   "outputs": [
    {
     "name": "stdout",
     "output_type": "stream",
     "text": [
      "Integral de sin(x) de 0 a π: 2.0\n",
      "Error estimado: 2.220446049250313e-14\n"
     ]
    }
   ],
   "source": [
    "from scipy.integrate import quad\n",
    "import numpy as np\n",
    "\n",
    "# Definir una función a integrar\n",
    "f = lambda x: np.sin(x)\n",
    "\n",
    "# Calcular la integral de f(x) = sin(x) en el intervalo [0, π]\n",
    "resultado, error = quad(f, 0, np.pi)\n",
    "\n",
    "print(\"Integral de sin(x) de 0 a π:\", resultado)\n",
    "print(\"Error estimado:\", error)"
   ]
  },
  {
   "cell_type": "markdown",
   "metadata": {},
   "source": [
    "3.2. `trapz`\n",
    "\n",
    "\n",
    "**Regla del trapecio**\n",
    "\n",
    "Método numérico para aproximar el valor de una integral definida. Este método utiliza líneas rectas para aproximar la función entre dos puntos consecutivos, formando un trapecio. Es uno de los métodos más simples y ampliamente utilizados en integración numérica.\n",
    "\n",
    "Para una función ( f(x) ) en el intervalo ([a, b]), la regla del trapecio se define como:\n",
    "\n",
    "$\n",
    "\\int_a^b f(x) , dx \\approx \\frac{b-a}{2} \\left[ f(a) + f(b) \\right]\n",
    "$\n",
    "\n",
    "Divide el intervalo ([a, b]) en un único segmento.\n",
    "Aproxima el área bajo la curva como el área de un trapecio.\n",
    "\n",
    "**Ventajas**: \n",
    "\n",
    "1. Simplicidad: Es fácil de implementar y entender.\n",
    "2. Versatilidad: Funciona bien para funciones suaves y continuas.\n",
    "3. Eficiencia: Es más eficiente que métodos más básicos como la suma de rectángulos.\n",
    "\n",
    "**Limitaciones**\n",
    "\n",
    "1. Precisión: Menos precisa que la regla de Simpson para funciones suaves.\n",
    "2. Puede requerir un gran número de subintervalos para alcanzar una precisión alta.\n",
    "3. Aproximación Lineal: Utiliza líneas rectas para aproximar la función, lo que puede introducir errores significativos para funciones no lineales.\n"
   ]
  },
  {
   "cell_type": "code",
   "execution_count": 44,
   "metadata": {},
   "outputs": [
    {
     "name": "stdout",
     "output_type": "stream",
     "text": [
      "Integral de sin(x) de 0 a π: 1.9998321638939927\n"
     ]
    }
   ],
   "source": [
    "from scipy.integrate import trapezoid\n",
    "\n",
    "# Valores de x y y\n",
    "x = np.linspace(0, np.pi, 100)  # 100 puntos entre 0 y π\n",
    "y = np.sin(x)\n",
    "\n",
    "# Calcular la integral usando la regla del trapecio\n",
    "resultado = np.trapz(y, x)\n",
    "\n",
    "print(\"Integral de sin(x) de 0 a π:\", resultado)"
   ]
  },
  {
   "cell_type": "markdown",
   "metadata": {},
   "source": [
    "3.3. `simps()`\n",
    "\n",
    "* Utiliza la regla de Simpson para calcular integrales definida\n",
    "Regla de Simpson\n",
    "\n",
    "**Regla de Simpson**\n",
    "\n",
    "- Método numérico para aproximar el valor de una integral definida. \n",
    "- Utiliza parábolas para aproximar la función en lugar de líneas rectas (como en la regla del trapecio). \n",
    "- Es más preciso que la regla del trapecio para funciones suaves.\n",
    "\n",
    "Para una función ( f(x) ) en el intervalo ([a, b]), la regla de Simpson se define como:\n",
    "\n",
    "$\n",
    "\\int_a^b f(x) , dx \\approx \\frac{b-a}{6} \\left[ f(a) + 4f\\left(\\frac{a+b}{2}\\right) + f(b) \\right]$\n",
    "\n",
    "1. Divide el intervalo ([a, b]) en dos subintervalos iguales.\n",
    "2. Evalúa la función en los extremos ((a) y (b)) y en el punto medio ((\\frac{a+b}{2})).\n",
    "3.  Combina estos valores con pesos (1), (4), y (1) respectivamente.\n",
    "\n",
    "**Ventajas**\n",
    "\n",
    "* Precisión:Es más precisa que la regla del trapecio para funciones suaves.\n",
    "* Eficiencia:Requiere menos subdivisiones para alcanzar una precisión dada en comparación con la regla del trapecio.\n",
    "* Fácil de Implementar:Es sencilla de aplicar tanto en su forma básica como en la compuesta.\n",
    "\n",
    "**Sintaxis**\n",
    "\n",
    "    scipy.integrate.simps(y, x=None, dx=1, axis=-1, even='avg')\n",
    "\n",
    "* `y`: Valores de la función evaluada en puntos discretos.\n",
    "* `x` (opcional):Coordenadas de los puntos en el eje (x). Si no se proporciona, se asume que los puntos están igualmente espaciados con un intervalo de dx.\n",
    "* `dx` (opcional):Espaciado entre puntos en el eje (x) si no se proporciona x. Por defecto, dx=1.\n",
    "* `axis` (opcional): Eje a lo largo del cual se realiza la integración. Por defecto, -1 (último eje).\n",
    "* `even` (opcional):Cómo manejar el caso en que el número de puntos sea impar:\n",
    "    * `avg`: Promedio de las reglas de Simpson y trapezoidal.\n",
    "    * `first`: Usa la regla de Simpson en los primeros puntos y la regla trapezoidal en el último intervalo.\n",
    "    * `last`: Usa la regla trapezoidal en el primer intervalo y la regla de Simpson en los demás.\n",
    "\n",
    "**Retorn**\n",
    "* `resultado`: El valor de la integral calculada.\n",
    "\n",
    "Notas\n",
    "\n",
    "https://github.com/isadoji/analisis-numerico/blob/main/6.Integraci%C3%B3n%20num%C3%A9rica"
   ]
  },
  {
   "cell_type": "code",
   "execution_count": 45,
   "metadata": {},
   "outputs": [
    {
     "name": "stdout",
     "output_type": "stream",
     "text": [
      "Integral de sin(x) de 0 a π: 2.0000000534993037\n"
     ]
    }
   ],
   "source": [
    "from scipy import integrate\n",
    "\n",
    "import numpy as np\n",
    "\n",
    "# Valores de x y y\n",
    "x = np.linspace(0, np.pi, 100)  # 100 puntos entre 0 y π\n",
    "y = np.sin(x)\n",
    "\n",
    "# Calcular la integral usando la regla de Simpson\n",
    "resultado = integrate.simpson(y, x)\n",
    "\n",
    "print(\"Integral de sin(x) de 0 a π:\", resultado)"
   ]
  },
  {
   "cell_type": "markdown",
   "metadata": {},
   "source": [
    "3.4 `numdifftools` \n",
    "\n",
    "- Se utiliza para calcular la derivada numérica de una función en un punto dado.\n",
    "- Es una herramienta útil para aproximar derivadas cuando no se dispone de una expresión analítica para la derivada de una función.\n",
    "\n",
    "**Sintaxis**\n",
    "\n",
    "    numdifftools.Derivative(func, n=1, method='central', step=1e-5, order=2)\n",
    "\n",
    "**Parámetros**\n",
    "\n",
    "* `func`:La función cuya derivada deseas calcular.\n",
    "* `n` (opcional): El orden de la derivada (por ejemplo, primera, segunda, etc.). Por defecto, n=1.\n",
    "* `method` (opcional): Método para calcular la derivada:\n",
    "    - `central` (por defecto): Usa diferencias centrales.\n",
    "    - `forward`: Usa diferencias hacia adelante.\n",
    "    - `backward`': Usa diferencias hacia atrás.\n",
    "* `step` (opcional): Tamaño del paso para calcular la derivada. Por defecto, 1e-5.\n",
    "* `order` (opcional): Orden del esquema de diferencias finitas. Por defecto, 2.\n",
    "\n",
    "**Resultado**\n",
    "\n",
    "* `resultado`: El valor de la derivada calculada\n",
    "\n",
    "**Instalación**\n",
    "\n",
    "    ! pip install numdifftools\n",
    "\n",
    "Notas\n",
    "\n",
    "https://github.com/isadoji/analisis-numerico/tree/main/5.Diferenciaci%C3%B3n%20num%C3%A9rica"
   ]
  },
  {
   "cell_type": "code",
   "execution_count": 46,
   "metadata": {},
   "outputs": [
    {
     "name": "stdout",
     "output_type": "stream",
     "text": [
      "Primera derivada de f(x) = x^2 en x = 2: 4.0\n"
     ]
    }
   ],
   "source": [
    "import numdifftools as nd\n",
    "\n",
    "# Definir la función\n",
    "f = lambda x: x**2\n",
    "\n",
    "# Calcular la derivada en x = 2\n",
    "resultado = nd.Derivative(f)(2.0)\n",
    "\n",
    "print(\"Primera derivada de f(x) = x^2 en x = 2:\", resultado)"
   ]
  },
  {
   "cell_type": "markdown",
   "metadata": {},
   "source": [
    "### 4. Álgebra lineal\n",
    "\n",
    "Proporciona herramientas para realizar operaciones de álgebra lineal. Es ampliamente utilizado para resolver problemas matemáticos relacionados con matrices, vectores y sistemas de ecuaciones lineales.\n",
    "\n",
    "* `numpy.linalg`:Proporciona operaciones básicas de álgebra lineal.\n",
    "Es más rápido, pero limitado a matrices densas.\n",
    "* `scipy.linalg`:Proporciona operaciones avanzadas de álgebra lineal.\n",
    "Incluye soporte para matrices dispersas y funciones adicionales.\n",
    "\n",
    "**Características**\n",
    "\n",
    "1. Resolución de Sistemas de Ecuaciones Lineales: Resolver sistemas de la forma (Ax = b), donde (A) es una matriz y (b) es un vector.\n",
    "2. Descomposiciones Matriciales:Descomposición LU, QR, SVD (descomposición en valores singulares), Cholesky, entre otras.\n",
    "3. Cálculo de Valores y Vectores Propios:\n",
    "4. Determinar los valores propios ($\\lambda$) y vectores propios ($v$) de una matriz (A) tal que \n",
    "    $Av = \\lambda v$.\n",
    "5. Determinantes y Rangos: Calcular el determinante y el rango de una matriz.\n",
    "6. Normas y Condiciones: Calcular normas de vectores y matrices, así como números de condición.\n",
    "7. Inversión de Matrices: Calcular la inversa de una matriz cuadrada."
   ]
  },
  {
   "cell_type": "code",
   "execution_count": 47,
   "metadata": {},
   "outputs": [
    {
     "name": "stdout",
     "output_type": "stream",
     "text": [
      "Solución del sistema: [2. 3.]\n"
     ]
    }
   ],
   "source": [
    "from scipy.linalg import solve\n",
    "\n",
    "# Matriz de coeficientes A y vector b\n",
    "A = np.array([[3, 1], [1, 2]])\n",
    "b = np.array([9, 8])\n",
    "\n",
    "# Resolver Ax = b\n",
    "x = solve(A, b)\n",
    "print(\"Solución del sistema:\", x)"
   ]
  },
  {
   "cell_type": "code",
   "execution_count": 48,
   "metadata": {},
   "outputs": [
    {
     "name": "stdout",
     "output_type": "stream",
     "text": [
      "Determinante de A: -2.0\n"
     ]
    }
   ],
   "source": [
    "from scipy.linalg import det\n",
    "\n",
    "# Matriz A\n",
    "A = np.array([[1, 2], [3, 4]])\n",
    "\n",
    "# Calcular el determinante\n",
    "determinante = det(A)\n",
    "print(\"Determinante de A:\", determinante)"
   ]
  },
  {
   "cell_type": "code",
   "execution_count": 49,
   "metadata": {},
   "outputs": [
    {
     "name": "stdout",
     "output_type": "stream",
     "text": [
      "Valores propios: [ 3.+0.j -1.+0.j]\n",
      "Vectores propios:\n",
      "[[ 0.70710678 -0.70710678]\n",
      " [ 0.70710678  0.70710678]]\n"
     ]
    }
   ],
   "source": [
    "from scipy.linalg import eig\n",
    "\n",
    "# Matriz A\n",
    "A = np.array([[1, 2], [2, 1]])\n",
    "\n",
    "# Calcular valores y vectores propios\n",
    "valores_propios, vectores_propios = eig(A)\n",
    "print(\"Valores propios:\", valores_propios)\n",
    "print(\"Vectores propios:\")\n",
    "print(vectores_propios)"
   ]
  },
  {
   "cell_type": "code",
   "execution_count": 50,
   "metadata": {},
   "outputs": [
    {
     "name": "stdout",
     "output_type": "stream",
     "text": [
      "Inversa de A:\n",
      "[[-2.   1. ]\n",
      " [ 1.5 -0.5]]\n"
     ]
    }
   ],
   "source": [
    "from scipy.linalg import inv\n",
    "\n",
    "# Matriz A\n",
    "A = np.array([[1, 2], [3, 4]])\n",
    "\n",
    "# Calcular la inversa\n",
    "inversa = inv(A)\n",
    "print(\"Inversa de A:\")\n",
    "print(inversa)"
   ]
  },
  {
   "cell_type": "markdown",
   "metadata": {},
   "source": [
    "### 5. Estadística\n",
    "\n",
    "* Proporciona herramientas para realizar análisis estadísticos. \n",
    "* Se utiliza para trabajar con distribuciones estadísticas, realizar pruebas de hipótesis, generar datos aleatorios y calcular estadísticas descriptivas.\n",
    "\n",
    "**Características**\n",
    "\n",
    "1. Distribuciones Estadísticas:\n",
    "    - Soporta distribuciones continuas (como normal, exponencial, gamma) y discretas (como binomial, Poisson).\n",
    "    - Permite calcular funciones de densidad de probabilidad (PDF), funciones de distribución acumulativa (CDF), valores inversos, y generar muestras aleatorias.\n",
    "2. Pruebas de Hipótesis: Realiza pruebas estadísticas como t-test, chi-cuadrado, ANOVA, Kolmogorov-Smirnov, entre otras.\n",
    "3. Estadísticas Descriptivas: Calcula medidas como media, mediana, varianza, desviación estándar, curtosis y asimetría.\n",
    "4. Ajuste de Distribuciones: Ajusta datos a distribuciones estadísticas y estima sus parámetros.\n",
    "5. Correlación y Regresión: Calcula coeficientes de correlación (Pearson, Spearman) y realiza análisis de regresión."
   ]
  },
  {
   "cell_type": "markdown",
   "metadata": {},
   "source": [
    "### 5.1. Distribuciones Estadísticas"
   ]
  },
  {
   "cell_type": "code",
   "execution_count": 51,
   "metadata": {},
   "outputs": [
    {
     "data": {
      "image/png": "[encoded data removed]",
      "text/plain": [
       "<Figure size 640x480 with 1 Axes>"
      ]
     },
     "metadata": {},
     "output_type": "display_data"
    },
    {
     "name": "stdout",
     "output_type": "stream",
     "text": [
      "PDF en x=0: 0.3989422804014327\n",
      "CDF en x=0: 0.5\n"
     ]
    }
   ],
   "source": [
    "from scipy.stats import norm\n",
    "import matplotlib.pyplot as plt\n",
    "\n",
    "# Calcular la PDF y CDF de una distribución normal estándar\n",
    "x = 0\n",
    "pdf = norm.pdf(x)  # Densidad de probabilidad\n",
    "cdf = norm.cdf(x)  # Función de distribución acumulativa\n",
    "\n",
    "# Graficar la PDF y CDF\n",
    "x = np.linspace(-3, 3, 100)\n",
    "plt.plot(x, norm.pdf(x), label='PDF')\n",
    "plt.plot(x, norm.cdf(x), label='CDF')\n",
    "plt.legend()\n",
    "plt.show()\n",
    "\n",
    "print(\"PDF en x=0:\", pdf)\n",
    "print(\"CDF en x=0:\", cdf)"
   ]
  },
  {
   "cell_type": "code",
   "execution_count": 52,
   "metadata": {},
   "outputs": [
    {
     "data": {
      "image/png": "[encoded data removed]",
      "text/plain": [
       "<Figure size 640x480 with 1 Axes>"
      ]
     },
     "metadata": {},
     "output_type": "display_data"
    },
    {
     "name": "stdout",
     "output_type": "stream",
     "text": [
      "Media de la muestra: -0.07517683891779915\n",
      "Desviación estándar de la muestra: 0.9990936582105286\n"
     ]
    }
   ],
   "source": [
    "# con muestra aleatoria\n",
    "from scipy.stats import norm\n",
    "import matplotlib.pyplot as plt\n",
    "\n",
    "# Generar una muestra aleatoria de una distribución normal estándar\n",
    "muestra = norm.rvs(size=1000)\n",
    "\n",
    "# Graficar el histograma de la muestra\n",
    "plt.hist(muestra, bins=30, density=True)\n",
    "plt.show()\n",
    "\n",
    "# Calcular la media y desviación estándar de la muestra\n",
    "media = muestra.mean()\n",
    "desviacion_estandar = muestra.std()\n",
    "print(\"Media de la muestra:\", media)\n",
    "print(\"Desviación estándar de la muestra:\", desviacion_estandar)\n",
    "\n"
   ]
  },
  {
   "cell_type": "markdown",
   "metadata": {},
   "source": [
    "### 5.2. Pruebas de Hipótesis\n",
    "\n",
    "Las pruebas de hipótesis son procedimientos estadísticos utilizados para tomar decisiones o sacar conclusiones sobre una población a partir de una muestra de datos. Estas pruebas permiten evaluar si una afirmación o hipótesis sobre los datos es consistente con la evidencia observada.\n",
    "\n",
    "**Componentes**:\n",
    "\n",
    "1. Hipótesis Nula $H_0$: Es la afirmación inicial que se asume verdadera hasta que se demuestre lo contrario.\n",
    "Ejemplo: \"La media de la población es igual a un valor específico.\"\n",
    "2. Nivel de Significancia $\\alpha$: Es la probabilidad máxima de cometer un error tipo I (rechazar $H_0$ cuando es verdadera).\n",
    "Valores comunes: (0.05) (5%) o (0.01) (1%).\n",
    "3. Estadístico de Prueba: Es un valor calculado a partir de los datos de la muestra que se utiliza para decidir si se rechaza $H_0$.\n",
    "4. Valor P ((p)):Es la probabilidad de obtener un resultado igual o más extremo que el observado, asumiendo que $H_0$ es verdadera.\n",
    "Si $p < \\alpha$, se rechaza $H_0$.\n",
    "\n",
    "**Tipos Comunes de Pruebas de Hipótesis**\n",
    "\n",
    "1. Prueba t de Student: Compara las medias de dos grupos.\n",
    "2. Prueba Chi-Cuadrado:Evalúa la relación entre variables categóricas.\n",
    "3. Prueba ANOVA:Compara las medias de más de dos grupos.\n",
    "4. Prueba de Kolmogorov-Smirnov: Compara una muestra con una distribución teórica o dos muestras entre sí.\n",
    "5. Prueba de Correlación: Evalúa la relación entre dos variables.\n",
    "\n",
    "\n",
    "**Errores en Pruebas de Hipótesis:**\n",
    "1. Error Tipo I: Rechazar $$H_0$ cuando es verdadera.\n",
    "2. Error Tipo II: No rechazar $H_0$ cuando es falsa.\n",
    "\n",
    "**Nivel de Confianza:**\n",
    "Es complementario al nivel de significancia ($1 - \\alpha$). Un nivel de significancia de (0.05) corresponde a un nivel de confianza del (95%).\n",
    "\n",
    "**Interpretación del Valor P**\n",
    "\n",
    "1. $p < \\alpha$: Evidencia suficiente para rechazar $H_0$.\n",
    "2. $p \\geq \\alpha$: No hay evidencia suficiente para rechazar $H_0$."
   ]
  },
  {
   "cell_type": "code",
   "execution_count": 53,
   "metadata": {},
   "outputs": [
    {
     "name": "stdout",
     "output_type": "stream",
     "text": [
      "Estadístico t: -1.6555762267219978\n",
      "Valor p: 0.1488877574773197\n",
      "No podemos rechazar la hipótesis nula.\n"
     ]
    }
   ],
   "source": [
    "from scipy.stats import ttest_ind\n",
    "\n",
    "# Datos de dos grupos\n",
    "grupo1 = [2.3, 3.1, 2.8, 3.5]\n",
    "grupo2 = [3.0, 3.2, 3.8, 4.0]\n",
    "\n",
    "# Realizar la prueba t\n",
    "t_stat, p_value = ttest_ind(grupo1, grupo2)\n",
    "\n",
    "print(\"Estadístico t:\", t_stat)\n",
    "print(\"Valor p:\", p_value)\n",
    "\n",
    "# Decisión\n",
    "if p_value < 0.05:\n",
    "    print(\"Rechazamos la hipótesis nula.\")\n",
    "else:\n",
    "    print(\"No podemos rechazar la hipótesis nula.\")"
   ]
  },
  {
   "cell_type": "code",
   "execution_count": 54,
   "metadata": {},
   "outputs": [
    {
     "name": "stdout",
     "output_type": "stream",
     "text": [
      "Chi-cuadrado: 0.4464285714285714\n",
      "Valor p: 0.5040358664525046\n",
      "Grados de libertad: 1\n",
      "Frecuencias esperadas:\n",
      "[[12. 18.]\n",
      " [28. 42.]]\n",
      "No podemos rechazar la hipótesis nula.\n"
     ]
    }
   ],
   "source": [
    "from scipy.stats import chi2_contingency\n",
    "\n",
    "# Tabla de contingencia\n",
    "tabla = [[10, 20], [30, 40]]\n",
    "\n",
    "# Realizar la prueba chi-cuadrado\n",
    "chi2, p, dof, expected = chi2_contingency(tabla)\n",
    "\n",
    "print(\"Chi-cuadrado:\", chi2)\n",
    "print(\"Valor p:\", p)\n",
    "print(\"Grados de libertad:\", dof)\n",
    "print(\"Frecuencias esperadas:\")\n",
    "print(expected)\n",
    "\n",
    "# Decisión\n",
    "if p < 0.05:\n",
    "    print(\"Rechazamos la hipótesis nula.\")\n",
    "else:\n",
    "    print(\"No podemos rechazar la hipótesis nula.\")"
   ]
  },
  {
   "cell_type": "markdown",
   "metadata": {},
   "source": [
    "## 6. Optimización\n",
    "\n",
    "- Proporciona herramientas para resolver problemas de optimización matemática. \n",
    "- Incluye encontrar mínimos o máximos de funciones, resolver sistemas de ecuaciones no lineales y ajustar curvas a datos.\n",
    "\n",
    "**Características**\n",
    "\n",
    "1. Optimización Unidimensional:Encontrar el mínimo o máximo de una función en un intervalo dado.\n",
    "2. Optimización Multidimensional: Encontrar el mínimo de funciones en varias dimensiones.\n",
    "3. Ajuste de Curvas: Ajustar funciones a datos experimentales.\n",
    "4. Resolución de Ecuaciones No Lineales: Resolver sistemas de ecuaciones no lineales.\n",
    "5. Programación Lineal: Resolver problemas de optimización lineal."
   ]
  },
  {
   "cell_type": "markdown",
   "metadata": {},
   "source": [
    "### 6.1 Optimización unidimensional"
   ]
  },
  {
   "cell_type": "code",
   "execution_count": 55,
   "metadata": {},
   "outputs": [
    {
     "name": "stdout",
     "output_type": "stream",
     "text": [
      "Mínimo: 1.9999999999999998\n"
     ]
    }
   ],
   "source": [
    "from scipy.optimize import minimize_scalar\n",
    "\n",
    "# Definir la función\n",
    "f = lambda x: (x - 2)**2 + 1\n",
    "\n",
    "# Encontrar el mínimo\n",
    "resultado = minimize_scalar(f)\n",
    "print(\"Mínimo:\", resultado.x)"
   ]
  },
  {
   "cell_type": "markdown",
   "metadata": {},
   "source": [
    "### 6.2 Optimización Multidimensional"
   ]
  },
  {
   "cell_type": "code",
   "execution_count": 56,
   "metadata": {},
   "outputs": [
    {
     "name": "stdout",
     "output_type": "stream",
     "text": [
      "Mínimo: [0.99999999 1.99999999]\n"
     ]
    }
   ],
   "source": [
    "from scipy.optimize import minimize\n",
    "\n",
    "# Definir la función\n",
    "f = lambda x: (x[0] - 1)**2 + (x[1] - 2)**2\n",
    "\n",
    "# Punto inicial\n",
    "x0 = [0, 0]\n",
    "\n",
    "# Encontrar el mínimo\n",
    "resultado = minimize(f, x0)\n",
    "print(\"Mínimo:\", resultado.x)"
   ]
  },
  {
   "cell_type": "markdown",
   "metadata": {},
   "source": [
    "### 6.3 Ajuste de curvas\n"
   ]
  },
  {
   "cell_type": "code",
   "execution_count": 57,
   "metadata": {},
   "outputs": [
    {
     "name": "stdout",
     "output_type": "stream",
     "text": [
      "Parámetros ajustados: [1.05 1.02]\n"
     ]
    }
   ],
   "source": [
    "\n",
    "from scipy.optimize import curve_fit\n",
    "import numpy as np\n",
    "\n",
    "# Datos experimentales\n",
    "x_data = np.array([0, 1, 2, 3, 4])\n",
    "y_data = np.array([1, 2.2, 2.8, 4.5, 5.1])\n",
    "\n",
    "# Definir la función a ajustar\n",
    "def modelo(x, a, b):\n",
    "    return a * x + b\n",
    "\n",
    "# Ajustar la curva\n",
    "parametros, _ = curve_fit(modelo, x_data, y_data)\n",
    "print(\"Parámetros ajustados:\", parametros)"
   ]
  },
  {
   "cell_type": "markdown",
   "metadata": {},
   "source": [
    "### 6.4 Resolución de Ecuaciones No Lineales"
   ]
  },
  {
   "cell_type": "code",
   "execution_count": 58,
   "metadata": {},
   "outputs": [
    {
     "name": "stdout",
     "output_type": "stream",
     "text": [
      "Solución: [1. 1.]\n"
     ]
    }
   ],
   "source": [
    "from scipy.optimize import root\n",
    "\n",
    "# Definir el sistema de ecuaciones\n",
    "def sistema(x):\n",
    "    return [x[0]**2 + x[1] - 2, x[0] - x[1]**2]\n",
    "\n",
    "# Punto inicial\n",
    "x0 = [1, 1]\n",
    "\n",
    "# Resolver el sistema\n",
    "resultado = root(sistema, x0)\n",
    "print(\"Solución:\", resultado.x)"
   ]
  },
  {
   "cell_type": "markdown",
   "metadata": {},
   "source": [
    "### 6.5 Programación Lineal"
   ]
  },
  {
   "cell_type": "code",
   "execution_count": 59,
   "metadata": {},
   "outputs": [
    {
     "name": "stdout",
     "output_type": "stream",
     "text": [
      "Solución: [ 0. 16.]\n"
     ]
    }
   ],
   "source": [
    "from scipy.optimize import linprog\n",
    "\n",
    "# Coeficientes de la función objetivo\n",
    "c = [-1, -2]\n",
    "\n",
    "# Restricciones\n",
    "A = [[2, 1], [1, 1]]\n",
    "b = [20, 16]\n",
    "\n",
    "# Límites de las variables\n",
    "x_bounds = (0, None)\n",
    "y_bounds = (0, None)\n",
    "\n",
    "# Resolver el problema\n",
    "resultado = linprog(c, A_ub=A, b_ub=b, bounds=[x_bounds, y_bounds])\n",
    "print(\"Solución:\", resultado.x)"
   ]
  }
 ],
 "metadata": {
  "kernelspec": {
   "display_name": "base",
   "language": "python",
   "name": "python3"
  },
  "language_info": {
   "codemirror_mode": {
    "name": "ipython",
    "version": 3
   },
   "file_extension": ".py",
   "mimetype": "text/x-python",
   "name": "python",
   "nbconvert_exporter": "python",
   "pygments_lexer": "ipython3",
   "version": "3.12.8"
  }
 },
 "nbformat": 4,
 "nbformat_minor": 2
}
