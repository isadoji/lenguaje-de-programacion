{
 "cells": [
  {
   "cell_type": "code",
   "execution_count": 36,
   "metadata": {},
   "outputs": [
    {
     "name": "stdout",
     "output_type": "stream",
     "text": [
      "The jupyter_black extension is already loaded. To reload it, use:\n",
      "  %reload_ext jupyter_black\n"
     ]
    }
   ],
   "source": [
    "%load_ext jupyter_black"
   ]
  },
  {
   "cell_type": "markdown",
   "metadata": {},
   "source": [
    "# Control de flujo\n",
    "\n",
    "* Forma en que se dirige la ejecución del código en función de ciertas condiciones y estructuras. \n",
    "* Permite que el programa tome decisiones, repita acciones y maneje situaciones excepcionales. \n",
    "\n",
    "### Las principales estructuras de control de flujo son:"
   ]
  },
  {
   "cell_type": "markdown",
   "metadata": {},
   "source": [
    "<div class=\"alert alert-block alert-success\"> \n",
    "\n",
    "## 1. Condicionales (`if`, `elif`, `else`)\n",
    "\n",
    "### **Sintaxis:**\n",
    "\n",
    "`if` condicion:\n",
    "    \n",
    "        ### Bloque de código si la condición es verdadera\n",
    "    \n",
    "`elif` otra_condicion:\n",
    "\n",
    "        ### Bloque de código si la otra condición es verdadera\n",
    "\n",
    "`else:`\n",
    "\n",
    "        ### Bloque de código si ninguna de las \n",
    "        ### condiciones anteriores es verdades\n",
    "\n",
    "</div>"
   ]
  },
  {
   "cell_type": "code",
   "execution_count": 22,
   "metadata": {},
   "outputs": [
    {
     "name": "stdout",
     "output_type": "stream",
     "text": [
      "manzana\n",
      "cereza\n"
     ]
    }
   ],
   "source": [
    "# Ejemplo de uso de pass en Python\n",
    "frutas = [\"manzana\", \"banana\", \"cereza\"]\n",
    "\n",
    "for fruta in frutas:\n",
    "    if fruta == \"banana\":\n",
    "        pass  # No hacer nada si la fruta es banana\n",
    "    else:\n",
    "        print(fruta)"
   ]
  },
  {
   "cell_type": "code",
   "execution_count": 23,
   "metadata": {},
   "outputs": [
    {
     "name": "stdout",
     "output_type": "stream",
     "text": [
      "Tienes 18 años.\n"
     ]
    }
   ],
   "source": [
    "# Ejemplo de condicionales en Python\n",
    "\n",
    "edad = 18\n",
    "\n",
    "if edad < 18:\n",
    "    print(\"Eres menor de edad.\")\n",
    "elif edad == 18:\n",
    "    print(\"Tienes 18 años.\")\n",
    "else:\n",
    "    print(\"Eres mayor de edad.\")"
   ]
  },
  {
   "cell_type": "markdown",
   "metadata": {},
   "source": [
    "<div class=\"alert alert-block alert-success\"> \n",
    "\n",
    "## 2. Bucles (`for`, `while`)\n",
    "\n",
    "- `for`: Se utiliza para iterar sobre una secuencia (como una lista, tupla, diccionario, conjunto o cadena).\n",
    "\n",
    "### **Sintaxis:**\n",
    "\n",
    "`for` elemento `in` secuencia:\n",
    "    \n",
    "        ### Bloque de código que se ejecuta en cada iteración\n",
    "\n",
    "- `while` se utiliza para repetir un bloque de código mientras una condición sea verdadera.\n",
    "\n",
    "### **Sintaxis**\n",
    "\n",
    "`while` condicion:\n",
    "    \n",
    "        ### Bloque de código que se ejecuta mientras la \n",
    "        ### condición sea verdadera\n",
    "\n",
    "\n",
    " "
   ]
  },
  {
   "cell_type": "code",
   "execution_count": 24,
   "metadata": {},
   "outputs": [
    {
     "name": "stdout",
     "output_type": "stream",
     "text": [
      "0\n",
      "1\n",
      "2\n",
      "3\n",
      "4\n"
     ]
    }
   ],
   "source": [
    "# Ejemplo de bucle for en Python\n",
    "\n",
    "for i in range(5):\n",
    "    print(i)"
   ]
  },
  {
   "cell_type": "code",
   "execution_count": 25,
   "metadata": {},
   "outputs": [
    {
     "name": "stdout",
     "output_type": "stream",
     "text": [
      "manzana\n",
      "banana\n",
      "cereza\n"
     ]
    }
   ],
   "source": [
    "for fruta in frutas:\n",
    "    print(fruta)"
   ]
  },
  {
   "cell_type": "code",
   "execution_count": 26,
   "metadata": {},
   "outputs": [
    {
     "name": "stdout",
     "output_type": "stream",
     "text": [
      "0\n",
      "1\n",
      "2\n",
      "3\n",
      "4\n"
     ]
    }
   ],
   "source": [
    "# Ejemplo de bucle while en Python\n",
    "i = 0\n",
    "while i < 5:\n",
    "    print(i)\n",
    "    i += 1"
   ]
  },
  {
   "cell_type": "code",
   "execution_count": 27,
   "metadata": {},
   "outputs": [],
   "source": [
    "# Ejemplo de bucle infinito en Python\n",
    "\n",
    "## while True:\n",
    "##    print(\"Este bucle es infinito. Presiona Ctrl+C para detenerlo.\")"
   ]
  },
  {
   "cell_type": "markdown",
   "metadata": {},
   "source": [
    "<div class=\"alert alert-block alert-success\"> \n",
    "\n",
    "## 3. Declaraciones de Control (`break`, `continue`, `pass`)\n",
    "\n",
    "Las declaraciones de control se utilizan para alterar el flujo de ejecución dentro de los bucles.\n",
    "\n",
    "* `break` se utiliza para salir de un bucle antes de que haya terminado.\n",
    "\n",
    "Ejemplo:\n",
    "</div>"
   ]
  },
  {
   "cell_type": "code",
   "execution_count": 28,
   "metadata": {},
   "outputs": [
    {
     "name": "stdout",
     "output_type": "stream",
     "text": [
      "0\n",
      "1\n",
      "2\n",
      "3\n",
      "4\n"
     ]
    }
   ],
   "source": [
    "for i in range(10):\n",
    "    if i == 5:\n",
    "        break\n",
    "    print(i)"
   ]
  },
  {
   "cell_type": "code",
   "execution_count": 29,
   "metadata": {},
   "outputs": [
    {
     "name": "stdout",
     "output_type": "stream",
     "text": [
      "0\n",
      "1\n",
      "2\n"
     ]
    }
   ],
   "source": [
    "i = 0\n",
    "while i < 5:\n",
    "    if i == 3:\n",
    "        break  # Sale del bucle cuando i es 3\n",
    "    print(i)\n",
    "    i += 1"
   ]
  },
  {
   "cell_type": "markdown",
   "metadata": {},
   "source": [
    "<div class=\"alert alert-block alert-success\"> \n",
    "\n",
    "* `continue`  se utiliza dentro de bucles  para saltar el resto del código en la iteración actual y pasar a la siguiente iteración del bucle\n",
    "* Es útil cuando se quiere omitir ciertas condiciones dentro de un bucle sin detener completamente el bucle.\n",
    "\n",
    "Ejemplo:\n",
    "</div>"
   ]
  },
  {
   "cell_type": "code",
   "execution_count": 30,
   "metadata": {},
   "outputs": [
    {
     "name": "stdout",
     "output_type": "stream",
     "text": [
      "1\n",
      "3\n",
      "5\n",
      "7\n",
      "9\n"
     ]
    }
   ],
   "source": [
    "for i in range(10):\n",
    "    if i % 2 == 0:\n",
    "        continue\n",
    "    print(i)"
   ]
  },
  {
   "cell_type": "code",
   "execution_count": 31,
   "metadata": {},
   "outputs": [
    {
     "name": "stdout",
     "output_type": "stream",
     "text": [
      "1\n",
      "2\n",
      "4\n",
      "5\n"
     ]
    }
   ],
   "source": [
    "i = 0\n",
    "while i < 5:\n",
    "    i += 1\n",
    "    if i == 3:\n",
    "        continue  # Salta el resto del código en\n",
    "        # esta iteración y pasa a la siguiente\n",
    "    print(i)"
   ]
  },
  {
   "cell_type": "markdown",
   "metadata": {},
   "source": [
    "<div class=\"alert alert-block alert-success\"> \n",
    "\n",
    "* `pass` es una declaración nula que no hace nada cuando se ejecuta.\n",
    "* Se utiliza como un marcador de posición para un bloque de código vacío.\n",
    "* Es útil en situaciones donde se planea agregar código más tarde o para definir bloques vacíos, como en funciones, clases o bucles.\n",
    "\n",
    "Ejemplo:\n",
    "</div>"
   ]
  },
  {
   "cell_type": "code",
   "execution_count": 32,
   "metadata": {},
   "outputs": [
    {
     "name": "stdout",
     "output_type": "stream",
     "text": [
      "1\n",
      "3\n",
      "5\n",
      "7\n",
      "9\n"
     ]
    }
   ],
   "source": [
    "for i in range(10):\n",
    "    if i % 2 == 0:\n",
    "        pass  # Aquí no se hace nada, solo se pasa\n",
    "    else:\n",
    "        print(i)"
   ]
  },
  {
   "cell_type": "code",
   "execution_count": 33,
   "metadata": {},
   "outputs": [],
   "source": [
    "# en definición de funciones\n",
    "def funcion_a_definir():\n",
    "    pass  # Se planea agregar código más tarde\n",
    "\n",
    "\n",
    "funcion_a_definir()"
   ]
  },
  {
   "cell_type": "code",
   "execution_count": 34,
   "metadata": {},
   "outputs": [],
   "source": [
    "# en definición de clases\n",
    "#\n",
    "class ClaseVacia:\n",
    "    pass  # Clase vacía, se planea agregar atributos y métodos más tarde\n",
    "\n",
    "\n",
    "objeto = ClaseVacia()"
   ]
  },
  {
   "cell_type": "markdown",
   "metadata": {},
   "source": [
    "<div class=\"alert alert-block alert-success\"> \n",
    "\n",
    "## 4. Manejo de Excepciones (`try`, `except`, `finally`)\n",
    "\n",
    "Permite gestionar errores y situaciones excepcionales \n",
    "\n",
    "### **Sintaxis:**\n",
    "\n",
    "`try`:\n",
    "    \n",
    "        ### Bloque de código que puede generar una excepción\n",
    "`except` TipoDeExcepcion:\n",
    "\n",
    "        ### Bloque de código que se ejecuta si ocurre una \n",
    "        ### excepción\n",
    "\n",
    "`finally`:\n",
    "\n",
    "        # Bloque de código que se ejecuta siempre, ocurra \n",
    "        ## o no una excepción\n",
    "\n",
    "Ejemplo:\n",
    "</div>"
   ]
  },
  {
   "cell_type": "code",
   "execution_count": 35,
   "metadata": {},
   "outputs": [
    {
     "name": "stdout",
     "output_type": "stream",
     "text": [
      "Error: División por cero.\n",
      "Esta línea se ejecuta siempre.\n"
     ]
    }
   ],
   "source": [
    "# Ejemplo de excepciones en Python\n",
    "x = 0\n",
    "try:\n",
    "    resultado = 10 / x\n",
    "    print(resultado)\n",
    "except ZeroDivisionError:\n",
    "    print(\"Error: División por cero.\")\n",
    "finally:\n",
    "    print(\"Esta línea se ejecuta siempre.\")"
   ]
  }
 ],
 "metadata": {
  "kernelspec": {
   "display_name": "base",
   "language": "python",
   "name": "python3"
  },
  "language_info": {
   "codemirror_mode": {
    "name": "ipython",
    "version": 3
   },
   "file_extension": ".py",
   "mimetype": "text/x-python",
   "name": "python",
   "nbconvert_exporter": "python",
   "pygments_lexer": "ipython3",
   "version": "3.12.8"
  }
 },
 "nbformat": 4,
 "nbformat_minor": 2
}
