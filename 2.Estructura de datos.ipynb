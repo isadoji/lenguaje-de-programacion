{
 "cells": [
  {
   "cell_type": "markdown",
   "metadata": {},
   "source": [
    "2. Estructuras de Datos Básicas\n",
    "\n",
    "    2.1  Variables y tipos de datos\n",
    "    \n",
    "    2.2 Listas, tuplas y diccionarios\n",
    "    \n",
    "    2.3 Operaciones básicas con estructuras de datos"
   ]
  },
  {
   "cell_type": "markdown",
   "metadata": {},
   "source": [
    "# Estructuras de Datos Básicas\n",
    "\n",
    "## Variables y Tipos de Datos\n",
    "\n",
    "**¿Qué es una Variable?**\n",
    "\n",
    "* Es un \"contenedor\" que permite almacenar, manipular y acceder a valores de manera eficiente. * Cada variable tiene un nombre único que se utiliza para referirse a los datos almacenados en ella.\n",
    "\n",
    "Características de una variable:\n",
    "\n",
    "1. **Nombre**: Un identificador único que se utiliza para referirse a la variable.\n",
    "2. **Valor**: El dato almacenado en la variable.\n",
    "3. **Tipo de Dato**: El tipo de dato que la variable almacena, pueden ser: \n",
    "    1. **Enteros (int)**: En Python, los enteros pueden tener un tamaño variable, ya que Python maneja automáticamente el tamaño de los enteros según el valor almacenado. Sin embargo, en otros lenguajes de programación, los enteros suelen tener un tamaño fijo, como 4 bytes (32 bits) o 8 bytes (64 bits).\n",
    "\n",
    "    2. **Flotantes (float)**: Los números flotantes en Python generalmente ocupan 8 bytes (64 bits), lo que permite una gran precisión para los números decimales.\n",
    "\n",
    "    3. **Cadenas de Texto (str)**: El tamaño de una cadena de texto depende del número de caracteres que contiene. Cada carácter en una cadena de texto en Python ocupa 1 byte (8 bits) en ASCII o más en Unicode.\n",
    "\n",
    "    4. **Booleanos (bool)**: Los valores booleanos (`True` o `False`) en Python ocupan 1 byte.\n",
    "\n",
    "    5. **Listas (list)**: El tamaño de una lista depende del número de elementos que contiene y del tamaño de cada elemento. Las listas en Python son estructuras dinámicas, por lo que su tamaño puede cambiar durante la ejecución del programa.\n",
    "\n",
    "    6. **Tuplas (tuple)**: Similar a las listas, el tamaño de una tupla depende del número de elementos y del tamaño de cada elemento. Sin embargo, las tuplas son inmutables, lo que significa que su tamaño no cambia una vez creadas.\n",
    "\n",
    "    7. **Diccionarios (dict)**: El tamaño de un diccionario depende del número de pares clave-valor que contiene y del tamaño de cada clave y valor. Los diccionarios en Python son estructuras de datos dinámicas.\n",
    "\n",
    "    8. **Conjuntos (set)**: El tamaño de un conjunto depende del número de elementos únicos que contiene. Los conjuntos en Python son estructuras de datos dinámicas.\n",
    "\n",
    "\n",
    "* Declaración y Asignación de Variables en Python\n",
    "En Python, no es necesario declarar explícitamente el tipo de una variable. Simplemente se asigna un valor a un nombre de variable utilizando el operador de asignación (=)."
   ]
  },
  {
   "cell_type": "markdown",
   "metadata": {},
   "source": [
    "**¿Qué es el Sistema Binario?**\n",
    "\n",
    "El sistema binario es un sistema de numeración en el que los números se representan utilizando solo dos dígitos: 0 y 1. \n",
    "\n",
    "* Características del Sistema Binario\n",
    "\n",
    "* Base 2: El sistema binario es un sistema de base 2, lo que significa que solo utiliza dos símbolos (0 y 1) para representar todos los números.\n",
    "* Dígitos Binarios (Bits): Cada dígito en un número binario se llama bit (abreviatura de \"binary digit\").\n",
    "* Posiciones de Potencia de 2: Cada posición en un número binario representa una potencia de 2, comenzando desde 2^0 en la posición más a la derecha.\n",
    "\n",
    "$$\n",
    "1101_2 = 1 \\times 2^3 + 1 \\times 2^2 + 0 \\times 2^1 + 1 \\times 2^0 = 8 + 4 + 0 + 1 = 13\n",
    "$$\n",
    "\n",
    "Ejemplo de sistema decimal:\n",
    "\n",
    "$$\n",
    "13_{10} = 1 \\times 10^1 + 3 \\times 10^0 = 10 + 3 = 13\n",
    "$$\n",
    "\n",
    "## Convertir de Decimal a Binario\n",
    "\n",
    "1. Dividir el número decimal por 2 y anotar el residuo.\n",
    "2. Dividir el cociente resultante por 2 y anotar el residuo.\n",
    "3. Repetir el proceso hasta que el cociente sea 0.\n",
    "4. Leer los residuos en orden inverso para obtener el número binario.\n",
    "\n",
    "Ejemplo de Conversión\n",
    "\n",
    "Convertir el número decimal 13 a binario:\n",
    "\n",
    "$$\n",
    "13 ÷ 2 = 6, residuo = 1\\\\\n",
    "6 ÷ 2 = 3, residuo = 0\\\\\n",
    "3 ÷ 2 = 1, residuo = 1\\\\\n",
    "1 ÷ 2 = 0, residuo = 1\\\\\n",
    "$$\n",
    "\n",
    "Leyendo los residuos en orden inverso: 1101"
   ]
  },
  {
   "cell_type": "code",
   "execution_count": 55,
   "metadata": {},
   "outputs": [
    {
     "name": "stdout",
     "output_type": "stream",
     "text": [
      "1101\n"
     ]
    }
   ],
   "source": [
    "''' \n",
    "decimal a binario\n",
    "    1. Dividir el número decimal entre 2.\n",
    "    2. Guardar el residuo.\n",
    "    3. Dividir el cociente entre 2.\n",
    "    4. Repetir el proceso hasta que el cociente sea 0.\n",
    "    5. El número binario se obtiene leyendo los residuos de abajo hacia arriba\n",
    "'''\n",
    "\n",
    "def decimal_a_binario(decimal):\n",
    "    binario = \"\"\n",
    "    while decimal // 2 != 0:\n",
    "        binario = str(decimal % 2) + binario\n",
    "        decimal = decimal // 2\n",
    "    return str(decimal) + binario\n",
    "\n",
    "print(decimal_a_binario(13)) \n",
    "\n"
   ]
  },
  {
   "cell_type": "code",
   "execution_count": 56,
   "metadata": {},
   "outputs": [
    {
     "name": "stdout",
     "output_type": "stream",
     "text": [
      "13\n"
     ]
    }
   ],
   "source": [
    "\n",
    "'''  \n",
    "binario a decimal:\n",
    "    1. Inicializar la variable decimal en 0\n",
    "    2. Recorrer el número binario de izquierda a derecha\n",
    "    3. Por cada dígito en el número binario, multiplicar el dígito por 2 elevado \n",
    "    a la potencia de la posición del dígito en el número binario\n",
    "    4. Sumar el resultado al valor de la variable decimal\n",
    "    5. Retornar el valor de la variable decimal\n",
    "'''\n",
    "\n",
    "def binario_a_decimal(binario): \n",
    "    decimal = 0\n",
    "    for i in range(len(binario)):\n",
    "        decimal += int(binario[i]) * 2 ** (len(binario) - i - 1)\n",
    "    return decimal\n",
    "\n",
    "print(binario_a_decimal(\"1101\"))"
   ]
  },
  {
   "cell_type": "code",
   "execution_count": 60,
   "metadata": {},
   "outputs": [
    {
     "name": "stdout",
     "output_type": "stream",
     "text": [
      "0b1101\n",
      "13\n"
     ]
    }
   ],
   "source": [
    "## funciones de python\n",
    "\n",
    "numero_decimal = 13\n",
    "numero_binario = bin(numero_decimal)\n",
    "print(numero_binario)\n",
    "\n",
    "numero_binario = 1101\n",
    "numero_decimal = int(str(numero_binario), 2)\n",
    "print(numero_decimal) "
   ]
  },
  {
   "cell_type": "markdown",
   "metadata": {},
   "source": [
    "\n",
    "### Unidades de Medida en Computación\n",
    "\n",
    "A partir del bit, se construyen unidades más grandes para medir la cantidad de datos:\n",
    "\n",
    "\n",
    "* Byte (B): 1 byte = 8 bits.\n",
    "    - Un byte puede representar 256 valores diferentes (2^8), lo que es suficiente para almacenar un solo carácter en muchos sistemas de codificación de caracteres, como ASCII.\n",
    "*   Kilobyte (KB):  1 kilobyte = 1024 bytes (2^10 bytes).\n",
    "    - A menudo se redondea a 1000 bytes en contextos no técnicos.\n",
    "* Megabyte (MB): 1 megabyte = 1024 kilobytes (2^20 bytes).\n",
    "    - A menudo se redondea a 1,000,000 bytes en contextos no técnicos.\n",
    "* Gigabyte (GB):  1 gigabyte = 1024 megabytes (2^30 bytes).\n",
    "    - A menudo se redondea a 1,000,000,000 bytes en contextos no técnicos.\n",
    "* Terabyte (TB):1 terabyte = 1024 gigabytes (2^40 bytes).\n",
    "    - A menudo se redondea a 1,000,000,000,000 bytes en contextos no técnicos.\n",
    "* Petabyte (PB): 1 petabyte = 1024 terabytes (2^50 bytes).\n",
    "* Exabyte (EB): 1 exabyte = 1024 petabytes (2^60 bytes).\n",
    "* Zettabyte (ZB): 1 zettabyte = 1024 exabytes (2^70 bytes).\n",
    "* Yottabyte (YB): 1 yottabyte = 1024 zettabytes (2^80 bytes)."
   ]
  },
  {
   "cell_type": "code",
   "execution_count": 57,
   "metadata": {},
   "outputs": [
    {
     "name": "stdout",
     "output_type": "stream",
     "text": [
      "Tamaño de entero: 28 bytes\n",
      "Tamaño de flotante: 24 bytes\n",
      "Tamaño de cadena: 45 bytes\n",
      "Tamaño de booleano: 28 bytes\n",
      "Tamaño de lista: 88 bytes\n",
      "Tamaño de tupla: 64 bytes\n",
      "Tamaño de diccionario: 184 bytes\n",
      "Tamaño de conjunto: 216 bytes\n"
     ]
    }
   ],
   "source": [
    "import sys\n",
    "\n",
    "# Tamaño de diferentes tipos de datos\n",
    "entero = 101 # 28 bytes en Python 3.6 y 24 bytes en Python 2.7\n",
    "flotante = 10.5 # 24 bytes en Python 3.6 y 16 bytes en Python 2.7\n",
    "cadena = \"Hola\" # 52 bytes en Python 3.6 y 38 bytes en Python 2.7\n",
    "booleano = True # 28 bytes en Python 3.6 y 24 bytes en Python 2.7\n",
    "lista = [1, 2, 3] # 72 bytes en Python 3.6 y 64 bytes en Python 2.7\n",
    "tupla = (1, 2, 3) # 56 bytes en Python 3.6 y 48 bytes en Python 2.7\n",
    "diccionario = {\"clave\": \"valor\"} # 240 bytes en Python 3.6 y 216 bytes en Python 2.7\n",
    "conjunto = {1,2,3,4} # 216 bytes en Python 3.6 y 712 bytes en Python 2.7\n",
    "\n",
    "print(\"Tamaño de entero:\", sys.getsizeof(entero), \"bytes\")\n",
    "print(\"Tamaño de flotante:\", sys.getsizeof(flotante), \"bytes\")\n",
    "print(\"Tamaño de cadena:\", sys.getsizeof(cadena), \"bytes\")\n",
    "print(\"Tamaño de booleano:\", sys.getsizeof(booleano), \"bytes\")\n",
    "print(\"Tamaño de lista:\", sys.getsizeof(lista), \"bytes\")\n",
    "print(\"Tamaño de tupla:\", sys.getsizeof(tupla), \"bytes\")\n",
    "print(\"Tamaño de diccionario:\", sys.getsizeof(diccionario), \"bytes\")\n",
    "print(\"Tamaño de conjunto:\", sys.getsizeof(conjunto), \"bytes\")\n"
   ]
  },
  {
   "cell_type": "markdown",
   "metadata": {},
   "source": [
    "### Declaración y Asignación de Variables en Python\n",
    "\n",
    "En Python, no es necesario declarar explícitamente el tipo de una variable; simplemente se asigna un valor a un nombre de variable utilizando el operador de asignación (=).\n",
    "\n",
    "### Sintaxis Básica\n",
    "\n",
    "    nombre_variable = valor"
   ]
  },
  {
   "cell_type": "code",
   "execution_count": 64,
   "metadata": {},
   "outputs": [
    {
     "name": "stdout",
     "output_type": "stream",
     "text": [
      "Edad: 25\n",
      "Altura: 1.75 metros\n",
      "Nombre: Ana\n",
      "Es estudiante: True\n",
      "Números: [1, 2, 3, 4, 5]\n",
      "Coordenadas: (10.0, 20.0)\n",
      "Persona: {'nombre': 'Ana', 'edad': 25, 'ciudad': 'Madrid'}\n",
      "Frutas: {'manzana', 'cereza', 'banana'}\n"
     ]
    }
   ],
   "source": [
    "# Declaración y asignación de variables\n",
    "\n",
    "# Entero\n",
    "edad = 25\n",
    "print(f\"Edad: {edad}\")\n",
    "\n",
    "# Flotante\n",
    "altura = 1.75\n",
    "print(f\"Altura: {altura} metros\")\n",
    "\n",
    "# Cadena de texto\n",
    "nombre = \"Ana\"\n",
    "print(f\"Nombre: {nombre}\")\n",
    "\n",
    "# Booleano\n",
    "es_estudiante = True\n",
    "print(f\"Es estudiante: {es_estudiante}\")\n",
    "\n",
    "# Lista\n",
    "numeros = [1, 2, 3, 4, 5]\n",
    "print(f\"Números: {numeros}\")\n",
    "\n",
    "# Tupla\n",
    "coordenadas = (10.0, 20.0)\n",
    "print(f\"Coordenadas: {coordenadas}\")\n",
    "\n",
    "# Diccionario\n",
    "persona = {\"nombre\": \"Ana\", \"edad\": 25, \"ciudad\": \"Madrid\"}\n",
    "print(f\"Persona: {persona}\")\n",
    "\n",
    "# Conjunto\n",
    "frutas = {\"manzana\", \"banana\", \"cereza\"}\n",
    "print(f\"Frutas: {frutas}\")"
   ]
  },
  {
   "cell_type": "markdown",
   "metadata": {},
   "source": [
    "## Palabras reservadas\n",
    "\n",
    "Palabras clave (keywords) que están reservadas y no pueden ser utilizadas como nombres de variables, funciones, clases, o cualquier otro identificador. Estas palabras clave tienen un significado especial en el lenguaje y son utilizadas para definir la estructura y el flujo del programa.\n",
    "\n",
    "Lista de Palabras Clave Reservadas en Python\n",
    "Puedes obtener una lista de todas las palabras clave reservadas en Python utilizando el módulo keyword:"
   ]
  },
  {
   "cell_type": "code",
   "execution_count": 97,
   "metadata": {},
   "outputs": [
    {
     "name": "stdout",
     "output_type": "stream",
     "text": [
      "Palabras clave reservadas en Python:\n",
      "False\n",
      "None\n",
      "True\n",
      "and\n",
      "as\n",
      "assert\n",
      "async\n",
      "await\n",
      "break\n",
      "class\n",
      "continue\n",
      "def\n",
      "del\n",
      "elif\n",
      "else\n",
      "except\n",
      "finally\n",
      "for\n",
      "from\n",
      "global\n",
      "if\n",
      "import\n",
      "in\n",
      "is\n",
      "lambda\n",
      "nonlocal\n",
      "not\n",
      "or\n",
      "pass\n",
      "raise\n",
      "return\n",
      "try\n",
      "while\n",
      "with\n",
      "yield\n"
     ]
    }
   ],
   "source": [
    "import keyword\n",
    "\n",
    "# Obtener la lista de palabras clave reservadas\n",
    "palabras_clave = keyword.kwlist\n",
    "\n",
    "# Mostrar la lista de palabras clave reservadas\n",
    "print(\"Palabras clave reservadas en Python:\")\n",
    "for palabra in palabras_clave:\n",
    "    print(palabra)\n"
   ]
  },
  {
   "cell_type": "markdown",
   "metadata": {},
   "source": [
    "## Función, clases, objetos y métodos\n",
    "\n",
    "**¿Qué es una Función?**\n",
    "\n",
    "* Es un bloque de código reutilizable que realiza una tarea específica. \n",
    "* Las funciones permiten organizar el código en módulos más pequeños y manejables, facilitando la lectura, el mantenimiento y la reutilización del código.\n",
    "\n",
    "* Características de una Función\n",
    "\n",
    "1. **Definición:** Una función se define utilizando una palabra clave específica del lenguaje de programación. En Python, se utiliza la palabra clave `def`.\n",
    "2. **Nombre:** Cada función tiene un nombre único que se utiliza para llamarla.\n",
    "3. **Parámetros:** Las funciones pueden aceptar uno o más parámetros (también llamados argumentos) que proporcionan información adicional necesaria para realizar su tarea.\n",
    "4. **Cuerpo:** El cuerpo de la función contiene el código que define lo que hace la función.\n",
    "5. **Retorno:** Las funciones pueden devolver un valor utilizando la palabra clave return."
   ]
  },
  {
   "cell_type": "code",
   "execution_count": 98,
   "metadata": {},
   "outputs": [],
   "source": [
    "\n",
    "def saludar(nombre,edad):\n",
    "    '''  \n",
    "    Esta función toma dos argumentos, un nombre y una edad, \n",
    "    e imprime un saludo  personalizado.\n",
    "    '''\n",
    "    print(f\"Hola, mi nombre es {nombre} y tengo {edad} años.\") "
   ]
  },
  {
   "cell_type": "code",
   "execution_count": 99,
   "metadata": {},
   "outputs": [
    {
     "name": "stdout",
     "output_type": "stream",
     "text": [
      "Hola, mi nombre es Isabel y tengo 49 años.\n"
     ]
    }
   ],
   "source": [
    "saludar(\"Isabel\", 49)"
   ]
  },
  {
   "cell_type": "markdown",
   "metadata": {},
   "source": [
    "**¿Qué es una Clase y un objeto?**\n",
    "\n",
    "* En programación orientada a objetos, una clase es una plantilla o molde que define las propiedades (atributos) y comportamientos (métodos) que los objetos creados a partir de la clase tendrán. \n",
    "\n",
    "* Las clases permiten organizar y estructurar el código de manera que sea más fácil de entender, mantener y reutilizar.\n",
    "\n",
    "* Características de una Clase\n",
    "\n",
    "1. **Atributos**: Variables que pertenecen a la clase y describen las propiedades de los objetos.\n",
    "2. **Métodos**: Funciones que pertenecen a la clase y describen los comportamientos de los objetos.\n",
    "3. **Encapsulamiento**: Las clases permiten encapsular datos y métodos, protegiendo los datos internos del acceso directo desde fuera de la clase.\n",
    "4. **Herencia**: Las clases pueden heredar propiedades y métodos de otras clases, lo que permite la reutilización del código.\n",
    "5. **Polimorfismo**: Las clases pueden definir métodos que se comportan de manera diferente según el objeto que los invoque.\n",
    "\n",
    "\n",
    "* **Clase**: Es un molde o plantilla que define los atributos y métodos comunes a todos los objetos de ese tipo.\n",
    "* **Objeto**: Es una instancia de una clase. Cada objeto tiene su propio conjunto de valores para los atributos definidos en la clase.\n",
    "\n",
    "**¿Qué es un Método?**\n",
    "\n",
    "* Es una función que está asociada a un objeto. \n",
    "* Los métodos son funciones que operan sobre los datos contenidos en un objeto y pueden modificar el estado del objeto o realizar operaciones específicas relacionadas con el objeto.\n",
    "* Los métodos se definen dentro de una clase y se invocan en instancias de esa clase. \n",
    "* Los métodos permiten encapsular el comportamiento que es específico de los objetos de una clase.\n",
    "\n",
    "## Esta es la manera en las que estan incorporadas las funciones en python"
   ]
  },
  {
   "cell_type": "code",
   "execution_count": 100,
   "metadata": {},
   "outputs": [
    {
     "name": "stdout",
     "output_type": "stream",
     "text": [
      "Hola, mi nombre es Isabel y tengo 49 años.\n",
      "¡Feliz cumpleaños, Isabel! Ahora tienes 50 años.\n",
      "Hola, mi nombre es Juan y tengo 10 años.\n",
      "¡Feliz cumpleaños, Juan! Ahora tienes 11 años.\n"
     ]
    }
   ],
   "source": [
    "# Clase Persona \n",
    "class Persona:\n",
    "   # El método __init__ es un método especial llamado constructor \n",
    "   # que se ejecuta automáticamente cuando se crea una nueva \n",
    "   # instancia de la clase. Inicializa los atributos nombre y edad.\n",
    "    def __init__(self, nombre, edad):\n",
    "        self.nombre = nombre\n",
    "        self.edad = edad\n",
    "\n",
    "    def saludar(self):\n",
    "        print(f\"Hola, mi nombre es {self.nombre} y tengo {self.edad} años.\")\n",
    "\n",
    "    def cumplir_años(self):\n",
    "        self.edad += 1\n",
    "        print(f\"¡Feliz cumpleaños, {self.nombre}! Ahora tienes {self.edad} años.\")\n",
    "\n",
    "# Crear instancias de la clase Persona (objetos)\n",
    "personas = [Persona(\"Isabel\", 49), Persona(\"Juan\", 10)]\n",
    "\n",
    "# Llamar a los métodos de la instancia\n",
    "for persona in personas:\n",
    "    persona.saludar()  \n",
    "    persona.cumplir_años()"
   ]
  },
  {
   "cell_type": "code",
   "execution_count": 94,
   "metadata": {},
   "outputs": [
    {
     "name": "stdout",
     "output_type": "stream",
     "text": [
      "Fin del programa\n"
     ]
    }
   ],
   "source": [
    "print(\"Fin del programa\")"
   ]
  },
  {
   "cell_type": "code",
   "execution_count": 110,
   "metadata": {},
   "outputs": [
    {
     "name": "stdout",
     "output_type": "stream",
     "text": [
      "Help on built-in function print in module builtins:\n",
      "\n",
      "print(*args, sep=' ', end='\\n', file=None, flush=False)\n",
      "    Prints the values to a stream, or to sys.stdout by default.\n",
      "\n",
      "    sep\n",
      "      string inserted between values, default a space.\n",
      "    end\n",
      "      string appended after the last value, default a newline.\n",
      "    file\n",
      "      a file-like object (stream); defaults to the current sys.stdout.\n",
      "    flush\n",
      "      whether to forcibly flush the stream.\n",
      "\n"
     ]
    }
   ],
   "source": [
    "# Mostrar la documentación de la función print\n",
    "\n",
    "#print.__doc__\n",
    "\n",
    "help(print)"
   ]
  },
  {
   "cell_type": "code",
   "execution_count": 114,
   "metadata": {},
   "outputs": [
    {
     "data": {
      "text/plain": [
       "['__doc__',\n",
       " '__file__',\n",
       " '__loader__',\n",
       " '__name__',\n",
       " '__package__',\n",
       " '__spec__',\n",
       " 'acos',\n",
       " 'acosh',\n",
       " 'asin',\n",
       " 'asinh',\n",
       " 'atan',\n",
       " 'atan2',\n",
       " 'atanh',\n",
       " 'cbrt',\n",
       " 'ceil',\n",
       " 'comb',\n",
       " 'copysign',\n",
       " 'cos',\n",
       " 'cosh',\n",
       " 'degrees',\n",
       " 'dist',\n",
       " 'e',\n",
       " 'erf',\n",
       " 'erfc',\n",
       " 'exp',\n",
       " 'exp2',\n",
       " 'expm1',\n",
       " 'fabs',\n",
       " 'factorial',\n",
       " 'floor',\n",
       " 'fmod',\n",
       " 'frexp',\n",
       " 'fsum',\n",
       " 'gamma',\n",
       " 'gcd',\n",
       " 'hypot',\n",
       " 'inf',\n",
       " 'isclose',\n",
       " 'isfinite',\n",
       " 'isinf',\n",
       " 'isnan',\n",
       " 'isqrt',\n",
       " 'lcm',\n",
       " 'ldexp',\n",
       " 'lgamma',\n",
       " 'log',\n",
       " 'log10',\n",
       " 'log1p',\n",
       " 'log2',\n",
       " 'modf',\n",
       " 'nan',\n",
       " 'nextafter',\n",
       " 'perm',\n",
       " 'pi',\n",
       " 'pow',\n",
       " 'prod',\n",
       " 'radians',\n",
       " 'remainder',\n",
       " 'sin',\n",
       " 'sinh',\n",
       " 'sqrt',\n",
       " 'sumprod',\n",
       " 'tan',\n",
       " 'tanh',\n",
       " 'tau',\n",
       " 'trunc',\n",
       " 'ulp']"
      ]
     },
     "execution_count": 114,
     "metadata": {},
     "output_type": "execute_result"
    }
   ],
   "source": [
    "#  Cargar el módulo math y mostrar la lista de funciones y constantes que contiene\n",
    "import math\n",
    "dir(math)\n"
   ]
  },
  {
   "cell_type": "markdown",
   "metadata": {},
   "source": [
    "## Listas, tuplas y diccionarios\n",
    "\n",
    "**¿Qué son las Listas?**\n",
    "\n",
    "* Son estructuras de datos que permiten almacenar colecciones ordenadas y mutables de elementos. \n",
    "* Pueden contener elementos de diferentes tipos, incluyendo números, cadenas de texto, otros objetos e incluso otras listas.\n",
    "\n",
    "* Características de las Listas\n",
    "\n",
    "1. **Ordenadas**: Los elementos en una lista tienen un orden definido y cada elemento puede ser accedido mediante su índice.\n",
    "2. **Mutables**: Los elementos de una lista pueden ser modificados después de que la lista ha sido creada.\n",
    "3. **Heterogéneas**: Una lista puede contener elementos de diferentes tipos de datos.\n",
    "4. **Dinámicas**: Las listas pueden cambiar de tamaño, es decir, se pueden añadir o eliminar elementos.\n",
    "\n",
    "### Sintaxis para Crear una Lista\n",
    "\n",
    "    mi_lista = [elemento1, elemento2, elemento3, ...]\n"
   ]
  },
  {
   "cell_type": "code",
   "execution_count": 125,
   "metadata": {},
   "outputs": [],
   "source": [
    "# Crear una lista\n",
    "frutas = [\"manzana\", \"banana\", \"cereza\"]"
   ]
  },
  {
   "cell_type": "code",
   "execution_count": 126,
   "metadata": {},
   "outputs": [
    {
     "name": "stdout",
     "output_type": "stream",
     "text": [
      "manzana\n",
      "banana\n",
      "cereza\n"
     ]
    }
   ],
   "source": [
    "# Acceder a elementos\n",
    "\n",
    "print(frutas[0])  # Salida: manzana\n",
    "print(frutas[1])  # Salida: banana\n",
    "print(frutas[2])  # Salida: cereza"
   ]
  },
  {
   "cell_type": "code",
   "execution_count": 127,
   "metadata": {},
   "outputs": [
    {
     "name": "stdout",
     "output_type": "stream",
     "text": [
      "['manzana', 'naranja', 'cereza']\n"
     ]
    }
   ],
   "source": [
    "# Modificar elementos\n",
    "frutas[1] = \"naranja\"\n",
    "print(frutas)  # Salida: ['manzana', 'naranja', 'cereza']\n"
   ]
  },
  {
   "cell_type": "code",
   "execution_count": 128,
   "metadata": {},
   "outputs": [
    {
     "name": "stdout",
     "output_type": "stream",
     "text": [
      "['manzana', 'naranja', 'cereza', 'kiwi']\n"
     ]
    }
   ],
   "source": [
    "# Añadir elementos\n",
    "frutas.append(\"kiwi\")  # El método append añadir el elemento al final de la lista\n",
    "print(frutas)  \n"
   ]
  },
  {
   "cell_type": "code",
   "execution_count": 129,
   "metadata": {},
   "outputs": [
    {
     "name": "stdout",
     "output_type": "stream",
     "text": [
      "['manzana', 'pera', 'naranja', 'cereza', 'kiwi']\n"
     ]
    }
   ],
   "source": [
    "# Insertar elementos\n",
    "frutas.insert(1, \"pera\") # el método insert añade un elemento en una posición específica\n",
    "print(frutas)  "
   ]
  },
  {
   "cell_type": "code",
   "execution_count": 130,
   "metadata": {},
   "outputs": [
    {
     "name": "stdout",
     "output_type": "stream",
     "text": [
      "['manzana', 'pera', 'cereza', 'kiwi']\n"
     ]
    }
   ],
   "source": [
    "# Eliminar elementos\n",
    "frutas.remove(\"naranja\")\n",
    "print(frutas)  # Salida: ['manzana', 'pera', 'cereza', 'kiwi']\n"
   ]
  },
  {
   "cell_type": "code",
   "execution_count": 131,
   "metadata": {},
   "outputs": [
    {
     "name": "stdout",
     "output_type": "stream",
     "text": [
      "['manzana', 'pera', 'kiwi']\n",
      "cereza\n"
     ]
    }
   ],
   "source": [
    "# Eliminar y devolver elementos\n",
    "fruta_eliminada = frutas.pop(2) # el método pop elimina un elemento en una posición específica y \n",
    "                                # devuelve el elemento eliminado\n",
    "print(frutas) \n",
    "print(fruta_eliminada)  "
   ]
  },
  {
   "cell_type": "code",
   "execution_count": null,
   "metadata": {},
   "outputs": [],
   "source": [
    "# Longitud de la lista\n",
    "print(len(frutas)) "
   ]
  },
  {
   "cell_type": "code",
   "execution_count": null,
   "metadata": {},
   "outputs": [],
   "source": [
    "# Concatenación de listas\n",
    "lista1 = [1, 2, 3]\n",
    "lista2 = [4, 5, 6]\n",
    "lista_concatenada = lista1 + lista2\n",
    "print(lista_concatenada) "
   ]
  },
  {
   "cell_type": "code",
   "execution_count": null,
   "metadata": {},
   "outputs": [],
   "source": [
    "# Rebanado (slicing)\n",
    "sublista = frutas[1:3]\n",
    "print(sublista) "
   ]
  },
  {
   "cell_type": "code",
   "execution_count": 9,
   "metadata": {},
   "outputs": [
    {
     "name": "stdout",
     "output_type": "stream",
     "text": [
      "Cuadrados: [1, 4, 9, 16, 25, 36, 49, 64, 81, 100]\n"
     ]
    }
   ],
   "source": [
    "# Crear una lista de los cuadrados de los números del 1 al 10\n",
    "cuadrados = [x**2 for x in range(1, 11)]\n",
    "print(\"Cuadrados:\", cuadrados)\n"
   ]
  },
  {
   "cell_type": "markdown",
   "metadata": {},
   "source": [
    "### Ejercicio Práctico:\n",
    "1. Crea una lista que contenga solo los números pares de una lista dada.\n",
    "2. Genera una lista con las longitudes de palabras en una frase dada.\n"
   ]
  },
  {
   "cell_type": "markdown",
   "metadata": {},
   "source": [
    "¿ ## Introducción a las tuplas\n",
    "- Las tuplas son colecciones ordenadas e inmutables.\n",
    "\n",
    "### Ejemplo básico:\n"
   ]
  },
  {
   "cell_type": "code",
   "execution_count": 10,
   "metadata": {},
   "outputs": [
    {
     "name": "stdout",
     "output_type": "stream",
     "text": [
      "Coordenadas: (3, 5)\n"
     ]
    }
   ],
   "source": [
    "# Trabajando con tuplas\n",
    "coordenadas = (3, 5)\n",
    "print(\"Coordenadas:\", coordenadas)\n"
   ]
  },
  {
   "cell_type": "markdown",
   "metadata": {},
   "source": [
    "## Conjuntos\n",
    "- Colecciones no ordenadas de elementos únicos.\n",
    "\n",
    "### Ejemplo básico:\n"
   ]
  },
  {
   "cell_type": "code",
   "execution_count": 11,
   "metadata": {},
   "outputs": [
    {
     "name": "stdout",
     "output_type": "stream",
     "text": [
      "Unión: {1, 2, 3, 4}\n",
      "Intersección: {2, 3}\n",
      "Diferencia: {1}\n"
     ]
    }
   ],
   "source": [
    "# Operaciones con conjuntos\n",
    "A = {1, 2, 3}\n",
    "B = {2, 3, 4}\n",
    "print(\"Unión:\", A | B)\n",
    "print(\"Intersección:\", A & B)\n",
    "print(\"Diferencia:\", A - B)\n"
   ]
  },
  {
   "cell_type": "markdown",
   "metadata": {},
   "source": [
    "## Diccionarios\n",
    "- Colecciones de pares clave-valor.\n",
    "\n",
    "### Ejemplo básico:\n"
   ]
  },
  {
   "cell_type": "code",
   "execution_count": 12,
   "metadata": {},
   "outputs": [
    {
     "name": "stdout",
     "output_type": "stream",
     "text": [
      "Nombre: Ana\n",
      "Datos actualizados: {'nombre': 'Ana', 'edad': 21, 'curso': 'Física'}\n"
     ]
    }
   ],
   "source": [
    "# Trabajando con diccionarios\n",
    "datos = {\"nombre\": \"Ana\", \"edad\": 20, \"curso\": \"Física\"}\n",
    "print(\"Nombre:\", datos[\"nombre\"])\n",
    "datos[\"edad\"] += 1\n",
    "print(\"Datos actualizados:\", datos)\n"
   ]
  },
  {
   "cell_type": "markdown",
   "metadata": {},
   "source": [
    "### Ejercicio Práctico:\n",
    "1. Escribe un programa que almacene las notas de un estudiante y calcule su promedio.\n",
    "2. Crea un programa que use un diccionario para almacenar las constantes físicas más importantes.\n"
   ]
  },
  {
   "cell_type": "markdown",
   "metadata": {},
   "source": [
    "Resumen del Módulo 2"
   ]
  },
  {
   "cell_type": "markdown",
   "metadata": {},
   "source": [
    "## Resumen del Módulo 2\n",
    "- Las estructuras condicionales y bucles son esenciales para el control de flujo.\n",
    "- Las listas, tuplas, conjuntos y diccionarios son fundamentales para manipular datos.\n",
    "- La práctica con problemas físicos fortalece el aprendizaje.\n",
    "\n",
    "**Próximo módulo:** Manejo de Datos y Visualización.\n"
   ]
  },
  {
   "cell_type": "code",
   "execution_count": null,
   "metadata": {},
   "outputs": [],
   "source": [
    "## Ejercicios básicos de entrada y salida de datos\n",
    "\n",
    "# Ejercicio 1: Escribe un programa que pida al usuario su nombre y lo salude.\n",
    "nombre = input(\"Introduce tu nombre: \")\n",
    "print(f\"Hola, {nombre}!\")\n",
    "\n",
    "# Ejercicio 2: Escribe un programa que pida dos números y calcule su suma.\n",
    "num1 = float(input(\"Introduce el primer número: \"))\n",
    "num2 = float(input(\"Introduce el segundo número: \"))\n",
    "suma = num1 + num2\n",
    "print(f\"La suma de {num1} y {num2} es {suma}\")"
   ]
  }
 ],
 "metadata": {
  "kernelspec": {
   "display_name": "base",
   "language": "python",
   "name": "python3"
  },
  "language_info": {
   "codemirror_mode": {
    "name": "ipython",
    "version": 3
   },
   "file_extension": ".py",
   "mimetype": "text/x-python",
   "name": "python",
   "nbconvert_exporter": "python",
   "pygments_lexer": "ipython3",
   "version": "3.12.8"
  }
 },
 "nbformat": 4,
 "nbformat_minor": 2
}
