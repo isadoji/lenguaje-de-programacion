{
 "cells": [
  {
   "cell_type": "markdown",
   "metadata": {},
   "source": [
    "# Estructuras de Datos Básicas\n",
    "\n",
    "## Variables y Tipos de Datos\n",
    "\n",
    "### Variables: definición y uso\n",
    "# Una variable es un espacio en la memoria que se utiliza para almacenar datos.\n",
    "\n",
    "### Tipos de datos: enteros, flotantes, cadenas, booleanos\n",
    "# Python soporta varios tipos de datos básicos como enteros (int), flotantes (float), cadenas (str) y booleanos (bool).\n",
    "\n",
    "### Conversión de tipos de datos\n",
    "# Es posible convertir entre diferentes tipos de datos utilizando funciones como int(), float(), str(), etc.\n",
    "\n",
    "## Declaración y uso de variables\n"
   ]
  },
  {
   "cell_type": "code",
   "execution_count": 13,
   "metadata": {},
   "outputs": [
    {
     "name": "stdout",
     "output_type": "stream",
     "text": [
      "Suma: 8.14\n",
      "Mensaje: Hola, Ana\n",
      "Resultado de la conversión y suma: 133\n",
      "El valor de pi es 3.14\n",
      "Lista: [1, 2, 3, 4, 5]\n",
      "Lista después de append: [1, 2, 3, 4, 5, 6]\n",
      "Tupla: (1, 2, 3, 4, 5)\n",
      "Diccionario: {'nombre': 'Ana', 'edad': 23, 'ciudad': 'Madrid'}\n",
      "Diccionario después de modificar la edad: {'nombre': 'Ana', 'edad': 24, 'ciudad': 'Madrid'}\n",
      "Suma de los números en la lista: 15\n",
      "Nombre del estudiante: Luis\n",
      "Edad del estudiante: 21\n",
      "Nota del estudiante: 90\n"
     ]
    }
   ],
   "source": [
    "\n",
    "# Declaración de variables\n",
    "x = 5\n",
    "y = 3.14\n",
    "nombre = \"Ana\"\n",
    "es_estudiante = True\n",
    "\n",
    "# Operaciones básicas con diferentes tipos de datos\n",
    "suma = x + y\n",
    "mensaje = \"Hola, \" + nombre\n",
    "\n",
    "print(\"Suma:\", suma)\n",
    "print(\"Mensaje:\", mensaje)\n",
    "\n",
    "## Ejercicios prácticos de conversión de tipos\n",
    "\n",
    "# Ejercicio 1: Convierte una cadena a un número entero y realiza una operación aritmética.\n",
    "cadena = \"123\"\n",
    "numero = int(cadena)\n",
    "resultado = numero + 10\n",
    "print(\"Resultado de la conversión y suma:\", resultado)\n",
    "\n",
    "# Ejercicio 2: Convierte un número flotante a una cadena y concaténalo con otra cadena.\n",
    "flotante = 3.14\n",
    "cadena_flotante = str(flotante)\n",
    "mensaje = \"El valor de pi es \" + cadena_flotante\n",
    "print(mensaje)\n",
    "\n",
    "## Listas, Tuplas y Diccionarios\n",
    "\n",
    "### Listas: definición, creación y operaciones básicas\n",
    "# Una lista es una colección ordenada y mutable de elementos.\n",
    "\n",
    "lista = [1, 2, 3, 4, 5]\n",
    "print(\"Lista:\", lista)\n",
    "\n",
    "# Operaciones con listas\n",
    "lista.append(6)\n",
    "print(\"Lista después de append:\", lista)\n",
    "\n",
    "### Tuplas: definición, creación y operaciones básicas\n",
    "# Una tupla es una colección ordenada e inmutable de elementos.\n",
    "\n",
    "tupla = (1, 2, 3, 4, 5)\n",
    "print(\"Tupla:\", tupla)\n",
    "\n",
    "# Operaciones con tuplas (las tuplas son inmutables, no se pueden modificar)\n",
    "\n",
    "### Diccionarios: definición, creación y operaciones básicas\n",
    "# Un diccionario es una colección desordenada de pares clave-valor.\n",
    "\n",
    "diccionario = {\"nombre\": \"Ana\", \"edad\": 23, \"ciudad\": \"Madrid\"}\n",
    "print(\"Diccionario:\", diccionario)\n",
    "\n",
    "# Operaciones con diccionarios\n",
    "diccionario[\"edad\"] = 24\n",
    "print(\"Diccionario después de modificar la edad:\", diccionario)\n",
    "\n",
    "## Ejercicios prácticos con estructuras de datos\n",
    "\n",
    "# Ejercicio 1: Crea una lista de números y calcula su suma.\n",
    "numeros = [1, 2, 3, 4, 5]\n",
    "suma_numeros = sum(numeros)\n",
    "print(\"Suma de los números en la lista:\", suma_numeros)\n",
    "\n",
    "# Ejercicio 2: Crea un diccionario con información de un estudiante y accede a sus valores.\n",
    "estudiante = {\"nombre\": \"Luis\", \"edad\": 21, \"nota\": 90}\n",
    "print(\"Nombre del estudiante:\", estudiante[\"nombre\"])\n",
    "print(\"Edad del estudiante:\", estudiante[\"edad\"])\n",
    "print(\"Nota del estudiante:\", estudiante[\"nota\"])"
   ]
  },
  {
   "cell_type": "markdown",
   "metadata": {},
   "source": [
    "Módulo 2: Control de Flujo y Estructuras de Datos"
   ]
  },
  {
   "cell_type": "markdown",
   "metadata": {},
   "source": [
    "1. Introducción al Módulo 2"
   ]
  },
  {
   "cell_type": "markdown",
   "metadata": {},
   "source": [
    "## Objetivos del Módulo 2\n",
    "- Implementar estructuras condicionales y bucles para controlar el flujo de un programa.\n",
    "- Manipular estructuras de datos como listas, tuplas, conjuntos y diccionarios.\n",
    "- Resolver problemas prácticos relacionados con la física mediante estas herramientas.\n",
    "\n",
    "## Estructura del Módulo 2\n",
    "1. Estructuras condicionales.\n",
    "2. Bucles.\n",
    "3. Listas y comprensión de listas.\n",
    "4. Tuplas, conjuntos y diccionarios.\n",
    "5. Prácticas aplicadas a problemas físicos.\n"
   ]
  },
  {
   "cell_type": "markdown",
   "metadata": {
    "vscode": {
     "languageId": "plaintext"
    }
   },
   "source": [
    "2. Estructuras Condicionales"
   ]
  },
  {
   "cell_type": "markdown",
   "metadata": {},
   "source": [
    "## Introducción a las estructuras condicionales\n",
    "- Las estructuras condicionales permiten ejecutar un bloque de código basado en una condición lógica.\n",
    "\n",
    "### Sintaxis básica:\n"
   ]
  },
  {
   "cell_type": "code",
   "execution_count": 5,
   "metadata": {},
   "outputs": [
    {
     "name": "stdout",
     "output_type": "stream",
     "text": [
      "x es positivo\n"
     ]
    }
   ],
   "source": [
    "# Ejemplo básico de estructura condicional\n",
    "x = 5\n",
    "if x > 0:\n",
    "    print(\"x es positivo\")\n",
    "elif x == 0:\n",
    "    print(\"x es cero\")\n",
    "else:\n",
    "    print(\"x es negativo\")\n"
   ]
  },
  {
   "cell_type": "markdown",
   "metadata": {},
   "source": [
    "### Ejercicio Práctico:\n",
    "1. Escribe un programa que clasifique un número como positivo, negativo o cero.\n",
    "2. Modifica el programa para clasificar un número como par o impar.\n"
   ]
  },
  {
   "cell_type": "markdown",
   "metadata": {},
   "source": [
    "3. Bucles"
   ]
  },
  {
   "cell_type": "markdown",
   "metadata": {},
   "source": [
    "## Introducción a los bucles\n",
    "- Los bucles permiten ejecutar un bloque de código múltiples veces.\n",
    "\n",
    "### Tipos de bucles:\n",
    "1. `for`: Repite un bloque de código para cada elemento de una secuencia.\n",
    "2. `while`: Repite un bloque de código mientras una condición sea verdadera.\n",
    "\n",
    "### Ejemplo con `for`:\n"
   ]
  },
  {
   "cell_type": "code",
   "execution_count": 6,
   "metadata": {},
   "outputs": [
    {
     "name": "stdout",
     "output_type": "stream",
     "text": [
      "Suma: 55\n"
     ]
    }
   ],
   "source": [
    "# Sumar los primeros 10 números naturales\n",
    "suma = 0\n",
    "for i in range(1, 11):\n",
    "    suma += i\n",
    "print(\"Suma:\", suma)\n"
   ]
  },
  {
   "cell_type": "markdown",
   "metadata": {},
   "source": [
    "### Ejemplo con `while`:\n"
   ]
  },
  {
   "cell_type": "code",
   "execution_count": 7,
   "metadata": {},
   "outputs": [
    {
     "name": "stdout",
     "output_type": "stream",
     "text": [
      "1\n",
      "2\n",
      "3\n",
      "4\n",
      "5\n",
      "6\n",
      "7\n",
      "8\n",
      "9\n",
      "10\n"
     ]
    }
   ],
   "source": [
    "# Contar hasta 10 usando un bucle while\n",
    "contador = 1\n",
    "while contador <= 10:\n",
    "    print(contador)\n",
    "    contador += 1\n"
   ]
  },
  {
   "cell_type": "markdown",
   "metadata": {},
   "source": [
    "### Ejercicio Práctico:\n",
    "1. Escribe un programa que calcule la suma de los cuadrados de los primeros N números.\n",
    "2. Implementa un programa que calcule la serie de Fibonacci hasta un número dado.\n"
   ]
  },
  {
   "cell_type": "markdown",
   "metadata": {},
   "source": [
    "4. Listas y Comprensión de Listas"
   ]
  },
  {
   "cell_type": "markdown",
   "metadata": {},
   "source": [
    "## Introducción a las listas\n",
    "- Las listas son colecciones ordenadas y mutables.\n",
    "- Métodos comunes: `append()`, `remove()`, `sort()`, `len()`.\n",
    "\n",
    "### Ejemplo básico:\n"
   ]
  },
  {
   "cell_type": "code",
   "execution_count": 8,
   "metadata": {},
   "outputs": [
    {
     "name": "stdout",
     "output_type": "stream",
     "text": [
      "Lista modificada: [6, 5, 4, 2, 1]\n"
     ]
    }
   ],
   "source": [
    "# Trabajando con listas\n",
    "numeros = [1, 2, 3, 4, 5]\n",
    "numeros.append(6)\n",
    "numeros.remove(3)\n",
    "numeros.sort(reverse=True)\n",
    "print(\"Lista modificada:\", numeros)\n"
   ]
  },
  {
   "cell_type": "markdown",
   "metadata": {},
   "source": [
    "## Comprensión de listas\n",
    "- Una forma concisa de crear listas basadas en iteraciones o condiciones.\n",
    "\n",
    "### Ejemplo:\n"
   ]
  },
  {
   "cell_type": "code",
   "execution_count": 9,
   "metadata": {},
   "outputs": [
    {
     "name": "stdout",
     "output_type": "stream",
     "text": [
      "Cuadrados: [1, 4, 9, 16, 25, 36, 49, 64, 81, 100]\n"
     ]
    }
   ],
   "source": [
    "# Crear una lista de los cuadrados de los números del 1 al 10\n",
    "cuadrados = [x**2 for x in range(1, 11)]\n",
    "print(\"Cuadrados:\", cuadrados)\n"
   ]
  },
  {
   "cell_type": "markdown",
   "metadata": {},
   "source": [
    "### Ejercicio Práctico:\n",
    "1. Crea una lista que contenga solo los números pares de una lista dada.\n",
    "2. Genera una lista con las longitudes de palabras en una frase dada.\n"
   ]
  },
  {
   "cell_type": "markdown",
   "metadata": {},
   "source": [
    "5. Tuplas, Conjuntos y Diccionarios"
   ]
  },
  {
   "cell_type": "markdown",
   "metadata": {},
   "source": [
    "## Introducción a las tuplas\n",
    "- Las tuplas son colecciones ordenadas e inmutables.\n",
    "\n",
    "### Ejemplo básico:\n"
   ]
  },
  {
   "cell_type": "code",
   "execution_count": 10,
   "metadata": {},
   "outputs": [
    {
     "name": "stdout",
     "output_type": "stream",
     "text": [
      "Coordenadas: (3, 5)\n"
     ]
    }
   ],
   "source": [
    "# Trabajando con tuplas\n",
    "coordenadas = (3, 5)\n",
    "print(\"Coordenadas:\", coordenadas)\n"
   ]
  },
  {
   "cell_type": "markdown",
   "metadata": {},
   "source": [
    "## Conjuntos\n",
    "- Colecciones no ordenadas de elementos únicos.\n",
    "\n",
    "### Ejemplo básico:\n"
   ]
  },
  {
   "cell_type": "code",
   "execution_count": 11,
   "metadata": {},
   "outputs": [
    {
     "name": "stdout",
     "output_type": "stream",
     "text": [
      "Unión: {1, 2, 3, 4}\n",
      "Intersección: {2, 3}\n",
      "Diferencia: {1}\n"
     ]
    }
   ],
   "source": [
    "# Operaciones con conjuntos\n",
    "A = {1, 2, 3}\n",
    "B = {2, 3, 4}\n",
    "print(\"Unión:\", A | B)\n",
    "print(\"Intersección:\", A & B)\n",
    "print(\"Diferencia:\", A - B)\n"
   ]
  },
  {
   "cell_type": "markdown",
   "metadata": {},
   "source": [
    "## Diccionarios\n",
    "- Colecciones de pares clave-valor.\n",
    "\n",
    "### Ejemplo básico:\n"
   ]
  },
  {
   "cell_type": "code",
   "execution_count": 12,
   "metadata": {},
   "outputs": [
    {
     "name": "stdout",
     "output_type": "stream",
     "text": [
      "Nombre: Ana\n",
      "Datos actualizados: {'nombre': 'Ana', 'edad': 21, 'curso': 'Física'}\n"
     ]
    }
   ],
   "source": [
    "# Trabajando con diccionarios\n",
    "datos = {\"nombre\": \"Ana\", \"edad\": 20, \"curso\": \"Física\"}\n",
    "print(\"Nombre:\", datos[\"nombre\"])\n",
    "datos[\"edad\"] += 1\n",
    "print(\"Datos actualizados:\", datos)\n"
   ]
  },
  {
   "cell_type": "markdown",
   "metadata": {},
   "source": [
    "### Ejercicio Práctico:\n",
    "1. Escribe un programa que almacene las notas de un estudiante y calcule su promedio.\n",
    "2. Crea un programa que use un diccionario para almacenar las constantes físicas más importantes.\n"
   ]
  },
  {
   "cell_type": "markdown",
   "metadata": {},
   "source": [
    "Resumen del Módulo 2"
   ]
  },
  {
   "cell_type": "markdown",
   "metadata": {},
   "source": [
    "## Resumen del Módulo 2\n",
    "- Las estructuras condicionales y bucles son esenciales para el control de flujo.\n",
    "- Las listas, tuplas, conjuntos y diccionarios son fundamentales para manipular datos.\n",
    "- La práctica con problemas físicos fortalece el aprendizaje.\n",
    "\n",
    "**Próximo módulo:** Manejo de Datos y Visualización.\n"
   ]
  }
 ],
 "metadata": {
  "kernelspec": {
   "display_name": "base",
   "language": "python",
   "name": "python3"
  },
  "language_info": {
   "codemirror_mode": {
    "name": "ipython",
    "version": 3
   },
   "file_extension": ".py",
   "mimetype": "text/x-python",
   "name": "python",
   "nbconvert_exporter": "python",
   "pygments_lexer": "ipython3",
   "version": "3.12.8"
  }
 },
 "nbformat": 4,
 "nbformat_minor": 2
}
