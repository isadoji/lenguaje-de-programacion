{
 "cells": [
  {
   "cell_type": "code",
   "execution_count": 2,
   "metadata": {},
   "outputs": [],
   "source": [
    "%load_ext jupyter_black"
   ]
  },
  {
   "cell_type": "markdown",
   "metadata": {},
   "source": [
    "# 2. Estructuras de Datos Básicas\n"
   ]
  },
  {
   "cell_type": "markdown",
   "metadata": {},
   "source": [
    "\n",
    "## 2.1. Variables y Tipos de Datos\n",
    "\n",
    "**¿Qué es una Variable?**\n",
    "\n",
    "* Es un \"contenedor\" que permite almacenar, manipular y acceder a valores de manera eficiente. * Cada variable tiene un nombre único que se \n",
    "utiliza para referirse a los datos almacenados en ella.\n",
    "\n",
    "Características de una variable:\n",
    "\n",
    "1. **Nombre**: Un identificador único que se utiliza para referirse a la variable.\n",
    "2. **Valor**: El dato almacenado en la variable.\n",
    "3. **Tipo de Dato**: El tipo de dato que la variable almacena, pueden ser: \n",
    "    1. **Enteros (int)**: En Python, los enteros pueden tener un tamaño variable, ya que Python maneja automáticamente el tamaño de los \n",
    "    enteros según el valor almacenado. Sin embargo, en otros lenguajes de programación, los enteros suelen tener un tamaño fijo, como 4 \n",
    "    bytes (32 bits) o 8 bytes (64 bits).\n",
    "\n",
    "    2. **Flotantes (float)**: Los números flotantes en Python generalmente ocupan 8 bytes (64 bits), lo que permite una gran precisión \n",
    "    para los números decimales.\n",
    "\n",
    "    3. **Cadenas de Texto (str)**: El tamaño de una cadena de texto depende del número de caracteres que contiene. Cada carácter en una \n",
    "    cadena de texto en Python ocupa 1 byte (8 bits) en ASCII o más en Unicode.\n",
    "\n",
    "    4. **Booleanos (bool)**: Los valores booleanos (`True` o `False`) en Python ocupan 1 byte.\n",
    "\n",
    "    5. **Listas (list)**: El tamaño de una lista depende del número de elementos que contiene y del tamaño de cada elemento. Las listas\n",
    "     en Python son estructuras dinámicas, por lo que su tamaño puede cambiar durante la ejecución del programa.\n",
    "\n",
    "    6. **Tuplas (tuple)**: Similar a las listas, el tamaño de una tupla depende del número de elementos y del tamaño de cada elemento. \n",
    "    Sin embargo, las tuplas son inmutables, lo que significa que su tamaño no cambia una vez creadas.\n",
    "\n",
    "    7. **Diccionarios (dict)**: El tamaño de un diccionario depende del número de pares clave-valor que contiene y del tamaño de cada \n",
    "    clave y valor. Los diccionarios en Python son estructuras de datos dinámicas.\n",
    "\n",
    "    8. **Conjuntos (set)**: El tamaño de un conjunto depende del número de elementos únicos que contiene. Los conjuntos en Python son \n",
    "    estructuras de datos dinámicas.\n",
    "\n",
    "\n",
    "* Declaración y Asignación de Variables en Python\n",
    "En Python, no es necesario declarar explícitamente el tipo de una variable. Simplemente se asigna un valor a un nombre de variable \n",
    "utilizando el operador de asignación (=)."
   ]
  },
  {
   "cell_type": "markdown",
   "metadata": {},
   "source": [
    "**¿Qué es el Sistema Binario?**\n",
    "\n",
    "El sistema binario es un sistema de numeración en el que los números se representan utilizando solo dos dígitos: 0 y 1. \n",
    "\n",
    "* Características del Sistema Binario\n",
    "\n",
    "* Base 2: El sistema binario es un sistema de base 2, lo que significa que solo utiliza dos símbolos (0 y 1) para representar todos los números.\n",
    "* Dígitos Binarios (Bits): Cada dígito en un número binario se llama bit (abreviatura de \"binary digit\").\n",
    "* Posiciones de Potencia de 2: Cada posición en un número binario representa una potencia de 2, comenzando desde 2^0 en la posición más a la derecha.\n",
    "\n",
    "$$\n",
    "1101_2 = 1 \\times 2^3 + 1 \\times 2^2 + 0 \\times 2^1 + 1 \\times 2^0 = 8 + 4 + 0 + 1 = 13\n",
    "$$\n",
    "\n",
    "Ejemplo de sistema decimal:\n",
    "\n",
    "$$\n",
    "13_{10} = 1 \\times 10^1 + 3 \\times 10^0 = 10 + 3 = 13\n",
    "$$\n",
    "\n",
    "### Convertir de Decimal a Binario\n",
    "\n",
    "1. Dividir el número decimal por 2 y anotar el residuo.\n",
    "2. Dividir el cociente resultante por 2 y anotar el residuo.\n",
    "3. Repetir el proceso hasta que el cociente sea 0.\n",
    "4. Leer los residuos en orden inverso para obtener el número binario.\n",
    "\n",
    "Ejemplo de Conversión\n",
    "\n",
    "Convertir el número decimal 13 a binario:\n",
    "\n",
    "$$\n",
    "13 ÷ 2 = 6, residuo = 1\\\\\n",
    "6 ÷ 2 = 3, residuo = 0\\\\\n",
    "3 ÷ 2 = 1, residuo = 1\\\\\n",
    "1 ÷ 2 = 0, residuo = 1\\\\\n",
    "$$\n",
    "\n",
    "Leyendo los residuos en orden inverso: 1101"
   ]
  },
  {
   "cell_type": "code",
   "execution_count": 3,
   "metadata": {},
   "outputs": [],
   "source": [
    "def decimal_a_binario(decimal):\n",
    "    \"\"\"\n",
    "    decimal a binario\n",
    "    1. Dividir el número decimal entre 2.\n",
    "    2. Guardar el residuo.\n",
    "    3. Dividir el cociente entre 2.\n",
    "    4. Repetir el proceso hasta que el cociente sea 0.\n",
    "    5. El número binario se obtiene leyendo los residuos de abajo hacia arriba\n",
    "    \"\"\"\n",
    "    binario = \"\"\n",
    "    while decimal // 2 != 0:\n",
    "        binario = str(decimal % 2) + binario\n",
    "        decimal = decimal // 2\n",
    "    return str(decimal) + binario"
   ]
  },
  {
   "cell_type": "code",
   "execution_count": 4,
   "metadata": {},
   "outputs": [
    {
     "data": {
      "text/plain": [
       "'100001100100011100000'"
      ]
     },
     "execution_count": 4,
     "metadata": {},
     "output_type": "execute_result"
    }
   ],
   "source": [
    "decimal_a_binario(1100000)"
   ]
  },
  {
   "cell_type": "code",
   "execution_count": 5,
   "metadata": {},
   "outputs": [
    {
     "data": {
      "text/plain": [
       "64"
      ]
     },
     "execution_count": 5,
     "metadata": {},
     "output_type": "execute_result"
    }
   ],
   "source": [
    "def binario_a_decimal(binario):\n",
    "    \"\"\"\n",
    "    binario a decimal:\n",
    "    1. Inicializar la variable decimal en 0\n",
    "    2. Recorrer el número binario de izquierda a derecha\n",
    "    3. Por cada dígito en el número binario, multiplicar el dígito por 2 elevado\n",
    "    a la potencia de la posición del dígito en el número binario\n",
    "    4. Sumar el resultado al valor de la variable decimal\n",
    "    5. Retornar el valor de la variable decimal\n",
    "    \"\"\"\n",
    "    decimal = 0\n",
    "    for i in range(len(binario)):\n",
    "        decimal += int(binario[i]) * 2 ** (len(binario) - i - 1)\n",
    "        return decimal\n",
    "\n",
    "\n",
    "binario_a_decimal(\"1100000\")"
   ]
  },
  {
   "cell_type": "code",
   "execution_count": 6,
   "metadata": {},
   "outputs": [
    {
     "name": "stdout",
     "output_type": "stream",
     "text": [
      "0b1101\n",
      "13\n"
     ]
    }
   ],
   "source": [
    "## funciones de python\n",
    "\n",
    "numero_decimal = 13\n",
    "numero_binario = bin(numero_decimal)\n",
    "print(numero_binario)\n",
    "\n",
    "numero_binario = 1101\n",
    "numero_decimal = int(str(numero_binario), 2)\n",
    "print(numero_decimal)"
   ]
  },
  {
   "cell_type": "markdown",
   "metadata": {},
   "source": [
    "\n",
    "### Unidades de Medida en Computación\n",
    "\n",
    "A partir del bit, se construyen unidades más grandes para medir la cantidad de datos:\n",
    "\n",
    "\n",
    "* Byte (B): 1 byte = 8 bits.\n",
    "    - Un byte puede representar 256 valores diferentes (2^8), lo que es suficiente para almacenar un solo carácter en \n",
    "    muchos sistemas de codificación de caracteres, como ASCII.\n",
    "*   Kilobyte (KB):  1 kilobyte = 1024 bytes (2^10 bytes).\n",
    "    - A menudo se redondea a 1000 bytes en contextos no técnicos.\n",
    "* Megabyte (MB): 1 megabyte = 1024 kilobytes (2^20 bytes).\n",
    "    - A menudo se redondea a 1,000,000 bytes en contextos no técnicos.\n",
    "* Gigabyte (GB):  1 gigabyte = 1024 megabytes (2^30 bytes).\n",
    "    - A menudo se redondea a 1,000,000,000 bytes en contextos no técnicos.\n",
    "* Terabyte (TB):1 terabyte = 1024 gigabytes (2^40 bytes).\n",
    "    - A menudo se redondea a 1,000,000,000,000 bytes en contextos no técnicos.\n",
    "* Petabyte (PB): 1 petabyte = 1024 terabytes (2^50 bytes).\n",
    "* Exabyte (EB): 1 exabyte = 1024 petabytes (2^60 bytes).\n",
    "* Zettabyte (ZB): 1 zettabyte = 1024 exabytes (2^70 bytes).\n",
    "* Yottabyte (YB): 1 yottabyte = 1024 zettabytes (2^80 bytes)."
   ]
  },
  {
   "cell_type": "code",
   "execution_count": 7,
   "metadata": {},
   "outputs": [
    {
     "name": "stdout",
     "output_type": "stream",
     "text": [
      "Tamaño de entero: 28 bytes\n",
      "Tamaño de flotante: 24 bytes\n",
      "Tamaño de cadena: 45 bytes\n",
      "Tamaño de booleano: 28 bytes\n",
      "Tamaño de lista: 88 bytes\n",
      "Tamaño de tupla: 64 bytes\n",
      "Tamaño de diccionario: 184 bytes\n",
      "Tamaño de conjunto: 216 bytes\n"
     ]
    }
   ],
   "source": [
    "import sys\n",
    "\n",
    "# Tamaño de diferentes tipos de datos\n",
    "entero = 101  # 28 bytes en Python 3.6 y 24 bytes en Python 2.7\n",
    "flotante = 10.5  # 24 bytes en Python 3.6 y 16 bytes en Python 2.7\n",
    "cadena = \"Hola\"  # 52 bytes en Python 3.6 y 38 bytes en Python 2.7\n",
    "booleano = True  # 28 bytes en Python 3.6 y 24 bytes en Python 2.7\n",
    "lista = [1, 2, 3]  # 72 bytes en Python 3.6 y 64 bytes en Python 2.7\n",
    "tupla = (1, 2, 3)  # 56 bytes en Python 3.6 y 48 bytes en Python 2.7\n",
    "diccionario = {\"clave\": \"valor\"}  # 240 bytes en Python 3.6 y 216 bytes en Python 2.7\n",
    "conjunto = {1, 2, 3, 4}  # 216 bytes en Python 3.6 y 712 bytes en Python 2.7\n",
    "\n",
    "print(\"Tamaño de entero:\", sys.getsizeof(entero), \"bytes\")\n",
    "print(\"Tamaño de flotante:\", sys.getsizeof(flotante), \"bytes\")\n",
    "print(\"Tamaño de cadena:\", sys.getsizeof(cadena), \"bytes\")\n",
    "print(\"Tamaño de booleano:\", sys.getsizeof(booleano), \"bytes\")\n",
    "print(\"Tamaño de lista:\", sys.getsizeof(lista), \"bytes\")\n",
    "print(\"Tamaño de tupla:\", sys.getsizeof(tupla), \"bytes\")\n",
    "print(\"Tamaño de diccionario:\", sys.getsizeof(diccionario), \"bytes\")\n",
    "print(\"Tamaño de conjunto:\", sys.getsizeof(conjunto), \"bytes\")"
   ]
  },
  {
   "cell_type": "markdown",
   "metadata": {},
   "source": [
    "### Declaración y Asignación de Variables en Python\n",
    "\n",
    "En Python, no es necesario declarar explícitamente el tipo de una variable; simplemente se asigna \n",
    "un valor a un nombre de variable utilizando el operador de asignación (=).\n",
    "\n",
    "### Sintaxis Básica\n",
    "\n",
    "    nombre_variable = valor"
   ]
  },
  {
   "cell_type": "code",
   "execution_count": 8,
   "metadata": {},
   "outputs": [
    {
     "name": "stdout",
     "output_type": "stream",
     "text": [
      "Edad: 25\n",
      "Altura: 1.75 metros\n",
      "Nombre: Ana\n",
      "Es estudiante: True\n",
      "Números: [1, 2, 3, 4, 5]\n",
      "Coordenadas: (10.0, 20.0)\n",
      "Persona: {'nombre': 'Ana', 'edad': 25, 'ciudad': 'Madrid'}\n",
      "Frutas: {'banana', 'manzana', 'cereza'}\n"
     ]
    }
   ],
   "source": [
    "# Declaración y asignación de variables\n",
    "\n",
    "# Entero\n",
    "edad = 25\n",
    "print(f\"Edad: {edad}\")\n",
    "\n",
    "# Flotante\n",
    "altura = 1.75\n",
    "print(f\"Altura: {altura} metros\")\n",
    "\n",
    "# Cadena de texto\n",
    "nombre = \"Ana\"\n",
    "print(f\"Nombre: {nombre}\")\n",
    "\n",
    "# Booleano\n",
    "es_estudiante = True\n",
    "print(f\"Es estudiante: {es_estudiante}\")\n",
    "\n",
    "# Lista\n",
    "numeros = [1, 2, 3, 4, 5]\n",
    "print(f\"Números: {numeros}\")\n",
    "\n",
    "# Tupla\n",
    "coordenadas = (10.0, 20.0)\n",
    "print(f\"Coordenadas: {coordenadas}\")\n",
    "\n",
    "# Diccionario\n",
    "persona = {\"nombre\": \"Ana\", \"edad\": 25, \"ciudad\": \"Madrid\"}\n",
    "print(f\"Persona: {persona}\")\n",
    "\n",
    "# Conjunto\n",
    "frutas = {\"manzana\", \"banana\", \"cereza\"}\n",
    "print(f\"Frutas: {frutas}\")"
   ]
  },
  {
   "cell_type": "markdown",
   "metadata": {},
   "source": [
    "### Palabras reservadas\n",
    "\n",
    "Palabras clave (keywords) que están reservadas y no pueden ser utilizadas como nombres de variables, funciones, clases, \n",
    "o cualquier otro identificador. Estas palabras clave tienen un significado especial en el lenguaje y son utilizadas para \n",
    "definir la estructura y el flujo del programa.\n",
    "\n",
    "Lista de Palabras Clave Reservadas en Python\n",
    "Puedes obtener una lista de todas las palabras clave reservadas en Python utilizando el módulo keyword:"
   ]
  },
  {
   "cell_type": "code",
   "execution_count": 9,
   "metadata": {},
   "outputs": [
    {
     "name": "stdout",
     "output_type": "stream",
     "text": [
      "Palabras clave reservadas en Python:\n",
      "False\n",
      "None\n",
      "True\n",
      "and\n",
      "as\n",
      "assert\n",
      "async\n",
      "await\n",
      "break\n",
      "class\n",
      "continue\n",
      "def\n",
      "del\n",
      "elif\n",
      "else\n",
      "except\n",
      "finally\n",
      "for\n",
      "from\n",
      "global\n",
      "if\n",
      "import\n",
      "in\n",
      "is\n",
      "lambda\n",
      "nonlocal\n",
      "not\n",
      "or\n",
      "pass\n",
      "raise\n",
      "return\n",
      "try\n",
      "while\n",
      "with\n",
      "yield\n"
     ]
    }
   ],
   "source": [
    "import keyword\n",
    "\n",
    "# Obtener la lista de palabras clave reservadas\n",
    "palabras_clave = keyword.kwlist\n",
    "\n",
    "# Mostrar la lista de palabras clave reservadas\n",
    "print(\"Palabras clave reservadas en Python:\")\n",
    "for palabra in palabras_clave:\n",
    "    print(palabra)"
   ]
  },
  {
   "cell_type": "markdown",
   "metadata": {},
   "source": [
    "### Operaciones entre variables\n",
    "\n",
    "Las variables pueden almacenar diferentes tipos de datos, como números, cadenas de texto, listas, tuplas, diccionarios, y más. Las operaciones entre variables permiten manipular y combinar estos datos de diversas maneras.\n",
    "\n",
    "**Operaciones aritméticas**\n",
    "\n",
    "| Operación            | Símbolo Matemático | Símbolo en Python |\n",
    "|----------------------|--------------------|-------------------|\n",
    "| Suma                 | +                  | +                 |\n",
    "| Resta                | -                  | -                 |\n",
    "| Multiplicación       | ×                  | *                 |\n",
    "| División             | ÷                  | /                 |\n",
    "| División Entera      | //                 | //                |\n",
    "| Módulo               | %                  | %                 |\n",
    "| Exponenciación       | ^                  | **                |"
   ]
  },
  {
   "cell_type": "code",
   "execution_count": 10,
   "metadata": {},
   "outputs": [
    {
     "name": "stdout",
     "output_type": "stream",
     "text": [
      "Suma: 14\n",
      "Resta: 6\n",
      "Multiplicación: 40\n",
      "División: 2.5\n",
      "División entera: 2\n",
      "Módulo: 2\n",
      "Potencia: 10000\n"
     ]
    }
   ],
   "source": [
    "# Operadores aritméticos\n",
    "a = 10\n",
    "b = 4\n",
    "suma = a + b\n",
    "resta = a - b\n",
    "multiplicacion = a * b\n",
    "division = a / b\n",
    "division_entera = a // b  # División entera\n",
    "modulo = a % b  # Módulo: residuo de la división\n",
    "potencia = a**b  # Potencia\n",
    "\n",
    "print(f\"Suma: {suma}\")\n",
    "print(f\"Resta: {resta}\")\n",
    "print(f\"Multiplicación: {multiplicacion}\")\n",
    "print(f\"División: {division}\")\n",
    "print(f\"División entera: {division_entera}\")\n",
    "print(f\"Módulo: {modulo}\")\n",
    "print(f\"Potencia: {potencia}\")"
   ]
  },
  {
   "cell_type": "markdown",
   "metadata": {},
   "source": [
    "**Operaciones de Asignación**\n",
    "\n",
    "Las operaciones de asignación se utilizan para asignar valores a las variables.\n",
    "\n",
    "| Operación              | Símbolo  | \n",
    "|------------------------|--------------------|\n",
    "| Asignación             | =                  |\n",
    "| Suma y asignación      | +=                 |\n",
    "| Resta y asignación     | -=                 |\n",
    "| Multiplicación y asignación | *=            |\n",
    "| División y asignación  | /=                 |\n",
    "| División entera y asignación | //=          |\n",
    "| Módulo y asignación    | %=                 |\n",
    "| Exponenciación y asignación | **=           |"
   ]
  },
  {
   "cell_type": "code",
   "execution_count": 11,
   "metadata": {},
   "outputs": [
    {
     "name": "stdout",
     "output_type": "stream",
     "text": [
      "x: 10\n",
      "x: 15\n",
      "x: 12\n",
      "x: 24\n",
      "x: 6.0\n",
      "x: 2.0\n",
      "x: 0.0\n",
      "x: 0.0\n"
     ]
    }
   ],
   "source": [
    "# Operaciones de asignación\n",
    "\n",
    "# Asignación simple\n",
    "x = 10\n",
    "print(f\"x: {x}\")\n",
    "\n",
    "# Asignación con suma\n",
    "x += 5\n",
    "print(f\"x: {x}\")\n",
    "\n",
    "# Asignación con resta\n",
    "x -= 3\n",
    "print(f\"x: {x}\")\n",
    "\n",
    "# Asignación con multiplicación\n",
    "x *= 2\n",
    "print(f\"x: {x}\")\n",
    "\n",
    "# Asignación con división\n",
    "x /= 4\n",
    "print(f\"x: {x}\")\n",
    "\n",
    "# Asignación con división entera\n",
    "x //= 3\n",
    "print(f\"x: {x}\")\n",
    "\n",
    "# Asignación con módulo\n",
    "x %= 2\n",
    "print(f\"x: {x}\")\n",
    "\n",
    "# Asignación con potencia\n",
    "x **= 3\n",
    "print(f\"x: {x}\")"
   ]
  },
  {
   "cell_type": "markdown",
   "metadata": {},
   "source": [
    "\n",
    "**Operaciones de Comparación**\n",
    "\n",
    "Las operaciones de comparación se utilizan para comparar valores y devuelven un valor booleano (True o False).\n",
    "\n",
    "\n",
    "\n",
    "| Operación            | Símbolo Matemático | Símbolo en Python |\n",
    "|----------------------|--------------------|-------------------|\n",
    "| Igual a              | =                  | ==                |\n",
    "| No igual a           | ≠                  | !=                |\n",
    "| Mayor que            | >                  | >                 |\n",
    "| Menor que            | <                  | <                 |\n",
    "| Mayor o igual que    | ≥                  | >=                |\n",
    "| Menor o igual que    | ≤                  | <=                |\n"
   ]
  },
  {
   "cell_type": "code",
   "execution_count": 12,
   "metadata": {},
   "outputs": [
    {
     "name": "stdout",
     "output_type": "stream",
     "text": [
      "False\n",
      "True\n",
      "True\n",
      "False\n",
      "True\n",
      "False\n"
     ]
    }
   ],
   "source": [
    "# Operadores de comparación\n",
    "\n",
    "a = 10\n",
    "b = 5\n",
    "\n",
    "# Igualdad\n",
    "print(a == b)\n",
    "\n",
    "# Desigualdad\n",
    "print(a != b)\n",
    "\n",
    "# Mayor que\n",
    "print(a > b)\n",
    "\n",
    "# Menor que\n",
    "print(a < b)\n",
    "\n",
    "# Mayor o igual que\n",
    "print(a >= b)\n",
    "\n",
    "# Menor o igual que\n",
    "print(a <= b)"
   ]
  },
  {
   "cell_type": "markdown",
   "metadata": {},
   "source": [
    "<div class=\"alert alert-block alert-info\">\n",
    "<b>\n",
    "\n",
    "## Ejercicio para clase:\n",
    "\n",
    "1. **Operaciones Aritméticas**\n",
    "    - Declara dos variables `a` y `b` con valores 15 y 7, respectivamente.\n",
    "    - Calcula la suma, resta, multiplicación, división, división entera, módulo y potencia de `a` y `b`.\n",
    "    - Imprime los resultados de cada operación.\n",
    "\n",
    "2. **Operaciones de Asignación**\n",
    "    - Declara una variable `x` con el valor 10.\n",
    "    - Utiliza las operaciones de asignación para modificar el valor de `x` con las siguientes operaciones: suma, resta, multiplicación, división, división entera, módulo y potencia.\n",
    "    - Imprime el valor de `x` después de cada operación.\n",
    "\n",
    "3. **Operaciones de Comparación**\n",
    "    - Declara dos variables `a` y `b` con valores 20 y 15, respectivamente.\n",
    "    - Realiza las siguientes comparaciones entre `a` y `b`: igualdad, desigualdad, mayor que, menor que, mayor o igual que, menor o igual que.\n",
    "    - Imprime los resultados de cada comparación.\n",
    "\n",
    "4. **Operaciones Lógicas**\n",
    "    - Declara dos variables booleanas `p` y `q` con valores `True` y `False`, respectivamente.\n",
    "    - Realiza las siguientes operaciones lógicas: AND, OR y NOT.\n",
    "    - Imprime los resultados de cada operación.\n",
    "\n",
    "5. **Operaciones con Cadenas de Texto**\n",
    "    - Declara dos variables `cadena1` y `cadena2` con los valores \"Hola\" y \"Mundo\", respectivamente.\n",
    "    - Concatenar `cadena1` y `cadena2` con un espacio en medio.\n",
    "    - Repite `cadena1` tres veces.\n",
    "    - Imprime los resultados de cada operación.\n",
    "\n"
   ]
  },
  {
   "cell_type": "code",
   "execution_count": 13,
   "metadata": {},
   "outputs": [
    {
     "name": "stdout",
     "output_type": "stream",
     "text": [
      "p AND q: False\n",
      "p OR q: True\n",
      "NOT p: True\n"
     ]
    }
   ],
   "source": [
    "p = False\n",
    "q = True\n",
    "print(f\"p AND q: {p and q}\")\n",
    "print(f\"p OR q: {p or q}\")\n",
    "print(f\"NOT p: {not p}\")"
   ]
  },
  {
   "cell_type": "markdown",
   "metadata": {},
   "source": [
    "## Función, clases, objetos y métodos\n",
    "\n",
    "**¿Qué es una Función?**\n",
    "\n",
    "* Es un bloque de código reutilizable que realiza una tarea específica. \n",
    "* Las funciones permiten organizar el código en módulos más pequeños y manejables, facilitando la lectura,\n",
    " el mantenimiento y la reutilización del código.\n",
    "\n",
    "* Características de una Función\n",
    "\n",
    "1. **Definición:** Una función se define utilizando una palabra clave específica del lenguaje de programación. \n",
    "En Python, se utiliza la palabra clave `def`.\n",
    "2. **Nombre:** Cada función tiene un nombre único que se utiliza para llamarla.\n",
    "3. **Parámetros:** Las funciones pueden aceptar uno o más parámetros (también llamados argumentos) que \n",
    "proporcionan información adicional necesaria para realizar su tarea.\n",
    "4. **Cuerpo:** El cuerpo de la función contiene el código que define lo que hace la función.\n",
    "5. **Retorno:** Las funciones pueden devolver un valor utilizando la palabra clave return."
   ]
  },
  {
   "cell_type": "code",
   "execution_count": 14,
   "metadata": {},
   "outputs": [],
   "source": [
    "def saludar(nombre, edad):\n",
    "    \"\"\"\n",
    "    Esta función toma dos argumentos, un nombre y una edad,\n",
    "    e imprime un saludo  personalizado.\n",
    "    \"\"\"\n",
    "    print(f\"Hola, mi nombre es {nombre} y tengo {edad} años.\")"
   ]
  },
  {
   "cell_type": "code",
   "execution_count": 15,
   "metadata": {},
   "outputs": [
    {
     "name": "stdout",
     "output_type": "stream",
     "text": [
      "Hola, mi nombre es Isabel y tengo 49 años.\n"
     ]
    }
   ],
   "source": [
    "saludar(\"Isabel\", 49)"
   ]
  },
  {
   "cell_type": "markdown",
   "metadata": {},
   "source": [
    "**¿Qué es una Clase y un objeto?**\n",
    "\n",
    "* En programación orientada a objetos, una clase es una plantilla o molde que define las propiedades (atributos) \n",
    "y comportamientos (métodos) que los objetos creados a partir de la clase tendrán. \n",
    "\n",
    "* Las clases permiten organizar y estructurar el código de manera que sea más fácil de entender, mantener y \n",
    "reutilizar.\n",
    "\n",
    "* Características de una Clase\n",
    "\n",
    "1. **Atributos**: Variables que pertenecen a la clase y describen las propiedades de los objetos.\n",
    "2. **Métodos**: Funciones que pertenecen a la clase y describen los comportamientos de los objetos.\n",
    "3. **Encapsulamiento**: Las clases permiten encapsular datos y métodos, protegiendo los datos internos \n",
    "del acceso directo desde fuera de la clase.\n",
    "4. **Herencia**: Las clases pueden heredar propiedades y métodos de otras clases, lo que permite la \n",
    "reutilización del código.\n",
    "5. **Polimorfismo**: Las clases pueden definir métodos que se comportan de manera diferente según el \n",
    "objeto que los invoque.\n",
    "\n",
    "\n",
    "* **Clase**: Es un molde o plantilla que define los atributos y métodos comunes a todos los objetos de ese tipo.\n",
    "* **Objeto**: Es una instancia de una clase. Cada objeto tiene su propio conjunto de valores para los \n",
    "atributos definidos en la clase.\n",
    "\n",
    "**¿Qué es un Método?**\n",
    "\n",
    "* Es una función que está asociada a un objeto. \n",
    "* Los métodos son funciones que operan sobre los datos contenidos en un objeto y pueden modificar el \n",
    "estado del objeto o realizar operaciones específicas relacionadas con el objeto.\n",
    "* Los métodos se definen dentro de una clase y se invocan en instancias de esa clase. \n",
    "* Los métodos permiten encapsular el comportamiento que es específico de los objetos de una clase.\n",
    "\n",
    "## Esta es la manera en las que estan incorporadas las funciones en python"
   ]
  },
  {
   "cell_type": "code",
   "execution_count": 16,
   "metadata": {},
   "outputs": [
    {
     "name": "stdout",
     "output_type": "stream",
     "text": [
      "Hola, mi nombre es Isabel y tengo 49 años.\n",
      "¡Feliz cumpleaños, Isabel! Ahora tienes 50 años.\n",
      "Hola, mi nombre es Juan y tengo 10 años.\n",
      "¡Feliz cumpleaños, Juan! Ahora tienes 11 años.\n"
     ]
    }
   ],
   "source": [
    "# Clase Persona\n",
    "class Persona:\n",
    "    # El método __init__ es un método especial llamado constructor\n",
    "    # que se ejecuta automáticamente cuando se crea una nueva\n",
    "    # instancia de la clase. Inicializa los atributos nombre y edad.\n",
    "    def __init__(self, nombre, edad):\n",
    "        self.nombre = nombre\n",
    "        self.edad = edad\n",
    "\n",
    "    def saludar(self):\n",
    "        print(f\"Hola, mi nombre es {self.nombre} y tengo {self.edad} años.\")\n",
    "\n",
    "    def cumplir_años(self):\n",
    "        self.edad += 1\n",
    "        print(f\"¡Feliz cumpleaños, {self.nombre}! Ahora tienes {self.edad} años.\")\n",
    "\n",
    "\n",
    "# Crear instancias de la clase Persona (objetos)\n",
    "personas = [Persona(\"Isabel\", 49), Persona(\"Juan\", 10)]\n",
    "\n",
    "# Llamar a los métodos de la instancia\n",
    "for persona in personas:\n",
    "    persona.saludar()\n",
    "    persona.cumplir_años()"
   ]
  },
  {
   "cell_type": "code",
   "execution_count": 17,
   "metadata": {},
   "outputs": [
    {
     "name": "stdout",
     "output_type": "stream",
     "text": [
      "Fin del programa\n"
     ]
    }
   ],
   "source": [
    "print(\"Fin del programa\")"
   ]
  },
  {
   "cell_type": "code",
   "execution_count": 18,
   "metadata": {},
   "outputs": [
    {
     "name": "stdout",
     "output_type": "stream",
     "text": [
      "Help on built-in function print in module builtins:\n",
      "\n",
      "print(*args, sep=' ', end='\\n', file=None, flush=False)\n",
      "    Prints the values to a stream, or to sys.stdout by default.\n",
      "\n",
      "    sep\n",
      "      string inserted between values, default a space.\n",
      "    end\n",
      "      string appended after the last value, default a newline.\n",
      "    file\n",
      "      a file-like object (stream); defaults to the current sys.stdout.\n",
      "    flush\n",
      "      whether to forcibly flush the stream.\n",
      "\n"
     ]
    }
   ],
   "source": [
    "# Mostrar la documentación de la función print\n",
    "\n",
    "# print.__doc__\n",
    "\n",
    "help(print)"
   ]
  },
  {
   "cell_type": "code",
   "execution_count": 19,
   "metadata": {},
   "outputs": [
    {
     "data": {
      "text/plain": [
       "['__doc__',\n",
       " '__file__',\n",
       " '__loader__',\n",
       " '__name__',\n",
       " '__package__',\n",
       " '__spec__',\n",
       " 'acos',\n",
       " 'acosh',\n",
       " 'asin',\n",
       " 'asinh',\n",
       " 'atan',\n",
       " 'atan2',\n",
       " 'atanh',\n",
       " 'cbrt',\n",
       " 'ceil',\n",
       " 'comb',\n",
       " 'copysign',\n",
       " 'cos',\n",
       " 'cosh',\n",
       " 'degrees',\n",
       " 'dist',\n",
       " 'e',\n",
       " 'erf',\n",
       " 'erfc',\n",
       " 'exp',\n",
       " 'exp2',\n",
       " 'expm1',\n",
       " 'fabs',\n",
       " 'factorial',\n",
       " 'floor',\n",
       " 'fmod',\n",
       " 'frexp',\n",
       " 'fsum',\n",
       " 'gamma',\n",
       " 'gcd',\n",
       " 'hypot',\n",
       " 'inf',\n",
       " 'isclose',\n",
       " 'isfinite',\n",
       " 'isinf',\n",
       " 'isnan',\n",
       " 'isqrt',\n",
       " 'lcm',\n",
       " 'ldexp',\n",
       " 'lgamma',\n",
       " 'log',\n",
       " 'log10',\n",
       " 'log1p',\n",
       " 'log2',\n",
       " 'modf',\n",
       " 'nan',\n",
       " 'nextafter',\n",
       " 'perm',\n",
       " 'pi',\n",
       " 'pow',\n",
       " 'prod',\n",
       " 'radians',\n",
       " 'remainder',\n",
       " 'sin',\n",
       " 'sinh',\n",
       " 'sqrt',\n",
       " 'sumprod',\n",
       " 'tan',\n",
       " 'tanh',\n",
       " 'tau',\n",
       " 'trunc',\n",
       " 'ulp']"
      ]
     },
     "execution_count": 19,
     "metadata": {},
     "output_type": "execute_result"
    }
   ],
   "source": [
    "#  Cargar el módulo math y mostrar la lista de funciones y constantes que contiene\n",
    "import math\n",
    "\n",
    "dir(math)"
   ]
  },
  {
   "cell_type": "markdown",
   "metadata": {},
   "source": [
    "## 2.2. Listas, tuplas y diccionarios"
   ]
  },
  {
   "cell_type": "markdown",
   "metadata": {},
   "source": [
    "**¿Qué son las Listas?**\n",
    "\n",
    "* Son estructuras de datos que permiten almacenar colecciones ordenadas y mutables de elementos. \n",
    "* Pueden contener elementos de diferentes tipos, incluyendo números, cadenas de texto, otros objetos e incluso otras listas.\n",
    "\n",
    "* Características de las Listas\n",
    "\n",
    "1. **Ordenadas**: Los elementos en una lista tienen un orden definido y cada elemento puede ser accedido mediante su índice.\n",
    "2. **Mutables**: Los elementos de una lista pueden ser modificados después de que la lista ha sido creada.\n",
    "3. **Heterogéneas**: Una lista puede contener elementos de diferentes tipos de datos.\n",
    "4. **Dinámicas**: Las listas pueden cambiar de tamaño, es decir, se pueden añadir o eliminar elementos.\n",
    "\n",
    "### Sintaxis para Crear una Lista\n",
    "\n",
    "    mi_lista = [elemento1, elemento2, elemento3, ...]"
   ]
  },
  {
   "cell_type": "code",
   "execution_count": 20,
   "metadata": {},
   "outputs": [
    {
     "name": "stdout",
     "output_type": "stream",
     "text": [
      "['manzana', 'banana', 'cereza']\n"
     ]
    }
   ],
   "source": [
    "# Crear una lista\n",
    "frutas = [\"manzana\", \"banana\", \"cereza\"]\n",
    "print(frutas)"
   ]
  },
  {
   "cell_type": "markdown",
   "metadata": {},
   "source": [
    "### Tuplas\n",
    "\n",
    "**¿Qué es una Tupla?**\n",
    "\n",
    "* Es una estructura de datos en Python que permite almacenar una colección ordenada de elementos. \n",
    "* Son inmutables, lo que significa que una vez creadas, sus elementos no pueden ser modificados. (A diferencia de las listas)\n",
    "* Pueden contener elementos de diferentes tipos, incluyendo números, cadenas de texto, listas, otras tuplas, etc.\n",
    "* Características de las Tuplas\n",
    "1. **Ordenadas:** Los elementos en una tupla tienen un orden definido y pueden ser accedidos mediante índices.\n",
    "2. **Inmutables:** Una vez creada, una tupla no puede ser modificada .\n",
    "3. **Heterogéneas:** Puede contener elementos de diferentes tipos de datos.\n",
    "4. **Acceso por índice:** Los índices comienzan desde 0.\n",
    "\n",
    "Las tuplas se definen utilizando paréntesis () y los elementos se separan por comas\n",
    "\n",
    "    mi_tupla = (elemento1, elemento2, elemento3, ...)"
   ]
  },
  {
   "cell_type": "code",
   "execution_count": 21,
   "metadata": {},
   "outputs": [
    {
     "name": "stdout",
     "output_type": "stream",
     "text": [
      "Coordenadas: (3, 5)\n",
      "Nombres: ('Isabel', 'Juan', 'María')\n",
      "Datos: ('Isabel', 49, 'México')\n",
      "Persona: (('Isabel', 49), ('Juan', 10))\n",
      "Tupla de listas: ([1, 2, 3], [4, 5, 6])\n"
     ]
    }
   ],
   "source": [
    "# Crear tuplas\n",
    "coordenadas = (3, 5)\n",
    "print(\"Coordenadas:\", coordenadas)\n",
    "\n",
    "# Tupla de Cadenas de Texto\n",
    "\n",
    "nombres = (\"Isabel\", \"Juan\", \"María\")\n",
    "print(\"Nombres:\", nombres)\n",
    "\n",
    "# Tupla Mixta\n",
    "datos = (\"Isabel\", 49, \"México\")\n",
    "print(\"Datos:\", datos)\n",
    "\n",
    "# Tupla Anidada\n",
    "persona = ((\"Isabel\", 49), (\"Juan\", 10))\n",
    "print(\"Persona:\", persona)\n",
    "\n",
    "# Tuplas de listas\n",
    "tupla_de_listas = ([1, 2, 3], [4, 5, 6])\n",
    "print(\"Tupla de listas:\", tupla_de_listas)"
   ]
  },
  {
   "cell_type": "markdown",
   "metadata": {},
   "source": [
    "### Diccionarios\n",
    "\n",
    "¿Qué es un diccionario?\n",
    "\n",
    "* Son estructuras de datos que permiten almacenar colecciones de pares clave-valor. Cada clave en un diccionario es única y se utiliza para acceder al valor asociado. \n",
    "* Son mutables, lo que significa que puedes modificar sus elementos después de haberlos creado.\n",
    "* Características de los Diccionarios\n",
    "1. **Clave-Valor:** Los diccionarios almacenan datos en pares clave-valor.\n",
    "2. **Únicas Claves:** Cada clave en un diccionario debe ser única.\n",
    "3. **Mutables:** Los diccionarios pueden ser modificados después de su creación.\n",
    "4. **Desordenados:** Los diccionarios no mantienen el orden de los elementos, solo mantienen el orden de inserción.\n",
    "\n",
    "* Sintaxis para Crear un Diccionario\n",
    "Los diccionarios se definen utilizando llaves {} y los pares clave-valor se separan por comas. Cada par clave-valor se separa por dos puntos :.\n",
    "\n",
    "    mi_diccionario = {\n",
    "        \"clave1\": \"valor1\",\n",
    "        \"clave2\": \"valor2\",\n",
    "        \"clave3\": \"valor3\"\n",
    "    }\n",
    "\n",
    "Para obtener una lista de los pares clave-valor de un diccionario se utiliza el método items\n",
    "\n",
    "items = persona.items()\n",
    "print(items)"
   ]
  },
  {
   "cell_type": "code",
   "execution_count": 22,
   "metadata": {},
   "outputs": [
    {
     "name": "stdout",
     "output_type": "stream",
     "text": [
      "Nombre: Isabel\n",
      "Datos actualizados: {'nombre': 'Isabel', 'edad': 50, 'curso': 'Física'}\n"
     ]
    }
   ],
   "source": [
    "# Crear diccionarios\n",
    "datos = {\"nombre\": \"Isabel\", \"edad\": 49, \"curso\": \"Física\"}\n",
    "print(\"Nombre:\", datos[\"nombre\"])\n",
    "datos[\"edad\"] += 1  # realizar una operación aritmética\n",
    "print(\"Datos actualizados:\", datos)"
   ]
  },
  {
   "cell_type": "markdown",
   "metadata": {},
   "source": [
    "## 2.3 Operaciones básicas con estructuras de datos\n"
   ]
  },
  {
   "cell_type": "markdown",
   "metadata": {},
   "source": [
    "### Listas"
   ]
  },
  {
   "cell_type": "code",
   "execution_count": 23,
   "metadata": {},
   "outputs": [
    {
     "name": "stdout",
     "output_type": "stream",
     "text": [
      "manzana\n",
      "banana\n",
      "cereza\n"
     ]
    }
   ],
   "source": [
    "# Acceder a elementos\n",
    "\n",
    "print(frutas[0])  # Salida: manzana\n",
    "print(frutas[1])  # Salida: banana\n",
    "print(frutas[2])  # Salida: cereza"
   ]
  },
  {
   "cell_type": "code",
   "execution_count": 24,
   "metadata": {},
   "outputs": [
    {
     "name": "stdout",
     "output_type": "stream",
     "text": [
      "['manzana', 'naranja', 'cereza']\n"
     ]
    }
   ],
   "source": [
    "# Modificar elementos\n",
    "frutas[1] = \"naranja\"\n",
    "print(frutas)"
   ]
  },
  {
   "cell_type": "code",
   "execution_count": 25,
   "metadata": {},
   "outputs": [
    {
     "name": "stdout",
     "output_type": "stream",
     "text": [
      "['manzana', 'naranja', 'cereza', 'kiwi']\n"
     ]
    }
   ],
   "source": [
    "# Añadir elementos\n",
    "frutas.append(\"kiwi\")  # El método append añadir el elemento al final de la lista\n",
    "print(frutas)"
   ]
  },
  {
   "cell_type": "code",
   "execution_count": 26,
   "metadata": {},
   "outputs": [
    {
     "name": "stdout",
     "output_type": "stream",
     "text": [
      "['manzana', 'pera', 'naranja', 'cereza', 'kiwi']\n"
     ]
    }
   ],
   "source": [
    "# Insertar elementos\n",
    "frutas.insert(\n",
    "    1, \"pera\"\n",
    ")  # el método insert añade un elemento en una posición específica\n",
    "print(frutas)"
   ]
  },
  {
   "cell_type": "code",
   "execution_count": 27,
   "metadata": {},
   "outputs": [
    {
     "name": "stdout",
     "output_type": "stream",
     "text": [
      "['manzana', 'pera', 'cereza', 'kiwi']\n"
     ]
    }
   ],
   "source": [
    "# Eliminar elementos\n",
    "frutas.remove(\"naranja\")\n",
    "print(frutas)  # Salida: ['manzana', 'pera', 'cereza', 'kiwi']"
   ]
  },
  {
   "cell_type": "code",
   "execution_count": 28,
   "metadata": {},
   "outputs": [
    {
     "name": "stdout",
     "output_type": "stream",
     "text": [
      "['manzana', 'pera', 'kiwi']\n",
      "cereza\n"
     ]
    }
   ],
   "source": [
    "# Eliminar y devolver elementos\n",
    "fruta_eliminada = frutas.pop(\n",
    "    2\n",
    ")  # el método pop elimina un elemento en una posición específica y\n",
    "# devuelve el elemento eliminado\n",
    "print(frutas)\n",
    "print(fruta_eliminada)"
   ]
  },
  {
   "cell_type": "code",
   "execution_count": 29,
   "metadata": {},
   "outputs": [
    {
     "name": "stdout",
     "output_type": "stream",
     "text": [
      "3\n"
     ]
    }
   ],
   "source": [
    "# Longitud de la lista\n",
    "print(len(frutas))"
   ]
  },
  {
   "cell_type": "code",
   "execution_count": 30,
   "metadata": {},
   "outputs": [
    {
     "name": "stdout",
     "output_type": "stream",
     "text": [
      "[1, 2, 3, 4, 5, 6]\n"
     ]
    }
   ],
   "source": [
    "# Concatenación de listas\n",
    "lista1 = [1, 2, 3]\n",
    "lista2 = [4, 5, 6]\n",
    "lista_concatenada = lista1 + lista2\n",
    "print(lista_concatenada)"
   ]
  },
  {
   "cell_type": "code",
   "execution_count": 31,
   "metadata": {},
   "outputs": [
    {
     "name": "stdout",
     "output_type": "stream",
     "text": [
      "['pera', 'kiwi']\n"
     ]
    }
   ],
   "source": [
    "# Rebanado (slicing)\n",
    "sublista = frutas[1:3]\n",
    "print(sublista)"
   ]
  },
  {
   "cell_type": "code",
   "execution_count": 32,
   "metadata": {},
   "outputs": [
    {
     "name": "stdout",
     "output_type": "stream",
     "text": [
      "Cuadrados: [1, 4, 9, 16, 25, 36, 49, 64, 81, 100]\n"
     ]
    }
   ],
   "source": [
    "# Crear una lista de los cuadrados de los números del 1 al 10\n",
    "cuadrados = [x**2 for x in range(1, 11)]\n",
    "print(\"Cuadrados:\", cuadrados)"
   ]
  },
  {
   "cell_type": "markdown",
   "metadata": {},
   "source": [
    "### Tuplas"
   ]
  },
  {
   "cell_type": "code",
   "execution_count": 33,
   "metadata": {},
   "outputs": [
    {
     "name": "stdout",
     "output_type": "stream",
     "text": [
      "manzana\n",
      "banana\n",
      "cereza\n"
     ]
    }
   ],
   "source": [
    "# Acceso a Elementos de una Tupla\n",
    "\n",
    "frutas = (\"manzana\", \"banana\", \"cereza\")\n",
    "print(frutas[0])\n",
    "print(frutas[1])\n",
    "print(frutas[2])"
   ]
  },
  {
   "cell_type": "code",
   "execution_count": 34,
   "metadata": {},
   "outputs": [
    {
     "name": "stdout",
     "output_type": "stream",
     "text": [
      "3\n"
     ]
    }
   ],
   "source": [
    "# Longitud de la Tupla\n",
    "\n",
    "print(len(frutas))"
   ]
  },
  {
   "cell_type": "code",
   "execution_count": 35,
   "metadata": {},
   "outputs": [
    {
     "name": "stdout",
     "output_type": "stream",
     "text": [
      "(1, 2, 3, 4, 5, 6)\n"
     ]
    }
   ],
   "source": [
    "# concatenación de tuplas\n",
    "\n",
    "tupla1 = (1, 2, 3)\n",
    "tupla2 = (4, 5, 6)\n",
    "\n",
    "tupla_concatenada = tupla1 + tupla2\n",
    "print(tupla_concatenada)"
   ]
  },
  {
   "cell_type": "code",
   "execution_count": 36,
   "metadata": {},
   "outputs": [
    {
     "name": "stdout",
     "output_type": "stream",
     "text": [
      "('banana', 'cereza')\n"
     ]
    }
   ],
   "source": [
    "# rebanar tuplas\n",
    "\n",
    "subtupla = frutas[1:3]\n",
    "\n",
    "print(subtupla)"
   ]
  },
  {
   "cell_type": "code",
   "execution_count": 37,
   "metadata": {},
   "outputs": [
    {
     "name": "stdout",
     "output_type": "stream",
     "text": [
      "x: 3\n",
      "y: 5\n"
     ]
    }
   ],
   "source": [
    "# Desempaquetado de Tuplas: Asignar las variables de una tupla a variables individuales\n",
    "\n",
    "coordenadas = (3, 5)\n",
    "x, y = coordenadas\n",
    "print(\"x:\", x)\n",
    "print(\"y:\", y)"
   ]
  },
  {
   "cell_type": "markdown",
   "metadata": {},
   "source": [
    "### Diccionarios"
   ]
  },
  {
   "cell_type": "code",
   "execution_count": 38,
   "metadata": {},
   "outputs": [
    {
     "name": "stdout",
     "output_type": "stream",
     "text": [
      "{'nombre': 'Isabel', 'edad': 26, 'ciudad': 'México', 'profesion': 'Ingeniera'}\n"
     ]
    }
   ],
   "source": [
    "# Modificar un valor existente\n",
    "persona = {\"nombre\": \"Isabel\", \"edad\": 49, \"ciudad\": \"México\"}\n",
    "\n",
    "# Modificar un valor existente\n",
    "persona[\"edad\"] = 26\n",
    "\n",
    "# Añadir un nuevo par clave-valor\n",
    "persona[\"profesion\"] = \"Ingeniera\"\n",
    "\n",
    "print(persona)"
   ]
  },
  {
   "cell_type": "code",
   "execution_count": 39,
   "metadata": {},
   "outputs": [
    {
     "name": "stdout",
     "output_type": "stream",
     "text": [
      "{'nombre': 'Isabel', 'edad': 49, 'curso': 'Física'}\n"
     ]
    }
   ],
   "source": [
    "# Crear un diccionario vacío\n",
    "diccionario = {}\n",
    "\n",
    "# Añadir elementos\n",
    "diccionario[\"nombre\"] = \"Isabel\"\n",
    "diccionario[\"edad\"] = 49\n",
    "diccionario[\"curso\"] = \"Física\"\n",
    "print(diccionario)"
   ]
  },
  {
   "cell_type": "code",
   "execution_count": 40,
   "metadata": {},
   "outputs": [
    {
     "name": "stdout",
     "output_type": "stream",
     "text": [
      "Isabel\n",
      "49\n",
      "México\n",
      "49\n"
     ]
    }
   ],
   "source": [
    "# Los elementos de un diccionario se acceden utilizando las claves.\n",
    "\n",
    "persona = {\"nombre\": \"Isabel\", \"edad\": 49, \"ciudad\": \"México\"}\n",
    "\n",
    "print(persona[\"nombre\"])\n",
    "print(persona[\"edad\"])\n",
    "print(persona[\"ciudad\"])\n",
    "\n",
    "# Los valor de una clave se obtiene con el método get\n",
    "edad = persona.get(\"edad\")\n",
    "print(edad)"
   ]
  },
  {
   "cell_type": "code",
   "execution_count": 41,
   "metadata": {},
   "outputs": [
    {
     "name": "stdout",
     "output_type": "stream",
     "text": [
      "México\n",
      "{'nombre': 'Isabel', 'edad': 49}\n"
     ]
    }
   ],
   "source": [
    "# Una par clave-valor se eliminan con el método pop\n",
    "ciudad = persona.pop(\"ciudad\")\n",
    "print(ciudad)\n",
    "print(persona)"
   ]
  },
  {
   "cell_type": "code",
   "execution_count": 42,
   "metadata": {},
   "outputs": [
    {
     "name": "stdout",
     "output_type": "stream",
     "text": [
      "dict_keys(['nombre', 'edad'])\n"
     ]
    }
   ],
   "source": [
    "# Para obtener una lista de las claves de un diccionario se utiliza el método keys\n",
    "\n",
    "claves = persona.keys()\n",
    "print(claves)"
   ]
  },
  {
   "cell_type": "code",
   "execution_count": 43,
   "metadata": {},
   "outputs": [
    {
     "name": "stdout",
     "output_type": "stream",
     "text": [
      "dict_values(['Isabel', 49])\n"
     ]
    }
   ],
   "source": [
    "# Para obtener una lista de los valores de un diccionario se utiliza el método values\n",
    "\n",
    "valores = persona.values()\n",
    "print(valores)"
   ]
  },
  {
   "cell_type": "markdown",
   "metadata": {},
   "source": [
    "<div class=\"alert alert-block alert-info\">\n",
    "<b>\n",
    "\n",
    "## Ejercicio para clase:\n",
    "\n",
    "6. **Operaciones con Listas**\n",
    "    - Declara una lista `numeros` con los valores [1, 2, 3, 4, 5].\n",
    "    - Añade el número 6 al final de la lista.\n",
    "    - Inserta el número 0 al inicio de la lista.\n",
    "    - Elimina el número 3 de la lista.\n",
    "    - Imprime la lista final y su longitud.\n",
    "\n",
    "7. **Operaciones con Diccionarios**\n",
    "    - Declara un diccionario `alumno` con las claves \"nombre\", \"edad\" y \"curso\", y asigna valores apropiados.\n",
    "    - Modifica el valor de la clave \"edad\" para que sea un año mayor.\n",
    "    - Añade una nueva clave llamada \"ciudad\" con el valor de tu ciudad.\n",
    "    - Elimina la clave \"curso\" del diccionario.\n",
    "    - Imprime el diccionario final y la lista de sus claves y valores.\n",
    "\n",
    "8. **Variables y Tipos de Datos**\n",
    "    - Declara una variable llamada `nombre` y asígnale tu nombre.\n",
    "    - Declara una variable llamada `edad` y asígnale tu edad.\n",
    "    - Declara una variable llamada `altura` y asígnale tu altura en metros.\n",
    "    - Declara una variable llamada `es_estudiante` y asígnale un valor booleano que indique si eres estudiante o no.\n",
    "    - Imprime los valores de todas las variables.\n",
    "\n",
    "9. **Conversión de Números**\n",
    "    - Escribe una función llamada `decimal_a_binario` que convierta un número decimal a binario.\n",
    "    - Escribe una función llamada `binario_a_decimal` que convierta un número binario a decimal.\n",
    "    - Prueba ambas funciones con el número decimal 25 y el número binario \"11001\".\n",
    "\n",
    "10. **Listas**\n",
    "    - Crea una lista llamada `colores` que contenga los colores \"rojo\", \"verde\" y \"azul\".\n",
    "    - Añade el color \"amarillo\" al final de la lista.\n",
    "    - Inserta el color \"naranja\" en la segunda posición de la lista.\n",
    "    - Elimina el color \"verde\" de la lista.\n",
    "    - Imprime la lista final y su longitud.\n",
    "\n",
    "11. **Tuplas**\n",
    "    - Crea una tupla llamada `puntos` que contenga los números 10, 20 y 30.\n",
    "    - Accede e imprime el primer y el último elemento de la tupla.\n",
    "    - Desempaqueta la tupla en tres variables llamadas `a`, `b` y `c`.\n",
    "    - Imprime los valores de `a`, `b` y `c`.\n",
    "\n",
    "12. **Diccionarios**\n",
    "    - Crea un diccionario llamado `alumno` con las claves \"nombre\", \"edad\" y \"curso\", y asigna valores apropiados.\n",
    "    - Modifica el valor de la clave \"edad\" para que sea un año mayor.\n",
    "    - Añade una nueva clave llamada \"ciudad\" con el valor de tu ciudad.\n",
    "    - Elimina la clave \"curso\" del diccionario.\n",
    "    - Imprime el diccionario final y la lista de sus claves y valores."
   ]
  }
 ],
 "metadata": {
  "kernelspec": {
   "display_name": "base",
   "language": "python",
   "name": "python3"
  },
  "language_info": {
   "codemirror_mode": {
    "name": "ipython",
    "version": 3
   },
   "file_extension": ".py",
   "mimetype": "text/x-python",
   "name": "python",
   "nbconvert_exporter": "python",
   "pygments_lexer": "ipython3",
   "version": "3.12.8"
  }
 },
 "nbformat": 4,
 "nbformat_minor": 2
}
